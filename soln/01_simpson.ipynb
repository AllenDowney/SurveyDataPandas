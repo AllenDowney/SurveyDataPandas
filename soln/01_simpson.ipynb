{
 "cells": [
  {
   "cell_type": "markdown",
   "id": "4a54069c",
   "metadata": {
    "tags": []
   },
   "source": [
    "# Survey Data with Pandas and StatsModels\n",
    "\n",
    "Tutorial for PyCon 2025\n",
    "\n",
    "Allen B. Downey"
   ]
  },
  {
   "cell_type": "markdown",
   "id": "ae03b77a",
   "metadata": {
    "tags": []
   },
   "source": [
    "[Click here to run this notebook on Colab](https://colab.research.google.com/github/AllenDowney/SurveyDataPandas/blob/main/notebooks/01_simpson.ipynb)."
   ]
  },
  {
   "cell_type": "code",
   "execution_count": 1,
   "id": "f60872eb",
   "metadata": {},
   "outputs": [],
   "source": [
    "import pandas as pd\n",
    "import numpy as np\n",
    "import matplotlib.pyplot as plt\n",
    "import seaborn as sns"
   ]
  },
  {
   "cell_type": "code",
   "execution_count": 2,
   "id": "81d5b707",
   "metadata": {
    "tags": [
     "hide-cell"
    ]
   },
   "outputs": [],
   "source": [
    "# Configure Matplotlib\n",
    "\n",
    "plt.rcParams[\"figure.figsize\"] = 7, 3.5\n",
    "plt.rcParams[\"figure.dpi\"] = 75\n",
    "plt.rcParams[\"axes.titlelocation\"] = \"left\"\n",
    "plt.rcParams[\"axes.spines.top\"] = False\n",
    "plt.rcParams[\"axes.spines.bottom\"] = False\n",
    "plt.rcParams[\"axes.spines.left\"] = False\n",
    "plt.rcParams[\"axes.spines.right\"] = False"
   ]
  },
  {
   "cell_type": "code",
   "execution_count": 3,
   "id": "43b4dbf5",
   "metadata": {},
   "outputs": [],
   "source": [
    "from os.path import basename, exists\n",
    "\n",
    "def download(url):\n",
    "    filename = basename(url)\n",
    "    if not exists(filename):\n",
    "        from urllib.request import urlretrieve\n",
    "        local, _ = urlretrieve(url, filename)\n",
    "        print('Downloaded ' + local)"
   ]
  },
  {
   "cell_type": "code",
   "execution_count": 4,
   "id": "8f844b4e",
   "metadata": {},
   "outputs": [],
   "source": [
    "def decorate(**options):\n",
    "    \"\"\"Decorate the current axes.\n",
    "\n",
    "    Call decorate with keyword arguments like\n",
    "    decorate(title='Title',\n",
    "             xlabel='x',\n",
    "             ylabel='y')\n",
    "\n",
    "    The keyword arguments can be any of the axis properties\n",
    "    https://matplotlib.org/api/axes_api.html\n",
    "    \"\"\"\n",
    "    legend = options.pop(\"legend\", True)\n",
    "    loc = options.pop(\"loc\", \"best\")\n",
    "\n",
    "    # Pass options to Axis.set\n",
    "    ax = plt.gca()\n",
    "    ax.set(**options)\n",
    "\n",
    "    # Add a legend if there are any labeled elements\n",
    "    handles, labels = ax.get_legend_handles_labels()\n",
    "    if handles and legend:\n",
    "        ax.legend(handles, labels, loc=loc)\n",
    "\n",
    "    # Tight layout is generally a good idea\n",
    "    plt.tight_layout()"
   ]
  },
  {
   "cell_type": "markdown",
   "id": "f17a6470",
   "metadata": {
    "tags": []
   },
   "source": [
    "## Data\n",
    "\n",
    "We will use data from the [General Social Survey](https://gss.norc.org/) (GSS).\n",
    "The raw dataset is big, so I've prepared an extract, which the following cell downloads.\n",
    "The code to generate the extract is [in this notebook](https://github.com/AllenDowney/GssExtract/blob/main/notebooks/02_make_extract-2022_4.ipynb)."
   ]
  },
  {
   "cell_type": "code",
   "execution_count": 5,
   "id": "5b8c8edb",
   "metadata": {},
   "outputs": [],
   "source": [
    "# This dataset is prepared in the GssExtract repository\n",
    "\n",
    "DATA_PATH = \"https://github.com/AllenDowney/GssExtract/raw/main/data/interim/\"\n",
    "\n",
    "filename = \"gss_extract_pacs_workshop.hdf\"\n",
    "download(DATA_PATH + filename)"
   ]
  },
  {
   "cell_type": "code",
   "execution_count": 6,
   "id": "f033ca49",
   "metadata": {
    "tags": []
   },
   "outputs": [
    {
     "data": {
      "text/plain": [
       "(72390, 29)"
      ]
     },
     "execution_count": 6,
     "metadata": {},
     "output_type": "execute_result"
    }
   ],
   "source": [
    "# Solution\n",
    "\n",
    "gss = pd.read_hdf(filename, \"gss\")\n",
    "gss.shape"
   ]
  },
  {
   "cell_type": "code",
   "execution_count": 7,
   "id": "f7c4a735",
   "metadata": {},
   "outputs": [
    {
     "data": {
      "text/html": [
       "<div>\n",
       "<style scoped>\n",
       "    .dataframe tbody tr th:only-of-type {\n",
       "        vertical-align: middle;\n",
       "    }\n",
       "\n",
       "    .dataframe tbody tr th {\n",
       "        vertical-align: top;\n",
       "    }\n",
       "\n",
       "    .dataframe thead th {\n",
       "        text-align: right;\n",
       "    }\n",
       "</style>\n",
       "<table border=\"1\" class=\"dataframe\">\n",
       "  <thead>\n",
       "    <tr style=\"text-align: right;\">\n",
       "      <th></th>\n",
       "      <th>age</th>\n",
       "      <th>attend</th>\n",
       "      <th>ballot</th>\n",
       "      <th>class</th>\n",
       "      <th>cohort</th>\n",
       "      <th>degree</th>\n",
       "      <th>educ</th>\n",
       "      <th>fair</th>\n",
       "      <th>fear</th>\n",
       "      <th>goodlife</th>\n",
       "      <th>...</th>\n",
       "      <th>region</th>\n",
       "      <th>relig</th>\n",
       "      <th>rincome</th>\n",
       "      <th>satfin</th>\n",
       "      <th>satjob</th>\n",
       "      <th>sex</th>\n",
       "      <th>srcbelt</th>\n",
       "      <th>trust</th>\n",
       "      <th>wtssall</th>\n",
       "      <th>year</th>\n",
       "    </tr>\n",
       "  </thead>\n",
       "  <tbody>\n",
       "    <tr>\n",
       "      <th>0</th>\n",
       "      <td>24.0</td>\n",
       "      <td>1.0</td>\n",
       "      <td>NaN</td>\n",
       "      <td>3.0</td>\n",
       "      <td>1948.0</td>\n",
       "      <td>3.0</td>\n",
       "      <td>16.0</td>\n",
       "      <td>2.0</td>\n",
       "      <td>NaN</td>\n",
       "      <td>NaN</td>\n",
       "      <td>...</td>\n",
       "      <td>1</td>\n",
       "      <td>1.0</td>\n",
       "      <td>NaN</td>\n",
       "      <td>1.0</td>\n",
       "      <td>NaN</td>\n",
       "      <td>1.0</td>\n",
       "      <td>5.0</td>\n",
       "      <td>1.0</td>\n",
       "      <td>1.3339</td>\n",
       "      <td>1972</td>\n",
       "    </tr>\n",
       "    <tr>\n",
       "      <th>1</th>\n",
       "      <td>33.0</td>\n",
       "      <td>2.0</td>\n",
       "      <td>NaN</td>\n",
       "      <td>2.0</td>\n",
       "      <td>1939.0</td>\n",
       "      <td>0.0</td>\n",
       "      <td>10.0</td>\n",
       "      <td>2.0</td>\n",
       "      <td>NaN</td>\n",
       "      <td>NaN</td>\n",
       "      <td>...</td>\n",
       "      <td>1</td>\n",
       "      <td>2.0</td>\n",
       "      <td>NaN</td>\n",
       "      <td>3.0</td>\n",
       "      <td>2.0</td>\n",
       "      <td>1.0</td>\n",
       "      <td>1.0</td>\n",
       "      <td>1.0</td>\n",
       "      <td>0.8893</td>\n",
       "      <td>1972</td>\n",
       "    </tr>\n",
       "    <tr>\n",
       "      <th>2</th>\n",
       "      <td>40.0</td>\n",
       "      <td>8.0</td>\n",
       "      <td>NaN</td>\n",
       "      <td>2.0</td>\n",
       "      <td>1932.0</td>\n",
       "      <td>1.0</td>\n",
       "      <td>12.0</td>\n",
       "      <td>2.0</td>\n",
       "      <td>NaN</td>\n",
       "      <td>NaN</td>\n",
       "      <td>...</td>\n",
       "      <td>1</td>\n",
       "      <td>5.0</td>\n",
       "      <td>NaN</td>\n",
       "      <td>1.0</td>\n",
       "      <td>NaN</td>\n",
       "      <td>2.0</td>\n",
       "      <td>3.0</td>\n",
       "      <td>2.0</td>\n",
       "      <td>1.3339</td>\n",
       "      <td>1972</td>\n",
       "    </tr>\n",
       "    <tr>\n",
       "      <th>3</th>\n",
       "      <td>24.0</td>\n",
       "      <td>2.0</td>\n",
       "      <td>NaN</td>\n",
       "      <td>2.0</td>\n",
       "      <td>1948.0</td>\n",
       "      <td>1.0</td>\n",
       "      <td>12.0</td>\n",
       "      <td>1.0</td>\n",
       "      <td>NaN</td>\n",
       "      <td>NaN</td>\n",
       "      <td>...</td>\n",
       "      <td>9</td>\n",
       "      <td>2.0</td>\n",
       "      <td>NaN</td>\n",
       "      <td>2.0</td>\n",
       "      <td>NaN</td>\n",
       "      <td>1.0</td>\n",
       "      <td>3.0</td>\n",
       "      <td>2.0</td>\n",
       "      <td>1.7786</td>\n",
       "      <td>1972</td>\n",
       "    </tr>\n",
       "    <tr>\n",
       "      <th>4</th>\n",
       "      <td>21.0</td>\n",
       "      <td>7.0</td>\n",
       "      <td>NaN</td>\n",
       "      <td>3.0</td>\n",
       "      <td>1951.0</td>\n",
       "      <td>1.0</td>\n",
       "      <td>12.0</td>\n",
       "      <td>1.0</td>\n",
       "      <td>NaN</td>\n",
       "      <td>NaN</td>\n",
       "      <td>...</td>\n",
       "      <td>9</td>\n",
       "      <td>1.0</td>\n",
       "      <td>NaN</td>\n",
       "      <td>1.0</td>\n",
       "      <td>NaN</td>\n",
       "      <td>2.0</td>\n",
       "      <td>2.0</td>\n",
       "      <td>NaN</td>\n",
       "      <td>1.7786</td>\n",
       "      <td>1972</td>\n",
       "    </tr>\n",
       "  </tbody>\n",
       "</table>\n",
       "<p>5 rows × 29 columns</p>\n",
       "</div>"
      ],
      "text/plain": [
       "    age  attend  ballot  class  cohort  degree  educ  fair  fear  goodlife  \\\n",
       "0  24.0     1.0     NaN    3.0  1948.0     3.0  16.0   2.0   NaN       NaN   \n",
       "1  33.0     2.0     NaN    2.0  1939.0     0.0  10.0   2.0   NaN       NaN   \n",
       "2  40.0     8.0     NaN    2.0  1932.0     1.0  12.0   2.0   NaN       NaN   \n",
       "3  24.0     2.0     NaN    2.0  1948.0     1.0  12.0   1.0   NaN       NaN   \n",
       "4  21.0     7.0     NaN    3.0  1951.0     1.0  12.0   1.0   NaN       NaN   \n",
       "\n",
       "   ...  region  relig  rincome  satfin  satjob  sex  srcbelt  trust  wtssall  \\\n",
       "0  ...       1    1.0      NaN     1.0     NaN  1.0      5.0    1.0   1.3339   \n",
       "1  ...       1    2.0      NaN     3.0     2.0  1.0      1.0    1.0   0.8893   \n",
       "2  ...       1    5.0      NaN     1.0     NaN  2.0      3.0    2.0   1.3339   \n",
       "3  ...       9    2.0      NaN     2.0     NaN  1.0      3.0    2.0   1.7786   \n",
       "4  ...       9    1.0      NaN     1.0     NaN  2.0      2.0    NaN   1.7786   \n",
       "\n",
       "   year  \n",
       "0  1972  \n",
       "1  1972  \n",
       "2  1972  \n",
       "3  1972  \n",
       "4  1972  \n",
       "\n",
       "[5 rows x 29 columns]"
      ]
     },
     "execution_count": 7,
     "metadata": {},
     "output_type": "execute_result"
    }
   ],
   "source": [
    "# Solution\n",
    "\n",
    "gss.head()"
   ]
  },
  {
   "cell_type": "code",
   "execution_count": 8,
   "id": "abd8dfc4",
   "metadata": {},
   "outputs": [
    {
     "data": {
      "text/plain": [
       "Index(['age', 'attend', 'ballot', 'class', 'cohort', 'degree', 'educ', 'fair',\n",
       "       'fear', 'goodlife', 'hapmar', 'happy', 'health', 'helpful', 'id',\n",
       "       'life', 'partyid', 'polviews', 'race', 'region', 'relig', 'rincome',\n",
       "       'satfin', 'satjob', 'sex', 'srcbelt', 'trust', 'wtssall', 'year'],\n",
       "      dtype='object')"
      ]
     },
     "execution_count": 8,
     "metadata": {},
     "output_type": "execute_result"
    }
   ],
   "source": [
    "# Solution\n",
    "\n",
    "gss.columns"
   ]
  },
  {
   "cell_type": "code",
   "execution_count": 9,
   "id": "4215dd58",
   "metadata": {},
   "outputs": [
    {
     "data": {
      "text/plain": [
       "id          0.000000\n",
       "year        0.000000\n",
       "wtssall     0.000000\n",
       "region      0.000000\n",
       "srcbelt     0.000718\n",
       "race        0.001796\n",
       "sex         0.002086\n",
       "degree      0.002942\n",
       "educ        0.004338\n",
       "cohort      0.005567\n",
       "relig       0.007087\n",
       "partyid     0.007294\n",
       "attend      0.009711\n",
       "age         0.010416\n",
       "class       0.048501\n",
       "satfin      0.063641\n",
       "happy       0.065106\n",
       "polviews    0.131620\n",
       "health      0.236552\n",
       "satjob      0.265064\n",
       "ballot      0.302183\n",
       "fear        0.365147\n",
       "life        0.386669\n",
       "rincome     0.402086\n",
       "trust       0.410982\n",
       "helpful     0.414090\n",
       "fair        0.415665\n",
       "hapmar      0.468241\n",
       "goodlife    0.631924\n",
       "dtype: float64"
      ]
     },
     "execution_count": 9,
     "metadata": {},
     "output_type": "execute_result"
    }
   ],
   "source": [
    "# Solution\n",
    "\n",
    "gss.isna().mean().sort_values()"
   ]
  },
  {
   "cell_type": "markdown",
   "id": "7c05a638",
   "metadata": {},
   "source": [
    "## Distributions\n",
    "\n",
    "We'll see two ways to describe distributions: value counts and KDE.\n",
    "\n",
    "And for joint distributions, we'll use a cross tabulation."
   ]
  },
  {
   "cell_type": "code",
   "execution_count": 10,
   "id": "95318a8f",
   "metadata": {},
   "outputs": [],
   "source": [
    "def value_counts(seq, **options):\n",
    "    \"\"\"Make a series of values and the number of times they appear.\n",
    "\n",
    "    Args:\n",
    "        seq: sequence\n",
    "\n",
    "    returns: Pandas Series\n",
    "    \"\"\"\n",
    "    return pd.Series(seq).value_counts(**options).sort_index()"
   ]
  },
  {
   "cell_type": "code",
   "execution_count": 103,
   "id": "71cee517",
   "metadata": {},
   "outputs": [
    {
     "data": {
      "image/png": "[encoded data removed]",
      "text/plain": [
       "<Figure size 525x262.5 with 1 Axes>"
      ]
     },
     "metadata": {},
     "output_type": "display_data"
    }
   ],
   "source": [
    "# Solution\n",
    "\n",
    "pmf = value_counts(gss['year'])\n",
    "pmf.plot(kind='bar')\n",
    "decorate()"
   ]
  },
  {
   "cell_type": "code",
   "execution_count": 104,
   "id": "cfd03e00",
   "metadata": {},
   "outputs": [
    {
     "data": {
      "image/png": "[encoded data removed]",
      "text/plain": [
       "<Figure size 525x262.5 with 1 Axes>"
      ]
     },
     "metadata": {},
     "output_type": "display_data"
    }
   ],
   "source": [
    "# Solution\n",
    "\n",
    "x, y = pmf.index, pmf.values\n",
    "plt.bar(x, y)\n",
    "decorate()"
   ]
  },
  {
   "cell_type": "code",
   "execution_count": 12,
   "id": "175bb409",
   "metadata": {},
   "outputs": [
    {
     "data": {
      "text/plain": [
       "count    71636.000000\n",
       "mean        44.985943\n",
       "std         17.201666\n",
       "min         18.000000\n",
       "25%         30.000000\n",
       "50%         43.000000\n",
       "75%         58.000000\n",
       "max         89.000000\n",
       "Name: age, dtype: float64"
      ]
     },
     "execution_count": 12,
     "metadata": {},
     "output_type": "execute_result"
    }
   ],
   "source": [
    "# Solution\n",
    "\n",
    "gss['age'].describe()"
   ]
  },
  {
   "cell_type": "code",
   "execution_count": 13,
   "id": "b1ef24fe",
   "metadata": {},
   "outputs": [
    {
     "data": {
      "image/png": "[encoded data removed]",
      "text/plain": [
       "<Figure size 525x262.5 with 1 Axes>"
      ]
     },
     "metadata": {},
     "output_type": "display_data"
    }
   ],
   "source": [
    "# Solution\n",
    "\n",
    "sns.kdeplot(gss['age'], cut=0)\n",
    "decorate()"
   ]
  },
  {
   "cell_type": "code",
   "execution_count": 14,
   "id": "32f61c21",
   "metadata": {},
   "outputs": [
    {
     "data": {
      "text/plain": [
       "count    71987.000000\n",
       "mean      1991.908095\n",
       "std        561.717010\n",
       "min       1883.000000\n",
       "25%       1938.000000\n",
       "50%       1954.000000\n",
       "75%       1968.000000\n",
       "max       9999.000000\n",
       "Name: cohort, dtype: float64"
      ]
     },
     "execution_count": 14,
     "metadata": {},
     "output_type": "execute_result"
    }
   ],
   "source": [
    "# Solution\n",
    "\n",
    "gss['cohort'].describe()"
   ]
  },
  {
   "cell_type": "code",
   "execution_count": 15,
   "id": "e82a27d0",
   "metadata": {},
   "outputs": [],
   "source": [
    "# Solution\n",
    "\n",
    "gss['cohort'] = gss['cohort'].replace(9999, np.nan)"
   ]
  },
  {
   "cell_type": "markdown",
   "id": "2abf720b",
   "metadata": {},
   "source": [
    "### Exercise\n",
    "\n",
    "Use `value_counts` to plot the distribution of `cohort` as a bar plot.\n",
    "Then use `sns.kdeplot` to show the same distribution as a continuous quantity."
   ]
  },
  {
   "cell_type": "code",
   "execution_count": 101,
   "id": "7ee1f5dd",
   "metadata": {},
   "outputs": [
    {
     "data": {
      "image/png": "[encoded data removed]",
      "text/plain": [
       "<Figure size 525x262.5 with 1 Axes>"
      ]
     },
     "metadata": {},
     "output_type": "display_data"
    }
   ],
   "source": [
    "# Solution\n",
    "\n",
    "pmf = value_counts(gss['cohort'])\n",
    "pmf.plot(kind='bar')\n",
    "decorate(ylabel='Count')"
   ]
  },
  {
   "cell_type": "code",
   "execution_count": 102,
   "id": "91fb89cc",
   "metadata": {},
   "outputs": [
    {
     "data": {
      "image/png": "[encoded data removed]",
      "text/plain": [
       "<Figure size 525x262.5 with 1 Axes>"
      ]
     },
     "metadata": {},
     "output_type": "display_data"
    }
   ],
   "source": [
    "# Solution\n",
    "\n",
    "x, y = pmf.index, pmf.values\n",
    "plt.bar(x, y)\n",
    "decorate(ylabel='Count')"
   ]
  },
  {
   "cell_type": "code",
   "execution_count": 16,
   "id": "2b535d1f",
   "metadata": {},
   "outputs": [
    {
     "data": {
      "image/png": "[encoded data removed]",
      "text/plain": [
       "<Figure size 525x262.5 with 1 Axes>"
      ]
     },
     "metadata": {},
     "output_type": "display_data"
    }
   ],
   "source": [
    "# Solution\n",
    "\n",
    "sns.kdeplot(gss['cohort'], cut=0)\n",
    "decorate()"
   ]
  },
  {
   "cell_type": "markdown",
   "id": "e08ca092",
   "metadata": {},
   "source": [
    "## Cross tabulation\n",
    "\n",
    "Cross tabulation is a way to represent the joint distribution of two variables."
   ]
  },
  {
   "cell_type": "code",
   "execution_count": 95,
   "id": "5d5b9f7b",
   "metadata": {},
   "outputs": [
    {
     "data": {
      "text/html": [
       "<div>\n",
       "<style scoped>\n",
       "    .dataframe tbody tr th:only-of-type {\n",
       "        vertical-align: middle;\n",
       "    }\n",
       "\n",
       "    .dataframe tbody tr th {\n",
       "        vertical-align: top;\n",
       "    }\n",
       "\n",
       "    .dataframe thead th {\n",
       "        text-align: right;\n",
       "    }\n",
       "</style>\n",
       "<table border=\"1\" class=\"dataframe\">\n",
       "  <thead>\n",
       "    <tr style=\"text-align: right;\">\n",
       "      <th>age</th>\n",
       "      <th>18.0</th>\n",
       "      <th>19.0</th>\n",
       "      <th>20.0</th>\n",
       "      <th>21.0</th>\n",
       "      <th>22.0</th>\n",
       "      <th>23.0</th>\n",
       "      <th>24.0</th>\n",
       "      <th>25.0</th>\n",
       "      <th>26.0</th>\n",
       "      <th>27.0</th>\n",
       "      <th>...</th>\n",
       "      <th>80.0</th>\n",
       "      <th>81.0</th>\n",
       "      <th>82.0</th>\n",
       "      <th>83.0</th>\n",
       "      <th>84.0</th>\n",
       "      <th>85.0</th>\n",
       "      <th>86.0</th>\n",
       "      <th>87.0</th>\n",
       "      <th>88.0</th>\n",
       "      <th>89.0</th>\n",
       "    </tr>\n",
       "    <tr>\n",
       "      <th>cohort</th>\n",
       "      <th></th>\n",
       "      <th></th>\n",
       "      <th></th>\n",
       "      <th></th>\n",
       "      <th></th>\n",
       "      <th></th>\n",
       "      <th></th>\n",
       "      <th></th>\n",
       "      <th></th>\n",
       "      <th></th>\n",
       "      <th></th>\n",
       "      <th></th>\n",
       "      <th></th>\n",
       "      <th></th>\n",
       "      <th></th>\n",
       "      <th></th>\n",
       "      <th></th>\n",
       "      <th></th>\n",
       "      <th></th>\n",
       "      <th></th>\n",
       "      <th></th>\n",
       "    </tr>\n",
       "  </thead>\n",
       "  <tbody>\n",
       "    <tr>\n",
       "      <th>1883.0</th>\n",
       "      <td>0</td>\n",
       "      <td>0</td>\n",
       "      <td>0</td>\n",
       "      <td>0</td>\n",
       "      <td>0</td>\n",
       "      <td>0</td>\n",
       "      <td>0</td>\n",
       "      <td>0</td>\n",
       "      <td>0</td>\n",
       "      <td>0</td>\n",
       "      <td>...</td>\n",
       "      <td>0</td>\n",
       "      <td>0</td>\n",
       "      <td>0</td>\n",
       "      <td>0</td>\n",
       "      <td>0</td>\n",
       "      <td>0</td>\n",
       "      <td>0</td>\n",
       "      <td>0</td>\n",
       "      <td>0</td>\n",
       "      <td>1</td>\n",
       "    </tr>\n",
       "    <tr>\n",
       "      <th>1884.0</th>\n",
       "      <td>0</td>\n",
       "      <td>0</td>\n",
       "      <td>0</td>\n",
       "      <td>0</td>\n",
       "      <td>0</td>\n",
       "      <td>0</td>\n",
       "      <td>0</td>\n",
       "      <td>0</td>\n",
       "      <td>0</td>\n",
       "      <td>0</td>\n",
       "      <td>...</td>\n",
       "      <td>0</td>\n",
       "      <td>0</td>\n",
       "      <td>0</td>\n",
       "      <td>0</td>\n",
       "      <td>0</td>\n",
       "      <td>0</td>\n",
       "      <td>0</td>\n",
       "      <td>0</td>\n",
       "      <td>1</td>\n",
       "      <td>1</td>\n",
       "    </tr>\n",
       "    <tr>\n",
       "      <th>1885.0</th>\n",
       "      <td>0</td>\n",
       "      <td>0</td>\n",
       "      <td>0</td>\n",
       "      <td>0</td>\n",
       "      <td>0</td>\n",
       "      <td>0</td>\n",
       "      <td>0</td>\n",
       "      <td>0</td>\n",
       "      <td>0</td>\n",
       "      <td>0</td>\n",
       "      <td>...</td>\n",
       "      <td>0</td>\n",
       "      <td>0</td>\n",
       "      <td>0</td>\n",
       "      <td>0</td>\n",
       "      <td>0</td>\n",
       "      <td>0</td>\n",
       "      <td>0</td>\n",
       "      <td>0</td>\n",
       "      <td>0</td>\n",
       "      <td>5</td>\n",
       "    </tr>\n",
       "    <tr>\n",
       "      <th>1886.0</th>\n",
       "      <td>0</td>\n",
       "      <td>0</td>\n",
       "      <td>0</td>\n",
       "      <td>0</td>\n",
       "      <td>0</td>\n",
       "      <td>0</td>\n",
       "      <td>0</td>\n",
       "      <td>0</td>\n",
       "      <td>0</td>\n",
       "      <td>0</td>\n",
       "      <td>...</td>\n",
       "      <td>0</td>\n",
       "      <td>0</td>\n",
       "      <td>0</td>\n",
       "      <td>0</td>\n",
       "      <td>0</td>\n",
       "      <td>0</td>\n",
       "      <td>0</td>\n",
       "      <td>0</td>\n",
       "      <td>4</td>\n",
       "      <td>4</td>\n",
       "    </tr>\n",
       "    <tr>\n",
       "      <th>1887.0</th>\n",
       "      <td>0</td>\n",
       "      <td>0</td>\n",
       "      <td>0</td>\n",
       "      <td>0</td>\n",
       "      <td>0</td>\n",
       "      <td>0</td>\n",
       "      <td>0</td>\n",
       "      <td>0</td>\n",
       "      <td>0</td>\n",
       "      <td>0</td>\n",
       "      <td>...</td>\n",
       "      <td>0</td>\n",
       "      <td>0</td>\n",
       "      <td>0</td>\n",
       "      <td>0</td>\n",
       "      <td>0</td>\n",
       "      <td>2</td>\n",
       "      <td>1</td>\n",
       "      <td>0</td>\n",
       "      <td>1</td>\n",
       "      <td>4</td>\n",
       "    </tr>\n",
       "    <tr>\n",
       "      <th>...</th>\n",
       "      <td>...</td>\n",
       "      <td>...</td>\n",
       "      <td>...</td>\n",
       "      <td>...</td>\n",
       "      <td>...</td>\n",
       "      <td>...</td>\n",
       "      <td>...</td>\n",
       "      <td>...</td>\n",
       "      <td>...</td>\n",
       "      <td>...</td>\n",
       "      <td>...</td>\n",
       "      <td>...</td>\n",
       "      <td>...</td>\n",
       "      <td>...</td>\n",
       "      <td>...</td>\n",
       "      <td>...</td>\n",
       "      <td>...</td>\n",
       "      <td>...</td>\n",
       "      <td>...</td>\n",
       "      <td>...</td>\n",
       "      <td>...</td>\n",
       "    </tr>\n",
       "    <tr>\n",
       "      <th>2000.0</th>\n",
       "      <td>36</td>\n",
       "      <td>0</td>\n",
       "      <td>0</td>\n",
       "      <td>71</td>\n",
       "      <td>77</td>\n",
       "      <td>0</td>\n",
       "      <td>0</td>\n",
       "      <td>0</td>\n",
       "      <td>0</td>\n",
       "      <td>0</td>\n",
       "      <td>...</td>\n",
       "      <td>0</td>\n",
       "      <td>0</td>\n",
       "      <td>0</td>\n",
       "      <td>0</td>\n",
       "      <td>0</td>\n",
       "      <td>0</td>\n",
       "      <td>0</td>\n",
       "      <td>0</td>\n",
       "      <td>0</td>\n",
       "      <td>0</td>\n",
       "    </tr>\n",
       "    <tr>\n",
       "      <th>2001.0</th>\n",
       "      <td>0</td>\n",
       "      <td>0</td>\n",
       "      <td>68</td>\n",
       "      <td>63</td>\n",
       "      <td>0</td>\n",
       "      <td>0</td>\n",
       "      <td>0</td>\n",
       "      <td>0</td>\n",
       "      <td>0</td>\n",
       "      <td>0</td>\n",
       "      <td>...</td>\n",
       "      <td>0</td>\n",
       "      <td>0</td>\n",
       "      <td>0</td>\n",
       "      <td>0</td>\n",
       "      <td>0</td>\n",
       "      <td>0</td>\n",
       "      <td>0</td>\n",
       "      <td>0</td>\n",
       "      <td>0</td>\n",
       "      <td>0</td>\n",
       "    </tr>\n",
       "    <tr>\n",
       "      <th>2002.0</th>\n",
       "      <td>0</td>\n",
       "      <td>59</td>\n",
       "      <td>69</td>\n",
       "      <td>0</td>\n",
       "      <td>0</td>\n",
       "      <td>0</td>\n",
       "      <td>0</td>\n",
       "      <td>0</td>\n",
       "      <td>0</td>\n",
       "      <td>0</td>\n",
       "      <td>...</td>\n",
       "      <td>0</td>\n",
       "      <td>0</td>\n",
       "      <td>0</td>\n",
       "      <td>0</td>\n",
       "      <td>0</td>\n",
       "      <td>0</td>\n",
       "      <td>0</td>\n",
       "      <td>0</td>\n",
       "      <td>0</td>\n",
       "      <td>0</td>\n",
       "    </tr>\n",
       "    <tr>\n",
       "      <th>2003.0</th>\n",
       "      <td>7</td>\n",
       "      <td>70</td>\n",
       "      <td>0</td>\n",
       "      <td>0</td>\n",
       "      <td>0</td>\n",
       "      <td>0</td>\n",
       "      <td>0</td>\n",
       "      <td>0</td>\n",
       "      <td>0</td>\n",
       "      <td>0</td>\n",
       "      <td>...</td>\n",
       "      <td>0</td>\n",
       "      <td>0</td>\n",
       "      <td>0</td>\n",
       "      <td>0</td>\n",
       "      <td>0</td>\n",
       "      <td>0</td>\n",
       "      <td>0</td>\n",
       "      <td>0</td>\n",
       "      <td>0</td>\n",
       "      <td>0</td>\n",
       "    </tr>\n",
       "    <tr>\n",
       "      <th>2004.0</th>\n",
       "      <td>25</td>\n",
       "      <td>0</td>\n",
       "      <td>0</td>\n",
       "      <td>0</td>\n",
       "      <td>0</td>\n",
       "      <td>0</td>\n",
       "      <td>0</td>\n",
       "      <td>0</td>\n",
       "      <td>0</td>\n",
       "      <td>0</td>\n",
       "      <td>...</td>\n",
       "      <td>0</td>\n",
       "      <td>0</td>\n",
       "      <td>0</td>\n",
       "      <td>0</td>\n",
       "      <td>0</td>\n",
       "      <td>0</td>\n",
       "      <td>0</td>\n",
       "      <td>0</td>\n",
       "      <td>0</td>\n",
       "      <td>0</td>\n",
       "    </tr>\n",
       "  </tbody>\n",
       "</table>\n",
       "<p>122 rows × 72 columns</p>\n",
       "</div>"
      ],
      "text/plain": [
       "age     18.0  19.0  20.0  21.0  22.0  23.0  24.0  25.0  26.0  27.0  ...  80.0  \\\n",
       "cohort                                                              ...         \n",
       "1883.0     0     0     0     0     0     0     0     0     0     0  ...     0   \n",
       "1884.0     0     0     0     0     0     0     0     0     0     0  ...     0   \n",
       "1885.0     0     0     0     0     0     0     0     0     0     0  ...     0   \n",
       "1886.0     0     0     0     0     0     0     0     0     0     0  ...     0   \n",
       "1887.0     0     0     0     0     0     0     0     0     0     0  ...     0   \n",
       "...      ...   ...   ...   ...   ...   ...   ...   ...   ...   ...  ...   ...   \n",
       "2000.0    36     0     0    71    77     0     0     0     0     0  ...     0   \n",
       "2001.0     0     0    68    63     0     0     0     0     0     0  ...     0   \n",
       "2002.0     0    59    69     0     0     0     0     0     0     0  ...     0   \n",
       "2003.0     7    70     0     0     0     0     0     0     0     0  ...     0   \n",
       "2004.0    25     0     0     0     0     0     0     0     0     0  ...     0   \n",
       "\n",
       "age     81.0  82.0  83.0  84.0  85.0  86.0  87.0  88.0  89.0  \n",
       "cohort                                                        \n",
       "1883.0     0     0     0     0     0     0     0     0     1  \n",
       "1884.0     0     0     0     0     0     0     0     1     1  \n",
       "1885.0     0     0     0     0     0     0     0     0     5  \n",
       "1886.0     0     0     0     0     0     0     0     4     4  \n",
       "1887.0     0     0     0     0     2     1     0     1     4  \n",
       "...      ...   ...   ...   ...   ...   ...   ...   ...   ...  \n",
       "2000.0     0     0     0     0     0     0     0     0     0  \n",
       "2001.0     0     0     0     0     0     0     0     0     0  \n",
       "2002.0     0     0     0     0     0     0     0     0     0  \n",
       "2003.0     0     0     0     0     0     0     0     0     0  \n",
       "2004.0     0     0     0     0     0     0     0     0     0  \n",
       "\n",
       "[122 rows x 72 columns]"
      ]
     },
     "execution_count": 95,
     "metadata": {},
     "output_type": "execute_result"
    }
   ],
   "source": [
    "# Solution\n",
    "\n",
    "xtab = pd.crosstab(gss['cohort'], gss['age'])\n",
    "xtab"
   ]
  },
  {
   "cell_type": "code",
   "execution_count": 100,
   "id": "f4aae1d3",
   "metadata": {},
   "outputs": [
    {
     "data": {
      "image/png": "[encoded data removed]",
      "text/plain": [
       "<Figure size 525x262.5 with 2 Axes>"
      ]
     },
     "metadata": {},
     "output_type": "display_data"
    }
   ],
   "source": [
    "# Solution\n",
    "\n",
    "sns.heatmap(\n",
    "    xtab,\n",
    "    cmap=\"YlGnBu\",\n",
    ")\n",
    "\n",
    "plt.title(\"Number of Respondents by Birth Cohort and Age Group\")\n",
    "plt.xlabel(\"Age Group\")\n",
    "plt.ylabel(\"Birth Cohort\")\n",
    "decorate()"
   ]
  },
  {
   "cell_type": "markdown",
   "id": "bcbf6e32",
   "metadata": {},
   "source": [
    "## Target variable\n",
    "\n",
    "I've selected four variables you might want to work with.\n",
    "Whichever one you choose, put its cell last."
   ]
  },
  {
   "cell_type": "code",
   "execution_count": 19,
   "id": "0d9ed274",
   "metadata": {
    "tags": []
   },
   "outputs": [],
   "source": [
    "# https://gssdataexplorer.norc.org/variables/434/vshow\n",
    "\n",
    "varname = 'happy'\n",
    "\n",
    "question = \"\"\"Taken all together, how would you say things are these days--\n",
    "would you say that you are very happy, pretty happy, or not too happy?\n",
    "\"\"\"\n",
    "\n",
    "responses = ['Very happy', \"Happy\", 'Not too happy']\n",
    "\n",
    "ylabel = \"Percent saying 'very happy'\""
   ]
  },
  {
   "cell_type": "code",
   "execution_count": 20,
   "id": "0dcba54b",
   "metadata": {
    "tags": []
   },
   "outputs": [],
   "source": [
    "# https://gssdataexplorer.norc.org/variables/439/vshow\n",
    "\n",
    "varname = 'helpful'\n",
    "\n",
    "question = \"\"\"Would you say that most of the time people try to be helpful,\n",
    "or that they are mostly just looking out for themselves?\n",
    "\"\"\"\n",
    "\n",
    "responses = ['Helpful', 'Look out\\nfor themselves', 'Depends']\n",
    "\n",
    "ylabel = \"Percent saying 'helpful'\""
   ]
  },
  {
   "cell_type": "code",
   "execution_count": 21,
   "id": "c6961a60",
   "metadata": {
    "tags": []
   },
   "outputs": [],
   "source": [
    "# https://gssdataexplorer.norc.org/variables/440/vshow\n",
    "\n",
    "varname = 'fair'\n",
    "\n",
    "question = \"\"\"Do you think most people would try to take advantage of you \n",
    "if they got a chance, or would they try to be fair?\n",
    "\"\"\"\n",
    "\n",
    "# notice that the negative response is first here!\n",
    "responses = ['Take advantage', 'Fair', 'Depends']\n",
    "\n",
    "ylabel = \"Percent saying 'fair'\""
   ]
  },
  {
   "cell_type": "code",
   "execution_count": 22,
   "id": "756028af",
   "metadata": {
    "tags": []
   },
   "outputs": [],
   "source": [
    "# https://gssdataexplorer.norc.org/variables/441/vshow\n",
    "\n",
    "varname = 'trust'\n",
    "\n",
    "question = \"\"\"Generally speaking, would you say that most people can be trusted\n",
    "or that you can't be too careful in dealing with people?\n",
    "\"\"\"\n",
    "\n",
    "responses = ['Trusted', \"Can't be\\ntoo careful\", 'Depends']\n",
    "\n",
    "ylabel = \"Percent saying 'trusted'\""
   ]
  },
  {
   "cell_type": "code",
   "execution_count": 23,
   "id": "24800e8f",
   "metadata": {
    "tags": []
   },
   "outputs": [
    {
     "data": {
      "text/plain": [
       "0        1.0\n",
       "1        1.0\n",
       "2        2.0\n",
       "3        2.0\n",
       "4        NaN\n",
       "        ... \n",
       "72385    2.0\n",
       "72386    2.0\n",
       "72387    NaN\n",
       "72388    NaN\n",
       "72389    1.0\n",
       "Name: trust, Length: 72390, dtype: float64"
      ]
     },
     "execution_count": 23,
     "metadata": {},
     "output_type": "execute_result"
    }
   ],
   "source": [
    "# Solution\n",
    "\n",
    "column = gss[varname]\n",
    "column"
   ]
  },
  {
   "cell_type": "code",
   "execution_count": 24,
   "id": "c4eee813",
   "metadata": {
    "tags": []
   },
   "outputs": [
    {
     "data": {
      "text/plain": [
       "trust\n",
       "1.0    15783\n",
       "2.0    24890\n",
       "3.0     1966\n",
       "NaN    29751\n",
       "Name: count, dtype: int64"
      ]
     },
     "execution_count": 24,
     "metadata": {},
     "output_type": "execute_result"
    }
   ],
   "source": [
    "# Solution\n",
    "\n",
    "value_counts(column, dropna=False)"
   ]
  },
  {
   "cell_type": "code",
   "execution_count": 25,
   "id": "bc32f06d",
   "metadata": {},
   "outputs": [
    {
     "data": {
      "text/plain": [
       "trust\n",
       "1.0    0.370154\n",
       "2.0    0.583738\n",
       "3.0    0.046108\n",
       "Name: proportion, dtype: float64"
      ]
     },
     "execution_count": 25,
     "metadata": {},
     "output_type": "execute_result"
    }
   ],
   "source": [
    "# Solution\n",
    "\n",
    "pmf = value_counts(column, normalize=True)\n",
    "pmf"
   ]
  },
  {
   "cell_type": "code",
   "execution_count": 26,
   "id": "08d0c34b",
   "metadata": {
    "tags": []
   },
   "outputs": [
    {
     "data": {
      "image/png": "[encoded data removed]",
      "text/plain": [
       "<Figure size 525x262.5 with 1 Axes>"
      ]
     },
     "metadata": {},
     "output_type": "display_data"
    }
   ],
   "source": [
    "# Solution\n",
    "\n",
    "pmf.plot(kind='bar')\n",
    "decorate(ylabel='PMF')"
   ]
  },
  {
   "cell_type": "code",
   "execution_count": 27,
   "id": "aeb1e023",
   "metadata": {
    "tags": []
   },
   "outputs": [
    {
     "data": {
      "image/png": "[encoded data removed]",
      "text/plain": [
       "<Figure size 525x262.5 with 1 Axes>"
      ]
     },
     "metadata": {},
     "output_type": "display_data"
    }
   ],
   "source": [
    "# Solution\n",
    "\n",
    "plt.bar(pmf.index, pmf)\n",
    "plt.xticks(pmf.index, responses)\n",
    "\n",
    "decorate(ylabel='PMF')"
   ]
  },
  {
   "cell_type": "markdown",
   "id": "570ddc8e",
   "metadata": {},
   "source": [
    "### Exercise\n",
    "\n",
    "Do you think people who say \"trust\" are also more likely to say \"helpful\"?\n",
    "To find out, make a cross tabulation of `trust` and `helpful`.\n",
    "Consider using `normalize='index'`.\n",
    "Make a heatmap that shows this joint distribution.\n",
    "What relationships can you see in the responses?"
   ]
  },
  {
   "cell_type": "code",
   "execution_count": 93,
   "id": "02c44b2a",
   "metadata": {},
   "outputs": [
    {
     "data": {
      "text/html": [
       "<div>\n",
       "<style scoped>\n",
       "    .dataframe tbody tr th:only-of-type {\n",
       "        vertical-align: middle;\n",
       "    }\n",
       "\n",
       "    .dataframe tbody tr th {\n",
       "        vertical-align: top;\n",
       "    }\n",
       "\n",
       "    .dataframe thead th {\n",
       "        text-align: right;\n",
       "    }\n",
       "</style>\n",
       "<table border=\"1\" class=\"dataframe\">\n",
       "  <thead>\n",
       "    <tr style=\"text-align: right;\">\n",
       "      <th>helpful</th>\n",
       "      <th>1.0</th>\n",
       "      <th>2.0</th>\n",
       "      <th>3.0</th>\n",
       "    </tr>\n",
       "    <tr>\n",
       "      <th>trust</th>\n",
       "      <th></th>\n",
       "      <th></th>\n",
       "      <th></th>\n",
       "    </tr>\n",
       "  </thead>\n",
       "  <tbody>\n",
       "    <tr>\n",
       "      <th>1.0</th>\n",
       "      <td>0.707773</td>\n",
       "      <td>0.243133</td>\n",
       "      <td>0.049094</td>\n",
       "    </tr>\n",
       "    <tr>\n",
       "      <th>2.0</th>\n",
       "      <td>0.340947</td>\n",
       "      <td>0.592560</td>\n",
       "      <td>0.066493</td>\n",
       "    </tr>\n",
       "    <tr>\n",
       "      <th>3.0</th>\n",
       "      <td>0.417197</td>\n",
       "      <td>0.283970</td>\n",
       "      <td>0.298832</td>\n",
       "    </tr>\n",
       "  </tbody>\n",
       "</table>\n",
       "</div>"
      ],
      "text/plain": [
       "helpful       1.0       2.0       3.0\n",
       "trust                                \n",
       "1.0      0.707773  0.243133  0.049094\n",
       "2.0      0.340947  0.592560  0.066493\n",
       "3.0      0.417197  0.283970  0.298832"
      ]
     },
     "execution_count": 93,
     "metadata": {},
     "output_type": "execute_result"
    }
   ],
   "source": [
    "# Solution\n",
    "\n",
    "xtab = pd.crosstab(gss['trust'], gss['helpful'], normalize='index')\n",
    "xtab"
   ]
  },
  {
   "cell_type": "code",
   "execution_count": 94,
   "id": "e68e16a1",
   "metadata": {},
   "outputs": [
    {
     "data": {
      "image/png": "[encoded data removed]",
      "text/plain": [
       "<Figure size 900x450 with 2 Axes>"
      ]
     },
     "metadata": {},
     "output_type": "display_data"
    }
   ],
   "source": [
    "# Solution\n",
    "\n",
    "plt.figure(figsize=(12, 6))\n",
    "sns.heatmap(\n",
    "    xtab,\n",
    "    cmap=\"YlGnBu\",\n",
    ")\n",
    "\n",
    "decorate(xlabel='helpful', ylabel='trust')"
   ]
  },
  {
   "cell_type": "markdown",
   "id": "e861a36e",
   "metadata": {},
   "source": [
    "## Time Series\n",
    "\n",
    "To see how responses have changed over time, we'll use cross tabulation again."
   ]
  },
  {
   "cell_type": "code",
   "execution_count": 28,
   "id": "d5445d24",
   "metadata": {},
   "outputs": [
    {
     "data": {
      "text/html": [
       "<div>\n",
       "<style scoped>\n",
       "    .dataframe tbody tr th:only-of-type {\n",
       "        vertical-align: middle;\n",
       "    }\n",
       "\n",
       "    .dataframe tbody tr th {\n",
       "        vertical-align: top;\n",
       "    }\n",
       "\n",
       "    .dataframe thead th {\n",
       "        text-align: right;\n",
       "    }\n",
       "</style>\n",
       "<table border=\"1\" class=\"dataframe\">\n",
       "  <thead>\n",
       "    <tr style=\"text-align: right;\">\n",
       "      <th>trust</th>\n",
       "      <th>1.0</th>\n",
       "      <th>2.0</th>\n",
       "      <th>3.0</th>\n",
       "    </tr>\n",
       "    <tr>\n",
       "      <th>year</th>\n",
       "      <th></th>\n",
       "      <th></th>\n",
       "      <th></th>\n",
       "    </tr>\n",
       "  </thead>\n",
       "  <tbody>\n",
       "    <tr>\n",
       "      <th>1972</th>\n",
       "      <td>0.463551</td>\n",
       "      <td>0.490343</td>\n",
       "      <td>0.046106</td>\n",
       "    </tr>\n",
       "    <tr>\n",
       "      <th>1973</th>\n",
       "      <td>0.483656</td>\n",
       "      <td>0.495664</td>\n",
       "      <td>0.020680</td>\n",
       "    </tr>\n",
       "    <tr>\n",
       "      <th>1975</th>\n",
       "      <td>0.391099</td>\n",
       "      <td>0.564396</td>\n",
       "      <td>0.044504</td>\n",
       "    </tr>\n",
       "    <tr>\n",
       "      <th>1976</th>\n",
       "      <td>0.455518</td>\n",
       "      <td>0.513043</td>\n",
       "      <td>0.031438</td>\n",
       "    </tr>\n",
       "    <tr>\n",
       "      <th>1978</th>\n",
       "      <td>0.396597</td>\n",
       "      <td>0.549738</td>\n",
       "      <td>0.053665</td>\n",
       "    </tr>\n",
       "  </tbody>\n",
       "</table>\n",
       "</div>"
      ],
      "text/plain": [
       "trust       1.0       2.0       3.0\n",
       "year                               \n",
       "1972   0.463551  0.490343  0.046106\n",
       "1973   0.483656  0.495664  0.020680\n",
       "1975   0.391099  0.564396  0.044504\n",
       "1976   0.455518  0.513043  0.031438\n",
       "1978   0.396597  0.549738  0.053665"
      ]
     },
     "execution_count": 28,
     "metadata": {},
     "output_type": "execute_result"
    }
   ],
   "source": [
    "# Solution\n",
    "\n",
    "xtab = pd.crosstab(gss[\"year\"], gss[varname], normalize='index')\n",
    "xtab.head()"
   ]
  },
  {
   "cell_type": "code",
   "execution_count": 29,
   "id": "150065c6",
   "metadata": {},
   "outputs": [
    {
     "data": {
      "text/plain": [
       "(1613, 29)"
      ]
     },
     "execution_count": 29,
     "metadata": {},
     "output_type": "execute_result"
    }
   ],
   "source": [
    "# Solution\n",
    "\n",
    "gss72 = gss.query('year == 1972')\n",
    "gss72.shape"
   ]
  },
  {
   "cell_type": "code",
   "execution_count": 30,
   "id": "3bb645dd",
   "metadata": {},
   "outputs": [
    {
     "data": {
      "text/plain": [
       "trust\n",
       "1.0    0.463551\n",
       "2.0    0.490343\n",
       "3.0    0.046106\n",
       "Name: proportion, dtype: float64"
      ]
     },
     "execution_count": 30,
     "metadata": {},
     "output_type": "execute_result"
    }
   ],
   "source": [
    "# Solution\n",
    "\n",
    "pmf72 = value_counts(gss72[varname], normalize=True)\n",
    "pmf72"
   ]
  },
  {
   "cell_type": "code",
   "execution_count": 31,
   "id": "3de224ac",
   "metadata": {
    "tags": []
   },
   "outputs": [],
   "source": [
    "# Solution\n",
    "\n",
    "time_series = xtab[1] * 100\n",
    "time_series.name = \"data\""
   ]
  },
  {
   "cell_type": "code",
   "execution_count": 32,
   "id": "faed1034",
   "metadata": {
    "tags": []
   },
   "outputs": [
    {
     "data": {
      "image/png": "[encoded data removed]",
      "text/plain": [
       "<Figure size 525x262.5 with 1 Axes>"
      ]
     },
     "metadata": {},
     "output_type": "display_data"
    }
   ],
   "source": [
    "# Solution\n",
    "\n",
    "time_series.plot(style='o')\n",
    "decorate(\n",
    "    xlabel=\"Year of survey\",\n",
    "    ylabel=ylabel,\n",
    "    title=question,\n",
    ")"
   ]
  },
  {
   "cell_type": "markdown",
   "id": "14a4c955",
   "metadata": {},
   "source": [
    "## Smoothing\n",
    "\n",
    "To smooth the time series, we'll use LOWESS (locally weighted scatterplot smoothing)."
   ]
  },
  {
   "cell_type": "code",
   "execution_count": 105,
   "id": "52cdb733",
   "metadata": {},
   "outputs": [],
   "source": [
    "# Solution\n",
    "\n",
    "x = time_series.index.to_numpy()\n",
    "y = time_series.to_numpy()"
   ]
  },
  {
   "cell_type": "code",
   "execution_count": 107,
   "id": "bb3f13ad",
   "metadata": {},
   "outputs": [],
   "source": [
    "# Solution\n",
    "\n",
    "from statsmodels.nonparametric.smoothers_lowess import lowess\n",
    "\n",
    "smooth_array = lowess(y, x)"
   ]
  },
  {
   "cell_type": "code",
   "execution_count": 35,
   "id": "0afdfb98",
   "metadata": {},
   "outputs": [],
   "source": [
    "# Solution\n",
    "\n",
    "index, data = np.transpose(smooth_array)\n",
    "smooth_series = pd.Series(data, index=index)"
   ]
  },
  {
   "cell_type": "code",
   "execution_count": 36,
   "id": "575a7093",
   "metadata": {},
   "outputs": [
    {
     "data": {
      "image/png": "[encoded data removed]",
      "text/plain": [
       "<Figure size 525x262.5 with 1 Axes>"
      ]
     },
     "metadata": {},
     "output_type": "display_data"
    }
   ],
   "source": [
    "# Solution\n",
    "\n",
    "smooth_series.plot()\n",
    "decorate()"
   ]
  },
  {
   "cell_type": "code",
   "execution_count": 37,
   "id": "c27b2229",
   "metadata": {
    "tags": []
   },
   "outputs": [],
   "source": [
    "def make_lowess(series, frac=0.5):\n",
    "    \"\"\"Use LOWESS to compute a smooth line.\n",
    "\n",
    "    series: pd.Series\n",
    "\n",
    "    returns: pd.Series\n",
    "    \"\"\"\n",
    "    y = series.to_numpy()\n",
    "    x = series.index.to_numpy()\n",
    "\n",
    "    smooth_array = lowess(y, x, frac)\n",
    "    index, data = np.transpose(smooth_array)\n",
    "\n",
    "    return pd.Series(data, index=index)"
   ]
  },
  {
   "cell_type": "markdown",
   "id": "0963ac6c",
   "metadata": {},
   "source": [
    "### Exercise\n",
    "\n",
    "Use this function to make `smooth_series`.\n",
    "Plot the result along with `time_series`."
   ]
  },
  {
   "cell_type": "code",
   "execution_count": 38,
   "id": "5cb0bd01",
   "metadata": {},
   "outputs": [],
   "source": [
    "# Solution\n",
    "\n",
    "smooth_series = make_lowess(time_series)"
   ]
  },
  {
   "cell_type": "code",
   "execution_count": 39,
   "id": "467e97e2",
   "metadata": {},
   "outputs": [
    {
     "data": {
      "image/png": "[encoded data removed]",
      "text/plain": [
       "<Figure size 525x262.5 with 1 Axes>"
      ]
     },
     "metadata": {},
     "output_type": "display_data"
    }
   ],
   "source": [
    "# Solution\n",
    "\n",
    "time_series.plot(style='o', alpha=0.5)\n",
    "smooth_series.plot(label='smoothed', color='C0')\n",
    "\n",
    "decorate(\n",
    "    xlabel=\"Year of survey\",\n",
    "    ylabel=ylabel,\n",
    "    title=question,\n",
    ")"
   ]
  },
  {
   "cell_type": "markdown",
   "id": "c06a118f",
   "metadata": {},
   "source": [
    "## Binary series\n",
    "\n",
    "It will be useful to convert the responses to a binary variable represented with 0s and 1s."
   ]
  },
  {
   "cell_type": "code",
   "execution_count": 40,
   "id": "138f9a41",
   "metadata": {},
   "outputs": [
    {
     "data": {
      "text/plain": [
       "y\n",
       "False    56607\n",
       "True     15783\n",
       "Name: count, dtype: int64"
      ]
     },
     "execution_count": 40,
     "metadata": {},
     "output_type": "execute_result"
    }
   ],
   "source": [
    "# Solution\n",
    "\n",
    "# tempting but wrong\n",
    "\n",
    "gss['y'] = gss[varname] == 1\n",
    "value_counts(gss['y'], dropna=False)"
   ]
  },
  {
   "cell_type": "code",
   "execution_count": 41,
   "id": "13d48d30",
   "metadata": {},
   "outputs": [
    {
     "data": {
      "text/plain": [
       "y\n",
       "0.0    26856\n",
       "1.0    15783\n",
       "NaN    29751\n",
       "Name: count, dtype: int64"
      ]
     },
     "execution_count": 41,
     "metadata": {},
     "output_type": "execute_result"
    }
   ],
   "source": [
    "# Solution\n",
    "\n",
    "gss['y'] = np.where(gss[varname].notna(), gss[varname] == 1, np.nan)\n",
    "value_counts(gss['y'], dropna=False)"
   ]
  },
  {
   "cell_type": "code",
   "execution_count": 42,
   "id": "30491bab",
   "metadata": {},
   "outputs": [
    {
     "data": {
      "text/plain": [
       "y\n",
       "0.0    26856\n",
       "1.0    15783\n",
       "NaN    29751\n",
       "Name: count, dtype: int64"
      ]
     },
     "execution_count": 42,
     "metadata": {},
     "output_type": "execute_result"
    }
   ],
   "source": [
    "# Solution\n",
    "\n",
    "# Reminder: this needs to be updated depending on the target variable\n",
    "\n",
    "gss['y'] = gss[varname].replace([1, 2, 3], [1, 0, 0])\n",
    "value_counts(gss['y'], dropna=False)"
   ]
  },
  {
   "cell_type": "markdown",
   "id": "42a5c63e",
   "metadata": {},
   "source": [
    "## Pivot tables\n",
    "\n",
    "Now we'll use a pivot table to put respondents in groups and see how the responses have changed over time."
   ]
  },
  {
   "cell_type": "code",
   "execution_count": 43,
   "id": "68171510",
   "metadata": {},
   "outputs": [],
   "source": [
    "polviews_map = {\n",
    "    1: 'Liberal',\n",
    "    2: 'Liberal',\n",
    "    3: 'Liberal',\n",
    "    4: 'Moderate',\n",
    "    5: 'Conservative',\n",
    "    6: 'Conservative',\n",
    "    7: 'Conservative',\n",
    "}"
   ]
  },
  {
   "cell_type": "code",
   "execution_count": 44,
   "id": "1d89b4b4",
   "metadata": {},
   "outputs": [],
   "source": [
    "# Solution\n",
    "\n",
    "gss['polviews3'] = gss['polviews'].replace(polviews_map)"
   ]
  },
  {
   "cell_type": "code",
   "execution_count": 45,
   "id": "a3ab054c",
   "metadata": {},
   "outputs": [
    {
     "data": {
      "text/plain": [
       "polviews3\n",
       "Conservative    21580\n",
       "Liberal         17370\n",
       "Moderate        23912\n",
       "NaN              9528\n",
       "Name: count, dtype: int64"
      ]
     },
     "execution_count": 45,
     "metadata": {},
     "output_type": "execute_result"
    }
   ],
   "source": [
    "# Solution\n",
    "\n",
    "value_counts(gss['polviews3'], dropna=False)"
   ]
  },
  {
   "cell_type": "code",
   "execution_count": 46,
   "id": "f3b0e5d0",
   "metadata": {},
   "outputs": [
    {
     "data": {
      "text/html": [
       "<div>\n",
       "<style scoped>\n",
       "    .dataframe tbody tr th:only-of-type {\n",
       "        vertical-align: middle;\n",
       "    }\n",
       "\n",
       "    .dataframe tbody tr th {\n",
       "        vertical-align: top;\n",
       "    }\n",
       "\n",
       "    .dataframe thead th {\n",
       "        text-align: right;\n",
       "    }\n",
       "</style>\n",
       "<table border=\"1\" class=\"dataframe\">\n",
       "  <thead>\n",
       "    <tr style=\"text-align: right;\">\n",
       "      <th>polviews3</th>\n",
       "      <th>Conservative</th>\n",
       "      <th>Liberal</th>\n",
       "      <th>Moderate</th>\n",
       "    </tr>\n",
       "    <tr>\n",
       "      <th>year</th>\n",
       "      <th></th>\n",
       "      <th></th>\n",
       "      <th></th>\n",
       "    </tr>\n",
       "  </thead>\n",
       "  <tbody>\n",
       "    <tr>\n",
       "      <th>1975</th>\n",
       "      <td>41.891892</td>\n",
       "      <td>39.192399</td>\n",
       "      <td>38.733706</td>\n",
       "    </tr>\n",
       "    <tr>\n",
       "      <th>1976</th>\n",
       "      <td>49.590164</td>\n",
       "      <td>45.961003</td>\n",
       "      <td>44.561404</td>\n",
       "    </tr>\n",
       "    <tr>\n",
       "      <th>1978</th>\n",
       "      <td>42.699115</td>\n",
       "      <td>43.262411</td>\n",
       "      <td>37.347295</td>\n",
       "    </tr>\n",
       "    <tr>\n",
       "      <th>1980</th>\n",
       "      <td>47.609562</td>\n",
       "      <td>45.896657</td>\n",
       "      <td>46.204620</td>\n",
       "    </tr>\n",
       "    <tr>\n",
       "      <th>1983</th>\n",
       "      <td>41.935484</td>\n",
       "      <td>31.914894</td>\n",
       "      <td>39.240506</td>\n",
       "    </tr>\n",
       "  </tbody>\n",
       "</table>\n",
       "</div>"
      ],
      "text/plain": [
       "polviews3  Conservative    Liberal   Moderate\n",
       "year                                         \n",
       "1975          41.891892  39.192399  38.733706\n",
       "1976          49.590164  45.961003  44.561404\n",
       "1978          42.699115  43.262411  37.347295\n",
       "1980          47.609562  45.896657  46.204620\n",
       "1983          41.935484  31.914894  39.240506"
      ]
     },
     "execution_count": 46,
     "metadata": {},
     "output_type": "execute_result"
    }
   ],
   "source": [
    "# Solution\n",
    "\n",
    "table = gss.pivot_table(\n",
    "    index='year', columns='polviews3', values='y', aggfunc='mean'\n",
    ") * 100\n",
    "table.head()"
   ]
  },
  {
   "cell_type": "code",
   "execution_count": 47,
   "id": "b1cc5d7f",
   "metadata": {},
   "outputs": [
    {
     "data": {
      "image/png": "[encoded data removed]",
      "text/plain": [
       "<Figure size 525x262.5 with 1 Axes>"
      ]
     },
     "metadata": {},
     "output_type": "display_data"
    }
   ],
   "source": [
    "# Solution\n",
    "\n",
    "table.plot(style='.:')\n",
    "decorate()"
   ]
  },
  {
   "cell_type": "markdown",
   "id": "d36ca58b",
   "metadata": {},
   "source": [
    "## Better colors\n",
    "\n",
    "We'll select colors from a Seaborn color palette."
   ]
  },
  {
   "cell_type": "code",
   "execution_count": 48,
   "id": "0eea125f",
   "metadata": {},
   "outputs": [
    {
     "data": {
      "image/png": "[encoded data removed]",
      "text/plain": [
       "<Figure size 375x75 with 1 Axes>"
      ]
     },
     "metadata": {},
     "output_type": "display_data"
    }
   ],
   "source": [
    "# Solution\n",
    "\n",
    "muted = sns.color_palette('muted', 5)\n",
    "sns.palplot(muted)"
   ]
  },
  {
   "cell_type": "code",
   "execution_count": 49,
   "id": "9ea71c61",
   "metadata": {},
   "outputs": [],
   "source": [
    "# Solution\n",
    "\n",
    "color_map = {\n",
    "    'Conservative': muted[3], \n",
    "    'Moderate': muted[4], \n",
    "    'Liberal': muted[0]\n",
    "}"
   ]
  },
  {
   "cell_type": "markdown",
   "id": "64b7632c",
   "metadata": {},
   "source": [
    "### Exercise\n",
    "\n",
    "Loop through the groups in `color_map`.\n",
    "For each one, extract a column from `table` and plot the data points; then plot a smooth line."
   ]
  },
  {
   "cell_type": "code",
   "execution_count": 108,
   "id": "e55427ad",
   "metadata": {},
   "outputs": [
    {
     "data": {
      "image/png": "[encoded data removed]",
      "text/plain": [
       "<Figure size 525x262.5 with 1 Axes>"
      ]
     },
     "metadata": {},
     "output_type": "display_data"
    }
   ],
   "source": [
    "# Solution\n",
    "\n",
    "for group in color_map:\n",
    "    series = table[group]\n",
    "    color = color_map[group]\n",
    "    series.plot(style='o', label='', color=color, alpha=0.3)\n",
    "    smooth = make_lowess(series)\n",
    "    smooth.plot(label=group, color=color)\n",
    "\n",
    "decorate(\n",
    "    xlabel='Year',\n",
    "    ylabel=ylabel,\n",
    "    title=question,\n",
    ")"
   ]
  },
  {
   "cell_type": "markdown",
   "id": "9808ce10",
   "metadata": {},
   "source": [
    "## Groupby\n",
    "\n",
    "Now that we have `y` as a binary variable, we have another way to compute the time series and the pivot table.\n",
    "There are pros and cons of each method."
   ]
  },
  {
   "cell_type": "code",
   "execution_count": 109,
   "id": "a23f06ae",
   "metadata": {},
   "outputs": [],
   "source": [
    "# Solution\n",
    "\n",
    "valid = gss.dropna(subset=['y'])"
   ]
  },
  {
   "cell_type": "code",
   "execution_count": 111,
   "id": "638849b3",
   "metadata": {},
   "outputs": [],
   "source": [
    "# Solution\n",
    "\n",
    "time_series2 = valid.groupby('year')['y'].mean() * 100\n",
    "assert np.allclose(time_series, time_series2)"
   ]
  },
  {
   "cell_type": "code",
   "execution_count": 53,
   "id": "0bd08fd9",
   "metadata": {},
   "outputs": [],
   "source": [
    "# Solution\n",
    "\n",
    "table2 = valid.groupby(['year', 'polviews3'])['y'].mean().unstack() * 100\n",
    "assert np.allclose(table, table2)"
   ]
  },
  {
   "cell_type": "markdown",
   "id": "6114afb1",
   "metadata": {},
   "source": [
    "## Logistic regression\n",
    "\n",
    "We'll use logistic regression to model changes over time."
   ]
  },
  {
   "cell_type": "code",
   "execution_count": 54,
   "id": "3b655a3f",
   "metadata": {},
   "outputs": [],
   "source": [
    "# Solution\n",
    "\n",
    "year_shift = gss['year'].median()\n",
    "gss['x'] = gss['year'] - year_shift"
   ]
  },
  {
   "cell_type": "code",
   "execution_count": 55,
   "id": "ac4f9578",
   "metadata": {},
   "outputs": [],
   "source": [
    "# Solution\n",
    "\n",
    "subset = gss.dropna(subset=['y', 'x'])"
   ]
  },
  {
   "cell_type": "code",
   "execution_count": 56,
   "id": "51af637f",
   "metadata": {},
   "outputs": [
    {
     "data": {
      "text/plain": [
       "Intercept   -0.588941\n",
       "x           -0.014565\n",
       "I(x ** 2)    0.000057\n",
       "dtype: float64"
      ]
     },
     "execution_count": 56,
     "metadata": {},
     "output_type": "execute_result"
    }
   ],
   "source": [
    "# Solution\n",
    "\n",
    "import statsmodels.formula.api as smf\n",
    "\n",
    "formula = 'y ~ x + I(x**2)'\n",
    "\n",
    "model = smf.logit(formula, data=subset).fit(disp=False)\n",
    "model.params"
   ]
  },
  {
   "cell_type": "code",
   "execution_count": 57,
   "id": "4f0aa466",
   "metadata": {},
   "outputs": [],
   "source": [
    "# Solution\n",
    "\n",
    "year_range = np.arange(1972, 2026)\n",
    "\n",
    "pred_df = pd.DataFrame(dict(x=year_range - year_shift))\n",
    "\n",
    "pred_series = model.predict(pred_df) * 100\n",
    "pred_series.index = year_range"
   ]
  },
  {
   "cell_type": "code",
   "execution_count": 58,
   "id": "2fff2abf",
   "metadata": {},
   "outputs": [
    {
     "data": {
      "image/png": "[encoded data removed]",
      "text/plain": [
       "<Figure size 525x262.5 with 1 Axes>"
      ]
     },
     "metadata": {},
     "output_type": "display_data"
    }
   ],
   "source": [
    "# Solution\n",
    "\n",
    "time_series.plot(style='o', alpha=0.5)\n",
    "pred_series.plot(label='model', color='C0')\n",
    "\n",
    "decorate(\n",
    "    xlabel=\"Year of survey\",\n",
    "    ylabel=ylabel,\n",
    "    title=question,\n",
    ")"
   ]
  },
  {
   "cell_type": "code",
   "execution_count": 59,
   "id": "8d1d26d9",
   "metadata": {},
   "outputs": [],
   "source": [
    "def fit_model(data, x_range, x_shift):\n",
    "    formula = 'y ~ x + I(x**2)'\n",
    "    model = smf.logit(formula, data=data).fit(disp=False)\n",
    "    \n",
    "    pred_df = pd.DataFrame(dict(x=x_range - x_shift))\n",
    "    pred = model.predict(pred_df) * 100\n",
    "    pred.index = x_range\n",
    "    pred.name = 'model'\n",
    "\n",
    "    return pred"
   ]
  },
  {
   "cell_type": "code",
   "execution_count": 60,
   "id": "9cdbce9f",
   "metadata": {},
   "outputs": [],
   "source": [
    "# Solution\n",
    "\n",
    "pred_series2 = fit_model(subset, year_range, year_shift)\n",
    "assert np.allclose(pred_series, pred_series2)"
   ]
  },
  {
   "cell_type": "markdown",
   "id": "4859296d",
   "metadata": {},
   "source": [
    "### Exercise\n",
    "\n",
    "Use `subset.groupby('polviews3')` to loop through the groups.\n",
    "For each one, use `fit_model` to generate and plot a \"prediction\" for the group."
   ]
  },
  {
   "cell_type": "code",
   "execution_count": 61,
   "id": "538f1384",
   "metadata": {},
   "outputs": [
    {
     "data": {
      "image/png": "[encoded data removed]",
      "text/plain": [
       "<Figure size 525x262.5 with 1 Axes>"
      ]
     },
     "metadata": {},
     "output_type": "display_data"
    }
   ],
   "source": [
    "# Solution\n",
    "\n",
    "for name, group in subset.groupby('polviews3'):\n",
    "    pred_series = fit_model(group, year_range, year_shift)\n",
    "    pred_series.plot(label=name, color=color_map[name])\n",
    "    \n",
    "decorate(\n",
    "    xlabel='Year',\n",
    "    ylabel=ylabel,\n",
    "    title=question,\n",
    ")"
   ]
  },
  {
   "cell_type": "markdown",
   "id": "c65aa0fb",
   "metadata": {},
   "source": [
    "## Group by cohort\n",
    "\n",
    "Now let's group respondents by decade of birth and see how each cohort changes over time.\n"
   ]
  },
  {
   "cell_type": "code",
   "execution_count": 62,
   "id": "61c2858c",
   "metadata": {},
   "outputs": [],
   "source": [
    "def round_into_bins(series, bin_width, low=0, high=None):\n",
    "    \"\"\"Rounds values down to the bin they belong in.\n",
    "\n",
    "    series: pd.Series\n",
    "    bin_width: number, width of the bins\n",
    "\n",
    "    returns: Series of bin values (with NaN preserved)\n",
    "    \"\"\"\n",
    "    if high is None:\n",
    "        high = series.max()\n",
    "\n",
    "    bins = np.arange(low, high + bin_width, bin_width)\n",
    "    indices = np.digitize(series, bins)\n",
    "    result = pd.Series(bins[indices - 1], index=series.index, dtype='float')\n",
    "\n",
    "    result[series.isna()] = np.nan\n",
    "    return result"
   ]
  },
  {
   "cell_type": "code",
   "execution_count": 63,
   "id": "1ce91246",
   "metadata": {
    "tags": []
   },
   "outputs": [
    {
     "data": {
      "text/plain": [
       "cohort10\n",
       "1880.0       45\n",
       "1890.0      501\n",
       "1900.0     1722\n",
       "1910.0     3616\n",
       "1920.0     5862\n",
       "1930.0     7115\n",
       "1940.0    10925\n",
       "1950.0    14273\n",
       "1960.0    11699\n",
       "1970.0     7681\n",
       "1980.0     5088\n",
       "1990.0     2563\n",
       "2000.0      545\n",
       "NaN         755\n",
       "Name: count, dtype: int64"
      ]
     },
     "execution_count": 63,
     "metadata": {},
     "output_type": "execute_result"
    }
   ],
   "source": [
    "# Solution\n",
    "\n",
    "gss[\"cohort10\"] = round_into_bins(gss[\"cohort\"], 10, 1880)\n",
    "value_counts(gss[\"cohort10\"], dropna=False)"
   ]
  },
  {
   "cell_type": "code",
   "execution_count": 64,
   "id": "c82baf24",
   "metadata": {
    "tags": []
   },
   "outputs": [
    {
     "data": {
      "text/plain": [
       "(6825, 33)"
      ]
     },
     "execution_count": 64,
     "metadata": {},
     "output_type": "execute_result"
    }
   ],
   "source": [
    "# Solution\n",
    "\n",
    "cohort_df = gss.query(\"cohort10 == 1940\").dropna(subset=['y', 'x'])\n",
    "cohort_df.shape"
   ]
  },
  {
   "cell_type": "code",
   "execution_count": 65,
   "id": "00040e79",
   "metadata": {
    "tags": []
   },
   "outputs": [],
   "source": [
    "# Solution\n",
    "\n",
    "cohort_series = cohort_df.groupby('year')['y'].mean() * 100\n",
    "cohort_series.name = '1940 cohort'"
   ]
  },
  {
   "cell_type": "code",
   "execution_count": 66,
   "id": "8b17379b",
   "metadata": {},
   "outputs": [],
   "source": [
    "# Solution\n",
    "\n",
    "x_range = cohort_series.index\n",
    "pred_series = fit_model(cohort_df, x_range, year_shift)"
   ]
  },
  {
   "cell_type": "code",
   "execution_count": 67,
   "id": "a1ea3b75",
   "metadata": {
    "tags": []
   },
   "outputs": [
    {
     "data": {
      "image/png": "[encoded data removed]",
      "text/plain": [
       "<Figure size 525x262.5 with 1 Axes>"
      ]
     },
     "metadata": {},
     "output_type": "display_data"
    }
   ],
   "source": [
    "# Solution\n",
    "\n",
    "cohort_series.plot(style='.', color='C1', alpha=0.5)\n",
    "pred_series.plot(color='C1')\n",
    "\n",
    "decorate(\n",
    "    xlabel=\"Year\",\n",
    "    ylabel=ylabel,\n",
    "    title=question,\n",
    ")"
   ]
  },
  {
   "cell_type": "markdown",
   "id": "ffac5cce",
   "metadata": {},
   "source": [
    "## All the Cohorts\n",
    "\n",
    "Now let's compare cohorts. The following function encapsulates the steps from the previous section."
   ]
  },
  {
   "cell_type": "code",
   "execution_count": 68,
   "id": "41a8d156",
   "metadata": {
    "tags": []
   },
   "outputs": [],
   "source": [
    "def plot_cohort(df, cohort, color='C0'):\n",
    "    cohort_df = df.query(\"cohort10 == @cohort\").dropna(subset=['y', 'x'])\n",
    "\n",
    "    cohort_series = cohort_df.groupby('year')['y'].mean() * 100\n",
    "\n",
    "    year_range = cohort_series.index\n",
    "\n",
    "    pred_series = fit_model(cohort_df, year_range, year_shift)\n",
    "    x, y = pred_series.index[-1], pred_series.values[-1]\n",
    "    plt.text(x, y, cohort, ha='left', va='center')\n",
    "\n",
    "    pred_series.plot(label=cohort, color=color)"
   ]
  },
  {
   "cell_type": "code",
   "execution_count": 69,
   "id": "247940e5",
   "metadata": {},
   "outputs": [
    {
     "data": {
      "text/plain": [
       "(65390, 33)"
      ]
     },
     "execution_count": 69,
     "metadata": {},
     "output_type": "execute_result"
    }
   ],
   "source": [
    "# Solution\n",
    "\n",
    "first, last = 1920, 2000\n",
    "subset = gss.query(\"@first <= cohort <= @last\" )\n",
    "subset.shape"
   ]
  },
  {
   "cell_type": "code",
   "execution_count": 70,
   "id": "57b2b588",
   "metadata": {},
   "outputs": [],
   "source": [
    "# Solution\n",
    "\n",
    "pred_all = fit_model(subset, year_range, year_shift)"
   ]
  },
  {
   "cell_type": "code",
   "execution_count": 71,
   "id": "706699d4",
   "metadata": {},
   "outputs": [
    {
     "data": {
      "text/plain": [
       "array([1920, 1930, 1940, 1950, 1960, 1970, 1980, 1990, 2000])"
      ]
     },
     "execution_count": 71,
     "metadata": {},
     "output_type": "execute_result"
    }
   ],
   "source": [
    "# Solution\n",
    "\n",
    "cohorts = np.sort(subset['cohort10'].unique().astype(int))\n",
    "cohorts"
   ]
  },
  {
   "cell_type": "code",
   "execution_count": 72,
   "id": "4531b296",
   "metadata": {},
   "outputs": [],
   "source": [
    "# Solution\n",
    "\n",
    "cmap = plt.get_cmap('Purples')\n",
    "\n",
    "colors = [cmap(x) for x in np.linspace(0.3, 0.9, len(cohorts))]"
   ]
  },
  {
   "cell_type": "markdown",
   "id": "4f8c590e",
   "metadata": {},
   "source": [
    "### Exercise\n",
    "\n",
    "Plot `pred_all`.\n",
    "Then loop through `cohorts` and `colors`, and call `plot_cohort` for each group.\n",
    "\n",
    "Depending on which target variable you chose, you might get a warning from StatsModels."
   ]
  },
  {
   "cell_type": "code",
   "execution_count": 73,
   "id": "8b835d1d",
   "metadata": {
    "tags": []
   },
   "outputs": [
    {
     "name": "stderr",
     "output_type": "stream",
     "text": [
      "/home/downey/miniconda3/envs/SurveyDataPandas/lib/python3.13/site-packages/statsmodels/base/model.py:607: ConvergenceWarning: Maximum Likelihood optimization failed to converge. Check mle_retvals\n",
      "  warnings.warn(\"Maximum Likelihood optimization failed to \"\n"
     ]
    },
    {
     "data": {
      "image/png": "[encoded data removed]",
      "text/plain": [
       "<Figure size 525x262.5 with 1 Axes>"
      ]
     },
     "metadata": {},
     "output_type": "display_data"
    }
   ],
   "source": [
    "# Solution\n",
    "\n",
    "pred_all.plot(ls=':', color='C1')\n",
    "\n",
    "for cohort, color in zip(cohorts, colors):\n",
    "    plot_cohort(gss, cohort, color)\n",
    "    \n",
    "decorate(\n",
    "    xlabel=\"Year\",\n",
    "    ylabel=ylabel,\n",
    "    title=question,\n",
    "    legend=False\n",
    ")"
   ]
  },
  {
   "cell_type": "markdown",
   "id": "821724f4",
   "metadata": {},
   "source": [
    "## Simpson's Paradox\n",
    "\n",
    "The composition of the population changes over time.\n"
   ]
  },
  {
   "cell_type": "code",
   "execution_count": 74,
   "id": "22b0a946",
   "metadata": {
    "tags": []
   },
   "outputs": [
    {
     "data": {
      "text/html": [
       "<div>\n",
       "<style scoped>\n",
       "    .dataframe tbody tr th:only-of-type {\n",
       "        vertical-align: middle;\n",
       "    }\n",
       "\n",
       "    .dataframe tbody tr th {\n",
       "        vertical-align: top;\n",
       "    }\n",
       "\n",
       "    .dataframe thead th {\n",
       "        text-align: right;\n",
       "    }\n",
       "</style>\n",
       "<table border=\"1\" class=\"dataframe\">\n",
       "  <thead>\n",
       "    <tr style=\"text-align: right;\">\n",
       "      <th>year</th>\n",
       "      <th>1972</th>\n",
       "      <th>1973</th>\n",
       "      <th>1974</th>\n",
       "      <th>1975</th>\n",
       "      <th>1976</th>\n",
       "      <th>1977</th>\n",
       "      <th>1978</th>\n",
       "      <th>1980</th>\n",
       "      <th>1982</th>\n",
       "      <th>1983</th>\n",
       "      <th>...</th>\n",
       "      <th>2004</th>\n",
       "      <th>2006</th>\n",
       "      <th>2008</th>\n",
       "      <th>2010</th>\n",
       "      <th>2012</th>\n",
       "      <th>2014</th>\n",
       "      <th>2016</th>\n",
       "      <th>2018</th>\n",
       "      <th>2021</th>\n",
       "      <th>2022</th>\n",
       "    </tr>\n",
       "    <tr>\n",
       "      <th>cohort10</th>\n",
       "      <th></th>\n",
       "      <th></th>\n",
       "      <th></th>\n",
       "      <th></th>\n",
       "      <th></th>\n",
       "      <th></th>\n",
       "      <th></th>\n",
       "      <th></th>\n",
       "      <th></th>\n",
       "      <th></th>\n",
       "      <th></th>\n",
       "      <th></th>\n",
       "      <th></th>\n",
       "      <th></th>\n",
       "      <th></th>\n",
       "      <th></th>\n",
       "      <th></th>\n",
       "      <th></th>\n",
       "      <th></th>\n",
       "      <th></th>\n",
       "      <th></th>\n",
       "    </tr>\n",
       "  </thead>\n",
       "  <tbody>\n",
       "    <tr>\n",
       "      <th>1880.0</th>\n",
       "      <td>0.003113</td>\n",
       "      <td>0.003995</td>\n",
       "      <td>0.008108</td>\n",
       "      <td>0.006739</td>\n",
       "      <td>0.004692</td>\n",
       "      <td>0.000000</td>\n",
       "      <td>0.003277</td>\n",
       "      <td>0.000000</td>\n",
       "      <td>0.000000</td>\n",
       "      <td>0.000000</td>\n",
       "      <td>...</td>\n",
       "      <td>0.000000</td>\n",
       "      <td>0.000000</td>\n",
       "      <td>0.000000</td>\n",
       "      <td>0.000000</td>\n",
       "      <td>0.000000</td>\n",
       "      <td>0.000000</td>\n",
       "      <td>0.000000</td>\n",
       "      <td>0.000000</td>\n",
       "      <td>0.0</td>\n",
       "      <td>0.0</td>\n",
       "    </tr>\n",
       "    <tr>\n",
       "      <th>1890.0</th>\n",
       "      <td>0.047945</td>\n",
       "      <td>0.038615</td>\n",
       "      <td>0.029730</td>\n",
       "      <td>0.037062</td>\n",
       "      <td>0.047587</td>\n",
       "      <td>0.027613</td>\n",
       "      <td>0.028834</td>\n",
       "      <td>0.017088</td>\n",
       "      <td>0.018929</td>\n",
       "      <td>0.005013</td>\n",
       "      <td>...</td>\n",
       "      <td>0.000000</td>\n",
       "      <td>0.000000</td>\n",
       "      <td>0.000000</td>\n",
       "      <td>0.000000</td>\n",
       "      <td>0.000000</td>\n",
       "      <td>0.000000</td>\n",
       "      <td>0.000000</td>\n",
       "      <td>0.000000</td>\n",
       "      <td>0.0</td>\n",
       "      <td>0.0</td>\n",
       "    </tr>\n",
       "    <tr>\n",
       "      <th>1900.0</th>\n",
       "      <td>0.110212</td>\n",
       "      <td>0.099201</td>\n",
       "      <td>0.129730</td>\n",
       "      <td>0.082210</td>\n",
       "      <td>0.070375</td>\n",
       "      <td>0.091387</td>\n",
       "      <td>0.083224</td>\n",
       "      <td>0.059467</td>\n",
       "      <td>0.051379</td>\n",
       "      <td>0.038221</td>\n",
       "      <td>...</td>\n",
       "      <td>0.000000</td>\n",
       "      <td>0.000000</td>\n",
       "      <td>0.000000</td>\n",
       "      <td>0.000000</td>\n",
       "      <td>0.000000</td>\n",
       "      <td>0.000000</td>\n",
       "      <td>0.000000</td>\n",
       "      <td>0.000000</td>\n",
       "      <td>0.0</td>\n",
       "      <td>0.0</td>\n",
       "    </tr>\n",
       "    <tr>\n",
       "      <th>1910.0</th>\n",
       "      <td>0.152553</td>\n",
       "      <td>0.158455</td>\n",
       "      <td>0.131081</td>\n",
       "      <td>0.130728</td>\n",
       "      <td>0.144772</td>\n",
       "      <td>0.125575</td>\n",
       "      <td>0.105505</td>\n",
       "      <td>0.124402</td>\n",
       "      <td>0.103840</td>\n",
       "      <td>0.093358</td>\n",
       "      <td>...</td>\n",
       "      <td>0.015714</td>\n",
       "      <td>0.007562</td>\n",
       "      <td>0.007944</td>\n",
       "      <td>0.000000</td>\n",
       "      <td>0.000000</td>\n",
       "      <td>0.000000</td>\n",
       "      <td>0.000000</td>\n",
       "      <td>0.000000</td>\n",
       "      <td>0.0</td>\n",
       "      <td>0.0</td>\n",
       "    </tr>\n",
       "    <tr>\n",
       "      <th>1920.0</th>\n",
       "      <td>0.224782</td>\n",
       "      <td>0.180426</td>\n",
       "      <td>0.193243</td>\n",
       "      <td>0.187332</td>\n",
       "      <td>0.159517</td>\n",
       "      <td>0.184747</td>\n",
       "      <td>0.152687</td>\n",
       "      <td>0.160629</td>\n",
       "      <td>0.149270</td>\n",
       "      <td>0.137218</td>\n",
       "      <td>...</td>\n",
       "      <td>0.038929</td>\n",
       "      <td>0.040036</td>\n",
       "      <td>0.038232</td>\n",
       "      <td>0.035294</td>\n",
       "      <td>0.025381</td>\n",
       "      <td>0.014235</td>\n",
       "      <td>0.009807</td>\n",
       "      <td>0.008576</td>\n",
       "      <td>0.0</td>\n",
       "      <td>0.0</td>\n",
       "    </tr>\n",
       "  </tbody>\n",
       "</table>\n",
       "<p>5 rows × 34 columns</p>\n",
       "</div>"
      ],
      "text/plain": [
       "year          1972      1973      1974      1975      1976      1977  \\\n",
       "cohort10                                                               \n",
       "1880.0    0.003113  0.003995  0.008108  0.006739  0.004692  0.000000   \n",
       "1890.0    0.047945  0.038615  0.029730  0.037062  0.047587  0.027613   \n",
       "1900.0    0.110212  0.099201  0.129730  0.082210  0.070375  0.091387   \n",
       "1910.0    0.152553  0.158455  0.131081  0.130728  0.144772  0.125575   \n",
       "1920.0    0.224782  0.180426  0.193243  0.187332  0.159517  0.184747   \n",
       "\n",
       "year          1978      1980      1982      1983  ...      2004      2006  \\\n",
       "cohort10                                          ...                       \n",
       "1880.0    0.003277  0.000000  0.000000  0.000000  ...  0.000000  0.000000   \n",
       "1890.0    0.028834  0.017088  0.018929  0.005013  ...  0.000000  0.000000   \n",
       "1900.0    0.083224  0.059467  0.051379  0.038221  ...  0.000000  0.000000   \n",
       "1910.0    0.105505  0.124402  0.103840  0.093358  ...  0.015714  0.007562   \n",
       "1920.0    0.152687  0.160629  0.149270  0.137218  ...  0.038929  0.040036   \n",
       "\n",
       "year          2008      2010      2012      2014      2016      2018  2021  \\\n",
       "cohort10                                                                     \n",
       "1880.0    0.000000  0.000000  0.000000  0.000000  0.000000  0.000000   0.0   \n",
       "1890.0    0.000000  0.000000  0.000000  0.000000  0.000000  0.000000   0.0   \n",
       "1900.0    0.000000  0.000000  0.000000  0.000000  0.000000  0.000000   0.0   \n",
       "1910.0    0.007944  0.000000  0.000000  0.000000  0.000000  0.000000   0.0   \n",
       "1920.0    0.038232  0.035294  0.025381  0.014235  0.009807  0.008576   0.0   \n",
       "\n",
       "year      2022  \n",
       "cohort10        \n",
       "1880.0     0.0  \n",
       "1890.0     0.0  \n",
       "1900.0     0.0  \n",
       "1910.0     0.0  \n",
       "1920.0     0.0  \n",
       "\n",
       "[5 rows x 34 columns]"
      ]
     },
     "execution_count": 74,
     "metadata": {},
     "output_type": "execute_result"
    }
   ],
   "source": [
    "# Solution\n",
    "\n",
    "xtab_cohort = pd.crosstab(gss[\"cohort10\"], gss[\"year\"], normalize=\"columns\")\n",
    "xtab_cohort.head()"
   ]
  },
  {
   "cell_type": "code",
   "execution_count": 75,
   "id": "ba0e98bd",
   "metadata": {
    "tags": []
   },
   "outputs": [
    {
     "data": {
      "image/png": "[encoded data removed]",
      "text/plain": [
       "<Figure size 525x262.5 with 1 Axes>"
      ]
     },
     "metadata": {},
     "output_type": "display_data"
    }
   ],
   "source": [
    "# Solution\n",
    "\n",
    "xtab_cohort[1972].plot(label=\"1972\")\n",
    "xtab_cohort[1998].plot(label=\"1998\")\n",
    "xtab_cohort[2022].plot(label=\"2022\")\n",
    "\n",
    "decorate(xlabel=\"Year of birth\", ylabel=\"Fraction of sample\")"
   ]
  },
  {
   "cell_type": "markdown",
   "id": "e5daede3",
   "metadata": {},
   "source": [
    "## Sampling weights\n",
    "\n",
    "The GSS uses stratified sampling, so some respondents represent more people in the population than others.\n",
    "We can use resampling to correct for stratified sampling."
   ]
  },
  {
   "cell_type": "code",
   "execution_count": 76,
   "id": "368e17e4",
   "metadata": {},
   "outputs": [
    {
     "data": {
      "text/plain": [
       "count    72390.000000\n",
       "mean         1.303960\n",
       "std          0.889990\n",
       "min          0.113721\n",
       "25%          0.918400\n",
       "50%          1.062700\n",
       "75%          1.547800\n",
       "max         14.272462\n",
       "Name: wtssall, dtype: float64"
      ]
     },
     "execution_count": 76,
     "metadata": {},
     "output_type": "execute_result"
    }
   ],
   "source": [
    "# Solution\n",
    "\n",
    "gss['wtssall'].describe()"
   ]
  },
  {
   "cell_type": "code",
   "execution_count": 77,
   "id": "d51e5b7c",
   "metadata": {},
   "outputs": [
    {
     "data": {
      "text/html": [
       "<div>\n",
       "<style scoped>\n",
       "    .dataframe tbody tr th:only-of-type {\n",
       "        vertical-align: middle;\n",
       "    }\n",
       "\n",
       "    .dataframe tbody tr th {\n",
       "        vertical-align: top;\n",
       "    }\n",
       "\n",
       "    .dataframe thead th {\n",
       "        text-align: right;\n",
       "    }\n",
       "</style>\n",
       "<table border=\"1\" class=\"dataframe\">\n",
       "  <thead>\n",
       "    <tr style=\"text-align: right;\">\n",
       "      <th></th>\n",
       "      <th>count</th>\n",
       "      <th>mean</th>\n",
       "      <th>std</th>\n",
       "      <th>min</th>\n",
       "      <th>25%</th>\n",
       "      <th>50%</th>\n",
       "      <th>75%</th>\n",
       "      <th>max</th>\n",
       "    </tr>\n",
       "    <tr>\n",
       "      <th>year</th>\n",
       "      <th></th>\n",
       "      <th></th>\n",
       "      <th></th>\n",
       "      <th></th>\n",
       "      <th></th>\n",
       "      <th></th>\n",
       "      <th></th>\n",
       "      <th></th>\n",
       "    </tr>\n",
       "  </thead>\n",
       "  <tbody>\n",
       "    <tr>\n",
       "      <th>1972</th>\n",
       "      <td>1613.0</td>\n",
       "      <td>1.146481</td>\n",
       "      <td>0.486191</td>\n",
       "      <td>0.444600</td>\n",
       "      <td>0.889300</td>\n",
       "      <td>0.889300</td>\n",
       "      <td>1.333900</td>\n",
       "      <td>3.557100</td>\n",
       "    </tr>\n",
       "    <tr>\n",
       "      <th>1973</th>\n",
       "      <td>1504.0</td>\n",
       "      <td>1.130645</td>\n",
       "      <td>0.417802</td>\n",
       "      <td>0.457200</td>\n",
       "      <td>0.914500</td>\n",
       "      <td>0.914500</td>\n",
       "      <td>1.371700</td>\n",
       "      <td>2.743500</td>\n",
       "    </tr>\n",
       "    <tr>\n",
       "      <th>1974</th>\n",
       "      <td>1484.0</td>\n",
       "      <td>1.160032</td>\n",
       "      <td>0.443681</td>\n",
       "      <td>0.466000</td>\n",
       "      <td>0.932000</td>\n",
       "      <td>0.932000</td>\n",
       "      <td>1.397900</td>\n",
       "      <td>3.727900</td>\n",
       "    </tr>\n",
       "    <tr>\n",
       "      <th>1975</th>\n",
       "      <td>1490.0</td>\n",
       "      <td>1.140258</td>\n",
       "      <td>0.466167</td>\n",
       "      <td>0.466000</td>\n",
       "      <td>0.932000</td>\n",
       "      <td>0.932000</td>\n",
       "      <td>1.397900</td>\n",
       "      <td>3.261900</td>\n",
       "    </tr>\n",
       "    <tr>\n",
       "      <th>1976</th>\n",
       "      <td>1499.0</td>\n",
       "      <td>1.147392</td>\n",
       "      <td>0.459938</td>\n",
       "      <td>0.485400</td>\n",
       "      <td>0.970900</td>\n",
       "      <td>0.970900</td>\n",
       "      <td>1.456300</td>\n",
       "      <td>3.398100</td>\n",
       "    </tr>\n",
       "    <tr>\n",
       "      <th>1977</th>\n",
       "      <td>1530.0</td>\n",
       "      <td>1.161231</td>\n",
       "      <td>0.458057</td>\n",
       "      <td>0.494100</td>\n",
       "      <td>0.988100</td>\n",
       "      <td>0.988100</td>\n",
       "      <td>1.482200</td>\n",
       "      <td>2.964400</td>\n",
       "    </tr>\n",
       "    <tr>\n",
       "      <th>1978</th>\n",
       "      <td>1532.0</td>\n",
       "      <td>1.148797</td>\n",
       "      <td>0.448502</td>\n",
       "      <td>0.506300</td>\n",
       "      <td>1.012700</td>\n",
       "      <td>1.012700</td>\n",
       "      <td>1.519000</td>\n",
       "      <td>3.038000</td>\n",
       "    </tr>\n",
       "    <tr>\n",
       "      <th>1980</th>\n",
       "      <td>1468.0</td>\n",
       "      <td>1.168663</td>\n",
       "      <td>0.486058</td>\n",
       "      <td>0.511200</td>\n",
       "      <td>1.022500</td>\n",
       "      <td>1.022500</td>\n",
       "      <td>1.533700</td>\n",
       "      <td>3.578700</td>\n",
       "    </tr>\n",
       "    <tr>\n",
       "      <th>1982</th>\n",
       "      <td>1860.0</td>\n",
       "      <td>1.189170</td>\n",
       "      <td>0.513264</td>\n",
       "      <td>0.506400</td>\n",
       "      <td>1.031900</td>\n",
       "      <td>1.031900</td>\n",
       "      <td>1.547800</td>\n",
       "      <td>4.127500</td>\n",
       "    </tr>\n",
       "    <tr>\n",
       "      <th>1983</th>\n",
       "      <td>1599.0</td>\n",
       "      <td>1.174535</td>\n",
       "      <td>0.489286</td>\n",
       "      <td>0.505800</td>\n",
       "      <td>1.011600</td>\n",
       "      <td>1.011600</td>\n",
       "      <td>1.517500</td>\n",
       "      <td>3.540700</td>\n",
       "    </tr>\n",
       "    <tr>\n",
       "      <th>1984</th>\n",
       "      <td>1473.0</td>\n",
       "      <td>1.163876</td>\n",
       "      <td>0.473032</td>\n",
       "      <td>0.516500</td>\n",
       "      <td>1.033100</td>\n",
       "      <td>1.033100</td>\n",
       "      <td>1.549600</td>\n",
       "      <td>3.615700</td>\n",
       "    </tr>\n",
       "    <tr>\n",
       "      <th>1985</th>\n",
       "      <td>1534.0</td>\n",
       "      <td>1.158889</td>\n",
       "      <td>0.463941</td>\n",
       "      <td>0.518100</td>\n",
       "      <td>1.036300</td>\n",
       "      <td>1.036300</td>\n",
       "      <td>1.554400</td>\n",
       "      <td>3.626900</td>\n",
       "    </tr>\n",
       "    <tr>\n",
       "      <th>1986</th>\n",
       "      <td>1470.0</td>\n",
       "      <td>1.164447</td>\n",
       "      <td>0.467082</td>\n",
       "      <td>0.503600</td>\n",
       "      <td>1.007200</td>\n",
       "      <td>1.007200</td>\n",
       "      <td>1.510800</td>\n",
       "      <td>3.021600</td>\n",
       "    </tr>\n",
       "    <tr>\n",
       "      <th>1987</th>\n",
       "      <td>1819.0</td>\n",
       "      <td>1.186371</td>\n",
       "      <td>0.499286</td>\n",
       "      <td>0.505200</td>\n",
       "      <td>1.010400</td>\n",
       "      <td>1.010400</td>\n",
       "      <td>1.515500</td>\n",
       "      <td>3.536200</td>\n",
       "    </tr>\n",
       "    <tr>\n",
       "      <th>1988</th>\n",
       "      <td>1481.0</td>\n",
       "      <td>1.163860</td>\n",
       "      <td>0.463531</td>\n",
       "      <td>0.531300</td>\n",
       "      <td>1.062700</td>\n",
       "      <td>1.062700</td>\n",
       "      <td>1.062700</td>\n",
       "      <td>3.719400</td>\n",
       "    </tr>\n",
       "    <tr>\n",
       "      <th>1989</th>\n",
       "      <td>1537.0</td>\n",
       "      <td>1.184300</td>\n",
       "      <td>0.504330</td>\n",
       "      <td>0.510700</td>\n",
       "      <td>1.021500</td>\n",
       "      <td>1.021500</td>\n",
       "      <td>1.532200</td>\n",
       "      <td>3.575100</td>\n",
       "    </tr>\n",
       "    <tr>\n",
       "      <th>1990</th>\n",
       "      <td>1372.0</td>\n",
       "      <td>1.161439</td>\n",
       "      <td>0.489095</td>\n",
       "      <td>0.531300</td>\n",
       "      <td>1.062700</td>\n",
       "      <td>1.062700</td>\n",
       "      <td>1.062700</td>\n",
       "      <td>3.188100</td>\n",
       "    </tr>\n",
       "    <tr>\n",
       "      <th>1991</th>\n",
       "      <td>1517.0</td>\n",
       "      <td>1.174147</td>\n",
       "      <td>0.478842</td>\n",
       "      <td>0.531100</td>\n",
       "      <td>1.062100</td>\n",
       "      <td>1.062100</td>\n",
       "      <td>1.593200</td>\n",
       "      <td>3.717500</td>\n",
       "    </tr>\n",
       "    <tr>\n",
       "      <th>1993</th>\n",
       "      <td>1606.0</td>\n",
       "      <td>1.169310</td>\n",
       "      <td>0.448682</td>\n",
       "      <td>0.528500</td>\n",
       "      <td>1.057100</td>\n",
       "      <td>1.057100</td>\n",
       "      <td>1.585600</td>\n",
       "      <td>3.699800</td>\n",
       "    </tr>\n",
       "    <tr>\n",
       "      <th>1994</th>\n",
       "      <td>2992.0</td>\n",
       "      <td>1.166058</td>\n",
       "      <td>0.457253</td>\n",
       "      <td>0.541200</td>\n",
       "      <td>1.082500</td>\n",
       "      <td>1.082500</td>\n",
       "      <td>1.082500</td>\n",
       "      <td>3.247500</td>\n",
       "    </tr>\n",
       "    <tr>\n",
       "      <th>1996</th>\n",
       "      <td>2904.0</td>\n",
       "      <td>1.181024</td>\n",
       "      <td>0.479229</td>\n",
       "      <td>0.543200</td>\n",
       "      <td>1.086400</td>\n",
       "      <td>1.086400</td>\n",
       "      <td>1.086400</td>\n",
       "      <td>3.259100</td>\n",
       "    </tr>\n",
       "    <tr>\n",
       "      <th>1998</th>\n",
       "      <td>2832.0</td>\n",
       "      <td>1.177809</td>\n",
       "      <td>0.462729</td>\n",
       "      <td>0.550100</td>\n",
       "      <td>1.100100</td>\n",
       "      <td>1.100100</td>\n",
       "      <td>1.100100</td>\n",
       "      <td>3.850400</td>\n",
       "    </tr>\n",
       "    <tr>\n",
       "      <th>2000</th>\n",
       "      <td>2817.0</td>\n",
       "      <td>1.165950</td>\n",
       "      <td>0.453726</td>\n",
       "      <td>0.549300</td>\n",
       "      <td>1.098500</td>\n",
       "      <td>1.098500</td>\n",
       "      <td>1.098500</td>\n",
       "      <td>3.295600</td>\n",
       "    </tr>\n",
       "    <tr>\n",
       "      <th>2002</th>\n",
       "      <td>2765.0</td>\n",
       "      <td>1.198505</td>\n",
       "      <td>0.507470</td>\n",
       "      <td>0.557800</td>\n",
       "      <td>1.115600</td>\n",
       "      <td>1.115600</td>\n",
       "      <td>1.115600</td>\n",
       "      <td>2.788900</td>\n",
       "    </tr>\n",
       "    <tr>\n",
       "      <th>2004</th>\n",
       "      <td>2812.0</td>\n",
       "      <td>1.299424</td>\n",
       "      <td>0.762699</td>\n",
       "      <td>0.459200</td>\n",
       "      <td>0.918400</td>\n",
       "      <td>0.961700</td>\n",
       "      <td>1.836800</td>\n",
       "      <td>6.428700</td>\n",
       "    </tr>\n",
       "    <tr>\n",
       "      <th>2006</th>\n",
       "      <td>4510.0</td>\n",
       "      <td>1.360152</td>\n",
       "      <td>0.841060</td>\n",
       "      <td>0.429700</td>\n",
       "      <td>0.859300</td>\n",
       "      <td>0.954800</td>\n",
       "      <td>1.909600</td>\n",
       "      <td>5.728800</td>\n",
       "    </tr>\n",
       "    <tr>\n",
       "      <th>2008</th>\n",
       "      <td>2023.0</td>\n",
       "      <td>1.425750</td>\n",
       "      <td>0.911863</td>\n",
       "      <td>0.437745</td>\n",
       "      <td>0.875490</td>\n",
       "      <td>1.067670</td>\n",
       "      <td>2.135340</td>\n",
       "      <td>6.406021</td>\n",
       "    </tr>\n",
       "    <tr>\n",
       "      <th>2010</th>\n",
       "      <td>2044.0</td>\n",
       "      <td>1.313222</td>\n",
       "      <td>0.726111</td>\n",
       "      <td>0.463128</td>\n",
       "      <td>0.926255</td>\n",
       "      <td>0.926255</td>\n",
       "      <td>1.684101</td>\n",
       "      <td>4.210252</td>\n",
       "    </tr>\n",
       "    <tr>\n",
       "      <th>2012</th>\n",
       "      <td>1974.0</td>\n",
       "      <td>1.366495</td>\n",
       "      <td>0.884637</td>\n",
       "      <td>0.411898</td>\n",
       "      <td>0.823796</td>\n",
       "      <td>1.235694</td>\n",
       "      <td>1.747975</td>\n",
       "      <td>8.739876</td>\n",
       "    </tr>\n",
       "    <tr>\n",
       "      <th>2014</th>\n",
       "      <td>2538.0</td>\n",
       "      <td>1.273430</td>\n",
       "      <td>0.674193</td>\n",
       "      <td>0.448002</td>\n",
       "      <td>0.896003</td>\n",
       "      <td>1.344005</td>\n",
       "      <td>1.380591</td>\n",
       "      <td>5.376020</td>\n",
       "    </tr>\n",
       "    <tr>\n",
       "      <th>2016</th>\n",
       "      <td>2867.0</td>\n",
       "      <td>1.227412</td>\n",
       "      <td>0.607020</td>\n",
       "      <td>0.391825</td>\n",
       "      <td>0.956994</td>\n",
       "      <td>0.956994</td>\n",
       "      <td>1.564363</td>\n",
       "      <td>4.306471</td>\n",
       "    </tr>\n",
       "    <tr>\n",
       "      <th>2018</th>\n",
       "      <td>2348.0</td>\n",
       "      <td>1.382192</td>\n",
       "      <td>0.936160</td>\n",
       "      <td>0.471499</td>\n",
       "      <td>0.942997</td>\n",
       "      <td>0.942997</td>\n",
       "      <td>1.414496</td>\n",
       "      <td>5.897420</td>\n",
       "    </tr>\n",
       "    <tr>\n",
       "      <th>2021</th>\n",
       "      <td>4032.0</td>\n",
       "      <td>1.551637</td>\n",
       "      <td>1.175611</td>\n",
       "      <td>0.227357</td>\n",
       "      <td>0.790829</td>\n",
       "      <td>1.195842</td>\n",
       "      <td>1.869697</td>\n",
       "      <td>7.557038</td>\n",
       "    </tr>\n",
       "    <tr>\n",
       "      <th>2022</th>\n",
       "      <td>3544.0</td>\n",
       "      <td>2.551821</td>\n",
       "      <td>2.489079</td>\n",
       "      <td>0.113721</td>\n",
       "      <td>0.714314</td>\n",
       "      <td>1.781121</td>\n",
       "      <td>3.529911</td>\n",
       "      <td>14.272462</td>\n",
       "    </tr>\n",
       "  </tbody>\n",
       "</table>\n",
       "</div>"
      ],
      "text/plain": [
       "       count      mean       std       min       25%       50%       75%  \\\n",
       "year                                                                       \n",
       "1972  1613.0  1.146481  0.486191  0.444600  0.889300  0.889300  1.333900   \n",
       "1973  1504.0  1.130645  0.417802  0.457200  0.914500  0.914500  1.371700   \n",
       "1974  1484.0  1.160032  0.443681  0.466000  0.932000  0.932000  1.397900   \n",
       "1975  1490.0  1.140258  0.466167  0.466000  0.932000  0.932000  1.397900   \n",
       "1976  1499.0  1.147392  0.459938  0.485400  0.970900  0.970900  1.456300   \n",
       "1977  1530.0  1.161231  0.458057  0.494100  0.988100  0.988100  1.482200   \n",
       "1978  1532.0  1.148797  0.448502  0.506300  1.012700  1.012700  1.519000   \n",
       "1980  1468.0  1.168663  0.486058  0.511200  1.022500  1.022500  1.533700   \n",
       "1982  1860.0  1.189170  0.513264  0.506400  1.031900  1.031900  1.547800   \n",
       "1983  1599.0  1.174535  0.489286  0.505800  1.011600  1.011600  1.517500   \n",
       "1984  1473.0  1.163876  0.473032  0.516500  1.033100  1.033100  1.549600   \n",
       "1985  1534.0  1.158889  0.463941  0.518100  1.036300  1.036300  1.554400   \n",
       "1986  1470.0  1.164447  0.467082  0.503600  1.007200  1.007200  1.510800   \n",
       "1987  1819.0  1.186371  0.499286  0.505200  1.010400  1.010400  1.515500   \n",
       "1988  1481.0  1.163860  0.463531  0.531300  1.062700  1.062700  1.062700   \n",
       "1989  1537.0  1.184300  0.504330  0.510700  1.021500  1.021500  1.532200   \n",
       "1990  1372.0  1.161439  0.489095  0.531300  1.062700  1.062700  1.062700   \n",
       "1991  1517.0  1.174147  0.478842  0.531100  1.062100  1.062100  1.593200   \n",
       "1993  1606.0  1.169310  0.448682  0.528500  1.057100  1.057100  1.585600   \n",
       "1994  2992.0  1.166058  0.457253  0.541200  1.082500  1.082500  1.082500   \n",
       "1996  2904.0  1.181024  0.479229  0.543200  1.086400  1.086400  1.086400   \n",
       "1998  2832.0  1.177809  0.462729  0.550100  1.100100  1.100100  1.100100   \n",
       "2000  2817.0  1.165950  0.453726  0.549300  1.098500  1.098500  1.098500   \n",
       "2002  2765.0  1.198505  0.507470  0.557800  1.115600  1.115600  1.115600   \n",
       "2004  2812.0  1.299424  0.762699  0.459200  0.918400  0.961700  1.836800   \n",
       "2006  4510.0  1.360152  0.841060  0.429700  0.859300  0.954800  1.909600   \n",
       "2008  2023.0  1.425750  0.911863  0.437745  0.875490  1.067670  2.135340   \n",
       "2010  2044.0  1.313222  0.726111  0.463128  0.926255  0.926255  1.684101   \n",
       "2012  1974.0  1.366495  0.884637  0.411898  0.823796  1.235694  1.747975   \n",
       "2014  2538.0  1.273430  0.674193  0.448002  0.896003  1.344005  1.380591   \n",
       "2016  2867.0  1.227412  0.607020  0.391825  0.956994  0.956994  1.564363   \n",
       "2018  2348.0  1.382192  0.936160  0.471499  0.942997  0.942997  1.414496   \n",
       "2021  4032.0  1.551637  1.175611  0.227357  0.790829  1.195842  1.869697   \n",
       "2022  3544.0  2.551821  2.489079  0.113721  0.714314  1.781121  3.529911   \n",
       "\n",
       "            max  \n",
       "year             \n",
       "1972   3.557100  \n",
       "1973   2.743500  \n",
       "1974   3.727900  \n",
       "1975   3.261900  \n",
       "1976   3.398100  \n",
       "1977   2.964400  \n",
       "1978   3.038000  \n",
       "1980   3.578700  \n",
       "1982   4.127500  \n",
       "1983   3.540700  \n",
       "1984   3.615700  \n",
       "1985   3.626900  \n",
       "1986   3.021600  \n",
       "1987   3.536200  \n",
       "1988   3.719400  \n",
       "1989   3.575100  \n",
       "1990   3.188100  \n",
       "1991   3.717500  \n",
       "1993   3.699800  \n",
       "1994   3.247500  \n",
       "1996   3.259100  \n",
       "1998   3.850400  \n",
       "2000   3.295600  \n",
       "2002   2.788900  \n",
       "2004   6.428700  \n",
       "2006   5.728800  \n",
       "2008   6.406021  \n",
       "2010   4.210252  \n",
       "2012   8.739876  \n",
       "2014   5.376020  \n",
       "2016   4.306471  \n",
       "2018   5.897420  \n",
       "2021   7.557038  \n",
       "2022  14.272462  "
      ]
     },
     "execution_count": 77,
     "metadata": {},
     "output_type": "execute_result"
    }
   ],
   "source": [
    "# Solution\n",
    "\n",
    "gss.groupby('year')['wtssall'].describe()"
   ]
  },
  {
   "cell_type": "code",
   "execution_count": 78,
   "id": "5802f1cc",
   "metadata": {},
   "outputs": [],
   "source": [
    "def resample_by_year(df, column='wtssall'):\n",
    "    \"\"\"Resample rows within each year using weighted sampling.\n",
    "\n",
    "    df: DataFrame\n",
    "    column: string name of weight variable\n",
    "\n",
    "    returns: DataFrame\n",
    "    \"\"\"\n",
    "    grouped = df.groupby('year')\n",
    "    samples = [group.sample(n=len(group), replace=True, weights=group[column])\n",
    "               for _, group in grouped]\n",
    "    sample = pd.concat(samples, ignore_index=True)\n",
    "    return sample"
   ]
  },
  {
   "cell_type": "code",
   "execution_count": 118,
   "id": "f209a3d2",
   "metadata": {},
   "outputs": [],
   "source": [
    "# Solution\n",
    "\n",
    "sample = resample_by_year(gss)"
   ]
  },
  {
   "cell_type": "code",
   "execution_count": 119,
   "id": "c7fc8c5f",
   "metadata": {},
   "outputs": [
    {
     "data": {
      "text/plain": [
       "np.float64(0.36038778568752344)"
      ]
     },
     "execution_count": 119,
     "metadata": {},
     "output_type": "execute_result"
    }
   ],
   "source": [
    "# Solution\n",
    "\n",
    "sample['y'].mean()"
   ]
  },
  {
   "cell_type": "code",
   "execution_count": 80,
   "id": "79269ff8",
   "metadata": {},
   "outputs": [
    {
     "data": {
      "text/plain": [
       "np.float64(0.3701540842890312)"
      ]
     },
     "execution_count": 80,
     "metadata": {},
     "output_type": "execute_result"
    }
   ],
   "source": [
    "# Solution\n",
    "\n",
    "gss['y'].mean()"
   ]
  },
  {
   "cell_type": "code",
   "execution_count": 82,
   "id": "e249a88d",
   "metadata": {},
   "outputs": [],
   "source": [
    "# Solution\n",
    "\n",
    "weighted_mean = np.average(valid['y'], weights=valid['wtssall'])"
   ]
  },
  {
   "cell_type": "markdown",
   "id": "15c26b32",
   "metadata": {
    "tags": []
   },
   "source": [
    "\n",
    "Copyright 2025 Allen Downey \n",
    "\n",
    "The code in this notebook is under the [MIT license](https://mit-license.org/)."
   ]
  },
  {
   "cell_type": "code",
   "execution_count": null,
   "id": "5f8e2be5",
   "metadata": {},
   "outputs": [],
   "source": []
  }
 ],
 "metadata": {
  "celltoolbar": "Tags",
  "kernelspec": {
   "display_name": "Python 3 (ipykernel)",
   "language": "python",
   "name": "python3"
  },
  "language_info": {
   "codemirror_mode": {
    "name": "ipython",
    "version": 3
   },
   "file_extension": ".py",
   "mimetype": "text/x-python",
   "name": "python",
   "nbconvert_exporter": "python",
   "pygments_lexer": "ipython3",
   "version": "3.13.2"
  }
 },
 "nbformat": 4,
 "nbformat_minor": 5
}
