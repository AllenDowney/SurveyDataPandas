{
 "cells": [
  {
   "cell_type": "markdown",
   "id": "0c6e9b43",
   "metadata": {},
   "source": [
    "# Hierarchical Categorical Regression\n",
    "\n"
   ]
  },
  {
   "cell_type": "markdown",
   "id": "48c2f26e",
   "metadata": {},
   "source": [
    "[Click here to run this notebook on Colab](https://colab.research.google.com/github/AllenDowney/SurveyDataPyMC/blob/main/notebooks/02_categorical_regression.ipynb)"
   ]
  },
  {
   "cell_type": "code",
   "execution_count": 1,
   "id": "e4548a47",
   "metadata": {},
   "outputs": [],
   "source": [
    "%load_ext autoreload\n",
    "%autoreload 2"
   ]
  },
  {
   "cell_type": "code",
   "execution_count": 2,
   "id": "fce89fc0",
   "metadata": {},
   "outputs": [],
   "source": [
    "# Get utils.py\n",
    "from os.path import basename, exists\n",
    "\n",
    "\n",
    "def download(url):\n",
    "    filename = basename(url)\n",
    "    if not exists(filename):\n",
    "        from urllib.request import urlretrieve\n",
    "\n",
    "        local, _ = urlretrieve(url, filename)\n",
    "        print(\"Downloaded \" + local)\n",
    "\n",
    "\n",
    "download(\"https://github.com/AllenDowney/SurveyDataPyMC/raw/main/notebooks/utils.py\")"
   ]
  },
  {
   "cell_type": "code",
   "execution_count": 3,
   "id": "f24d9f87",
   "metadata": {},
   "outputs": [],
   "source": [
    "import matplotlib.pyplot as plt\n",
    "import numpy as np\n",
    "import pandas as pd\n",
    "import pymc as pm\n",
    "import arviz as az\n",
    "\n",
    "from utils import value_counts, decorate, load_idata_or_sample"
   ]
  },
  {
   "cell_type": "code",
   "execution_count": 4,
   "id": "860f08d5",
   "metadata": {},
   "outputs": [],
   "source": [
    "# Make the figures smaller to save some screen real estate\n",
    "plt.rcParams[\"figure.dpi\"] = 75\n",
    "plt.rcParams[\"figure.figsize\"] = [6, 3.5]\n",
    "plt.rcParams[\"axes.titlelocation\"] = \"left\""
   ]
  },
  {
   "cell_type": "markdown",
   "id": "f6d12ba9",
   "metadata": {},
   "source": [
    "## Data\n",
    "\n",
    "The dataset we'll use is an extract from the General Social Survey.\n",
    "The following cell downloads it."
   ]
  },
  {
   "cell_type": "code",
   "execution_count": 5,
   "id": "0ad453fb",
   "metadata": {},
   "outputs": [],
   "source": [
    "# This dataset is prepared in GssExtract/notebooks/02_make_extract-2022_4.ipynb\n",
    "# It has been resampled to correct for stratified sampling\n",
    "\n",
    "DATA_PATH = \"https://github.com/AllenDowney/GssExtract/raw/main/data/interim/\"\n",
    "filename = \"gss_extract_2022_4.hdf\"\n",
    "download(DATA_PATH + filename)"
   ]
  },
  {
   "cell_type": "code",
   "execution_count": 6,
   "id": "b91bdaed",
   "metadata": {},
   "outputs": [
    {
     "data": {
      "text/plain": [
       "Index(['age', 'attend', 'ballot', 'class', 'clmtcaus', 'clmtusa', 'clmtwrld',\n",
       "       'cohort', 'commun', 'conarmy', 'conbus', 'conclerg', 'coneduc',\n",
       "       'confed', 'confinan', 'coninc', 'conjudge', 'conlabor', 'conlegis',\n",
       "       'conmedic', 'conpress', 'conrinc', 'consci', 'contv', 'degree', 'educ',\n",
       "       'eqwlth', 'fair', 'fear', 'fund', 'goodlife', 'hapmar', 'happy',\n",
       "       'health', 'helpful', 'id', 'life', 'partyid', 'polviews', 'pres16',\n",
       "       'pres20', 'race', 'realinc', 'realrinc', 'reg16', 'region', 'relig',\n",
       "       'relig16', 'reliten', 'res16', 'rincome', 'satfin', 'satjob', 'sex',\n",
       "       'sexbirth', 'sexbirth1', 'sexnow', 'sexnow1', 'srcbelt', 'trust',\n",
       "       'wtssall', 'year'],\n",
       "      dtype='object')"
      ]
     },
     "execution_count": 6,
     "metadata": {},
     "output_type": "execute_result"
    }
   ],
   "source": [
    "gss = pd.read_hdf(filename, \"gss\")\n",
    "gss.columns"
   ]
  },
  {
   "cell_type": "markdown",
   "id": "d3caf34d",
   "metadata": {},
   "source": [
    "## Categorical Regression\n",
    "\n",
    "In a categorical regression model, the dependent variable is discrete and unordered.\n",
    "\n",
    "As an example, we'll consider responses to [this question](https://gssdataexplorer.norc.org/variables/7759/vshow), asked in 2022 related to the 2020 presidential election."
   ]
  },
  {
   "cell_type": "markdown",
   "id": "10535f31",
   "metadata": {},
   "source": [
    "> Did you vote for Joe Biden or Donald Trump?\n",
    "\n",
    "```\n",
    "1 Biden\n",
    "2 Trump\n",
    "3 Other\n",
    "4 Didn't vote\n",
    "```"
   ]
  },
  {
   "cell_type": "markdown",
   "id": "e37b71a9",
   "metadata": {},
   "source": [
    "For respondents from prior to 2022, the value of this variable is NaN."
   ]
  },
  {
   "cell_type": "code",
   "execution_count": 7,
   "id": "13d77833",
   "metadata": {},
   "outputs": [
    {
     "data": {
      "text/html": [
       "<div>\n",
       "<style scoped>\n",
       "    .dataframe tbody tr th:only-of-type {\n",
       "        vertical-align: middle;\n",
       "    }\n",
       "\n",
       "    .dataframe tbody tr th {\n",
       "        vertical-align: top;\n",
       "    }\n",
       "\n",
       "    .dataframe thead th {\n",
       "        text-align: right;\n",
       "    }\n",
       "</style>\n",
       "<table border=\"1\" class=\"dataframe\">\n",
       "  <thead>\n",
       "    <tr style=\"text-align: right;\">\n",
       "      <th></th>\n",
       "      <th>counts</th>\n",
       "    </tr>\n",
       "    <tr>\n",
       "      <th>values</th>\n",
       "      <th></th>\n",
       "    </tr>\n",
       "  </thead>\n",
       "  <tbody>\n",
       "    <tr>\n",
       "      <th>1.0</th>\n",
       "      <td>1259</td>\n",
       "    </tr>\n",
       "    <tr>\n",
       "      <th>2.0</th>\n",
       "      <td>946</td>\n",
       "    </tr>\n",
       "    <tr>\n",
       "      <th>3.0</th>\n",
       "      <td>96</td>\n",
       "    </tr>\n",
       "    <tr>\n",
       "      <th>4.0</th>\n",
       "      <td>16</td>\n",
       "    </tr>\n",
       "    <tr>\n",
       "      <th>NaN</th>\n",
       "      <td>70073</td>\n",
       "    </tr>\n",
       "  </tbody>\n",
       "</table>\n",
       "</div>"
      ],
      "text/plain": [
       "        counts\n",
       "values        \n",
       "1.0       1259\n",
       "2.0        946\n",
       "3.0         96\n",
       "4.0         16\n",
       "NaN      70073"
      ]
     },
     "execution_count": 7,
     "metadata": {},
     "output_type": "execute_result"
    }
   ],
   "source": [
    "value_counts(gss[\"pres20\"])"
   ]
  },
  {
   "cell_type": "markdown",
   "id": "c7f007aa",
   "metadata": {},
   "source": [
    "In addition, we'll treat \"Didn't vote\" as missing data -- although another option would be to treat it as a fourth category."
   ]
  },
  {
   "cell_type": "code",
   "execution_count": 8,
   "id": "dbb2d5e8",
   "metadata": {},
   "outputs": [
    {
     "data": {
      "text/html": [
       "<div>\n",
       "<style scoped>\n",
       "    .dataframe tbody tr th:only-of-type {\n",
       "        vertical-align: middle;\n",
       "    }\n",
       "\n",
       "    .dataframe tbody tr th {\n",
       "        vertical-align: top;\n",
       "    }\n",
       "\n",
       "    .dataframe thead th {\n",
       "        text-align: right;\n",
       "    }\n",
       "</style>\n",
       "<table border=\"1\" class=\"dataframe\">\n",
       "  <thead>\n",
       "    <tr style=\"text-align: right;\">\n",
       "      <th></th>\n",
       "      <th>counts</th>\n",
       "    </tr>\n",
       "    <tr>\n",
       "      <th>values</th>\n",
       "      <th></th>\n",
       "    </tr>\n",
       "  </thead>\n",
       "  <tbody>\n",
       "    <tr>\n",
       "      <th>0.0</th>\n",
       "      <td>96</td>\n",
       "    </tr>\n",
       "    <tr>\n",
       "      <th>1.0</th>\n",
       "      <td>1259</td>\n",
       "    </tr>\n",
       "    <tr>\n",
       "      <th>2.0</th>\n",
       "      <td>946</td>\n",
       "    </tr>\n",
       "    <tr>\n",
       "      <th>NaN</th>\n",
       "      <td>70089</td>\n",
       "    </tr>\n",
       "  </tbody>\n",
       "</table>\n",
       "</div>"
      ],
      "text/plain": [
       "        counts\n",
       "values        \n",
       "0.0         96\n",
       "1.0       1259\n",
       "2.0        946\n",
       "NaN      70089"
      ]
     },
     "execution_count": 8,
     "metadata": {},
     "output_type": "execute_result"
    }
   ],
   "source": [
    "gss[\"y\"] = gss[\"pres20\"].replace({3: 0, 4: np.nan})\n",
    "value_counts(gss[\"y\"])"
   ]
  },
  {
   "cell_type": "markdown",
   "id": "46fe6772",
   "metadata": {},
   "source": [
    "The following dictionary maps from response codes to strings."
   ]
  },
  {
   "cell_type": "code",
   "execution_count": 9,
   "id": "cd64517f",
   "metadata": {},
   "outputs": [],
   "source": [
    "vote_map = {\n",
    "    0: \"Other\",\n",
    "    1: \"Biden\",\n",
    "    2: \"Trump\",\n",
    "}"
   ]
  },
  {
   "cell_type": "markdown",
   "id": "6f484f73",
   "metadata": {},
   "source": [
    "We'll use age as a predictor.\n",
    "In the regression model, we'll treat age as a continuous variable, but to plot the data, we'll group ages into 5-year bins."
   ]
  },
  {
   "cell_type": "code",
   "execution_count": 10,
   "id": "f5f1c7df",
   "metadata": {},
   "outputs": [],
   "source": [
    "from utils import round_into_bins\n",
    "\n",
    "gss[\"age_group\"] = round_into_bins(gss[\"age\"].copy(), 5, low=13) + 2"
   ]
  },
  {
   "cell_type": "markdown",
   "id": "2db29656",
   "metadata": {},
   "source": [
    "The following table show the percentage of respondents in each age group who gave each responses."
   ]
  },
  {
   "cell_type": "code",
   "execution_count": 11,
   "id": "c08271e2",
   "metadata": {},
   "outputs": [
    {
     "data": {
      "text/html": [
       "<div>\n",
       "<style scoped>\n",
       "    .dataframe tbody tr th:only-of-type {\n",
       "        vertical-align: middle;\n",
       "    }\n",
       "\n",
       "    .dataframe tbody tr th {\n",
       "        vertical-align: top;\n",
       "    }\n",
       "\n",
       "    .dataframe thead th {\n",
       "        text-align: right;\n",
       "    }\n",
       "</style>\n",
       "<table border=\"1\" class=\"dataframe\">\n",
       "  <thead>\n",
       "    <tr style=\"text-align: right;\">\n",
       "      <th>y</th>\n",
       "      <th>Other</th>\n",
       "      <th>Biden</th>\n",
       "      <th>Trump</th>\n",
       "    </tr>\n",
       "    <tr>\n",
       "      <th>age_group</th>\n",
       "      <th></th>\n",
       "      <th></th>\n",
       "      <th></th>\n",
       "    </tr>\n",
       "  </thead>\n",
       "  <tbody>\n",
       "    <tr>\n",
       "      <th>20.0</th>\n",
       "      <td>0.680272</td>\n",
       "      <td>61.224490</td>\n",
       "      <td>38.095238</td>\n",
       "    </tr>\n",
       "    <tr>\n",
       "      <th>25.0</th>\n",
       "      <td>9.859155</td>\n",
       "      <td>59.154930</td>\n",
       "      <td>30.985915</td>\n",
       "    </tr>\n",
       "    <tr>\n",
       "      <th>30.0</th>\n",
       "      <td>2.684564</td>\n",
       "      <td>74.496644</td>\n",
       "      <td>22.818792</td>\n",
       "    </tr>\n",
       "    <tr>\n",
       "      <th>35.0</th>\n",
       "      <td>3.816794</td>\n",
       "      <td>59.541985</td>\n",
       "      <td>36.641221</td>\n",
       "    </tr>\n",
       "    <tr>\n",
       "      <th>40.0</th>\n",
       "      <td>5.851064</td>\n",
       "      <td>39.893617</td>\n",
       "      <td>54.255319</td>\n",
       "    </tr>\n",
       "    <tr>\n",
       "      <th>45.0</th>\n",
       "      <td>7.222222</td>\n",
       "      <td>50.555556</td>\n",
       "      <td>42.222222</td>\n",
       "    </tr>\n",
       "    <tr>\n",
       "      <th>50.0</th>\n",
       "      <td>4.149378</td>\n",
       "      <td>48.962656</td>\n",
       "      <td>46.887967</td>\n",
       "    </tr>\n",
       "    <tr>\n",
       "      <th>55.0</th>\n",
       "      <td>5.747126</td>\n",
       "      <td>56.896552</td>\n",
       "      <td>37.356322</td>\n",
       "    </tr>\n",
       "    <tr>\n",
       "      <th>60.0</th>\n",
       "      <td>3.255814</td>\n",
       "      <td>53.953488</td>\n",
       "      <td>42.790698</td>\n",
       "    </tr>\n",
       "    <tr>\n",
       "      <th>65.0</th>\n",
       "      <td>2.209945</td>\n",
       "      <td>48.618785</td>\n",
       "      <td>49.171271</td>\n",
       "    </tr>\n",
       "    <tr>\n",
       "      <th>70.0</th>\n",
       "      <td>3.296703</td>\n",
       "      <td>59.890110</td>\n",
       "      <td>36.813187</td>\n",
       "    </tr>\n",
       "    <tr>\n",
       "      <th>75.0</th>\n",
       "      <td>4.195804</td>\n",
       "      <td>50.349650</td>\n",
       "      <td>45.454545</td>\n",
       "    </tr>\n",
       "    <tr>\n",
       "      <th>80.0</th>\n",
       "      <td>0.000000</td>\n",
       "      <td>38.983051</td>\n",
       "      <td>61.016949</td>\n",
       "    </tr>\n",
       "    <tr>\n",
       "      <th>85.0</th>\n",
       "      <td>10.000000</td>\n",
       "      <td>55.000000</td>\n",
       "      <td>35.000000</td>\n",
       "    </tr>\n",
       "    <tr>\n",
       "      <th>90.0</th>\n",
       "      <td>0.000000</td>\n",
       "      <td>53.846154</td>\n",
       "      <td>46.153846</td>\n",
       "    </tr>\n",
       "    <tr>\n",
       "      <th>95.0</th>\n",
       "      <td>0.862069</td>\n",
       "      <td>65.517241</td>\n",
       "      <td>33.620690</td>\n",
       "    </tr>\n",
       "  </tbody>\n",
       "</table>\n",
       "</div>"
      ],
      "text/plain": [
       "y              Other      Biden      Trump\n",
       "age_group                                 \n",
       "20.0        0.680272  61.224490  38.095238\n",
       "25.0        9.859155  59.154930  30.985915\n",
       "30.0        2.684564  74.496644  22.818792\n",
       "35.0        3.816794  59.541985  36.641221\n",
       "40.0        5.851064  39.893617  54.255319\n",
       "45.0        7.222222  50.555556  42.222222\n",
       "50.0        4.149378  48.962656  46.887967\n",
       "55.0        5.747126  56.896552  37.356322\n",
       "60.0        3.255814  53.953488  42.790698\n",
       "65.0        2.209945  48.618785  49.171271\n",
       "70.0        3.296703  59.890110  36.813187\n",
       "75.0        4.195804  50.349650  45.454545\n",
       "80.0        0.000000  38.983051  61.016949\n",
       "85.0       10.000000  55.000000  35.000000\n",
       "90.0        0.000000  53.846154  46.153846\n",
       "95.0        0.862069  65.517241  33.620690"
      ]
     },
     "execution_count": 11,
     "metadata": {},
     "output_type": "execute_result"
    }
   ],
   "source": [
    "table = pd.crosstab(gss[\"age_group\"], gss[\"y\"], normalize=\"index\") * 100\n",
    "table = table.rename(columns=vote_map)\n",
    "table"
   ]
  },
  {
   "cell_type": "markdown",
   "id": "a2034b1b",
   "metadata": {},
   "source": [
    "And here's what those results look like."
   ]
  },
  {
   "cell_type": "code",
   "execution_count": 12,
   "id": "ca8751b5",
   "metadata": {},
   "outputs": [
    {
     "data": {
      "image/png": "[encoded data removed]",
      "text/plain": [
       "<Figure size 450x262.5 with 1 Axes>"
      ]
     },
     "metadata": {},
     "output_type": "display_data"
    }
   ],
   "source": [
    "colors = [\"C4\", \"C0\", \"C3\"]\n",
    "table.plot(color=colors)\n",
    "decorate(ylabel=\"percent\", title=\"Percent voting for each candidate\")"
   ]
  },
  {
   "cell_type": "markdown",
   "id": "34043488",
   "metadata": {},
   "source": [
    "It looks like younger people were more likely to vote for Biden, and older people were more likely to vote for Trump.\n",
    "There is no obvious relationship between age and voting for a third-party candidate."
   ]
  },
  {
   "cell_type": "markdown",
   "id": "bebc180b",
   "metadata": {},
   "source": [
    "## Categorical Regression\n",
    "\n",
    "Now let's make a regression model that estimates the probability of voting for each candidate as a function of age.\n",
    "We'll select the subset of the data with valid responses."
   ]
  },
  {
   "cell_type": "code",
   "execution_count": 13,
   "id": "3c8e6e93",
   "metadata": {},
   "outputs": [
    {
     "data": {
      "text/plain": [
       "(2185, 64)"
      ]
     },
     "execution_count": 13,
     "metadata": {},
     "output_type": "execute_result"
    }
   ],
   "source": [
    "data = gss.dropna(subset=[\"y\", \"age\"])\n",
    "data.shape"
   ]
  },
  {
   "cell_type": "markdown",
   "id": "3bccaacf",
   "metadata": {},
   "source": [
    "And we'll extract the values as NumPy arrays.\n",
    "As we did with `year` in the previous notebook, we'll center the ages."
   ]
  },
  {
   "cell_type": "code",
   "execution_count": 14,
   "id": "ee50a359",
   "metadata": {},
   "outputs": [],
   "source": [
    "y = data[\"y\"].values\n",
    "age = data[\"age\"].values\n",
    "\n",
    "# Center age\n",
    "age_shift = age.mean()\n",
    "age_centered = age - age_shift"
   ]
  },
  {
   "cell_type": "markdown",
   "id": "7be70c97",
   "metadata": {},
   "source": [
    "Now, we'll build the regression model.\n",
    "\n",
    "The assumption of categorical regression is that each respondent has a latent propensity to vote for each of the candidates, which is represented on a log odds scale.\n",
    "\n",
    "The zero-point of this scale is arbitrary, so we'll choose propensity for \"Other\" as the reference point and estimate coefficients for Biden and Trump relative to Other.\n",
    "\n",
    "To map from these logits to probabilities, we'll use the `softmax` function, which is a generalization of the `expit` function we used for logistic regression.\n",
    "\n",
    "Here's the `expit` function:\n",
    "\n",
    "$$\n",
    "\\text{expit}(x) = \\frac{1}{1 + e^{-x}}\n",
    "$$\n",
    "\n",
    "This maps a single log-odds value \\( x \\) to a probability between 0 and 1.\n",
    "\n",
    "\n",
    "And here's the `softmax` function:\n",
    "\n",
    "$$\n",
    "\\text{softmax}(x_i) = \\frac{e^{x_i}}{\\sum_{j} e^{x_j}}\n",
    "$$\n",
    "\n",
    "This maps a set of logits $(x_1, x_2, \\ldots, x_n)$ to a set of probabilities that sum to 1, assigning higher probabilities to larger logits.\n",
    "\n",
    "Once we have probabilities we can compute the likelihood of the data with `Categorical`, which is the generalization of `Bernoulli` to more than two outcomes."
   ]
  },
  {
   "cell_type": "markdown",
   "id": "9cc3812e",
   "metadata": {},
   "source": [
    "## Gender in the GSS\n",
    "\n",
    "Now let's see what the interaction looks like between age and gender.\n",
    "\n",
    "[Note from GSS documentation](https://sda.berkeley.edu/sdaweb/docs/gss21/DOC/2021XSECR1MethodologicalPrimer.pdf): \n",
    "\n",
    "> In the past, GSS respondents have not been asked to self-report their sex. Instead, the GSS used a combination of interviewer observation and household rosters for the variable SEX, our standard male/female variable. In 2021, as neither household roster nor interviewer observation were available, respondents were directly asked two questions: their sex assigned at birth and their current gender identity. These two items, SEXBIRTH1 and SEXNOW1, are now the standard way of measuring sex in the GSS]\n",
    "\n",
    "Here is the question and responses.\n",
    "\n",
    "> Do you describe yourself as male, female, or transgender?\n",
    "\n",
    "```\n",
    "1\tMale\t\n",
    "2\tFemale\t\n",
    "3\tTransgender\t\n",
    "4\tNone of these\n",
    "```\n",
    "\n",
    "Here is the distribution of the responses."
   ]
  },
  {
   "cell_type": "code",
   "execution_count": 15,
   "id": "6258988e",
   "metadata": {},
   "outputs": [
    {
     "data": {
      "text/html": [
       "<div>\n",
       "<style scoped>\n",
       "    .dataframe tbody tr th:only-of-type {\n",
       "        vertical-align: middle;\n",
       "    }\n",
       "\n",
       "    .dataframe tbody tr th {\n",
       "        vertical-align: top;\n",
       "    }\n",
       "\n",
       "    .dataframe thead th {\n",
       "        text-align: right;\n",
       "    }\n",
       "</style>\n",
       "<table border=\"1\" class=\"dataframe\">\n",
       "  <thead>\n",
       "    <tr style=\"text-align: right;\">\n",
       "      <th></th>\n",
       "      <th>counts</th>\n",
       "    </tr>\n",
       "    <tr>\n",
       "      <th>values</th>\n",
       "      <th></th>\n",
       "    </tr>\n",
       "  </thead>\n",
       "  <tbody>\n",
       "    <tr>\n",
       "      <th>1.0</th>\n",
       "      <td>3620</td>\n",
       "    </tr>\n",
       "    <tr>\n",
       "      <th>2.0</th>\n",
       "      <td>3743</td>\n",
       "    </tr>\n",
       "    <tr>\n",
       "      <th>3.0</th>\n",
       "      <td>19</td>\n",
       "    </tr>\n",
       "    <tr>\n",
       "      <th>4.0</th>\n",
       "      <td>37</td>\n",
       "    </tr>\n",
       "    <tr>\n",
       "      <th>NaN</th>\n",
       "      <td>64971</td>\n",
       "    </tr>\n",
       "  </tbody>\n",
       "</table>\n",
       "</div>"
      ],
      "text/plain": [
       "        counts\n",
       "values        \n",
       "1.0       3620\n",
       "2.0       3743\n",
       "3.0         19\n",
       "4.0         37\n",
       "NaN      64971"
      ]
     },
     "execution_count": 15,
     "metadata": {},
     "output_type": "execute_result"
    }
   ],
   "source": [
    "value_counts(gss[\"sexnow1\"])"
   ]
  },
  {
   "cell_type": "code",
   "execution_count": 16,
   "id": "9f2a661b",
   "metadata": {},
   "outputs": [
    {
     "data": {
      "text/html": [
       "<div>\n",
       "<style scoped>\n",
       "    .dataframe tbody tr th:only-of-type {\n",
       "        vertical-align: middle;\n",
       "    }\n",
       "\n",
       "    .dataframe tbody tr th {\n",
       "        vertical-align: top;\n",
       "    }\n",
       "\n",
       "    .dataframe thead th {\n",
       "        text-align: right;\n",
       "    }\n",
       "</style>\n",
       "<table border=\"1\" class=\"dataframe\">\n",
       "  <thead>\n",
       "    <tr style=\"text-align: right;\">\n",
       "      <th>sexbirth1</th>\n",
       "      <th>1.0</th>\n",
       "      <th>2.0</th>\n",
       "    </tr>\n",
       "    <tr>\n",
       "      <th>sexnow1</th>\n",
       "      <th></th>\n",
       "      <th></th>\n",
       "    </tr>\n",
       "  </thead>\n",
       "  <tbody>\n",
       "    <tr>\n",
       "      <th>1.0</th>\n",
       "      <td>3611</td>\n",
       "      <td>7</td>\n",
       "    </tr>\n",
       "    <tr>\n",
       "      <th>2.0</th>\n",
       "      <td>7</td>\n",
       "      <td>3718</td>\n",
       "    </tr>\n",
       "    <tr>\n",
       "      <th>3.0</th>\n",
       "      <td>6</td>\n",
       "      <td>13</td>\n",
       "    </tr>\n",
       "    <tr>\n",
       "      <th>4.0</th>\n",
       "      <td>4</td>\n",
       "      <td>30</td>\n",
       "    </tr>\n",
       "  </tbody>\n",
       "</table>\n",
       "</div>"
      ],
      "text/plain": [
       "sexbirth1   1.0   2.0\n",
       "sexnow1              \n",
       "1.0        3611     7\n",
       "2.0           7  3718\n",
       "3.0           6    13\n",
       "4.0           4    30"
      ]
     },
     "execution_count": 16,
     "metadata": {},
     "output_type": "execute_result"
    }
   ],
   "source": [
    "pd.crosstab(gss['sexnow1'], gss['sexbirth1'])"
   ]
  },
  {
   "cell_type": "markdown",
   "id": "ff8f8197",
   "metadata": {},
   "source": [
    "For this example, we will limit the analysis to people who identify as male or female.\n",
    "As an aside, a hierarchical model would be a good way to conduct this analysis with all gender groups."
   ]
  },
  {
   "cell_type": "code",
   "execution_count": 17,
   "id": "741d709c",
   "metadata": {},
   "outputs": [
    {
     "data": {
      "text/plain": [
       "3611"
      ]
     },
     "execution_count": 17,
     "metadata": {},
     "output_type": "execute_result"
    }
   ],
   "source": [
    "cismale = (gss['sexbirth1'] == 1) & (gss['sexnow1'] == 1)\n",
    "cismale.sum()"
   ]
  },
  {
   "cell_type": "code",
   "execution_count": 18,
   "id": "687eb313",
   "metadata": {},
   "outputs": [
    {
     "data": {
      "text/plain": [
       "3718"
      ]
     },
     "execution_count": 18,
     "metadata": {},
     "output_type": "execute_result"
    }
   ],
   "source": [
    "cisfemale = (gss['sexbirth1'] == 2) & (gss['sexnow1'] == 2)\n",
    "cisfemale.sum()"
   ]
  },
  {
   "cell_type": "code",
   "execution_count": 19,
   "id": "69c06454",
   "metadata": {},
   "outputs": [
    {
     "data": {
      "text/plain": [
       "20"
      ]
     },
     "execution_count": 19,
     "metadata": {},
     "output_type": "execute_result"
    }
   ],
   "source": [
    "transmale = (gss['sexbirth1'] == 2) & (gss['sexnow1'].isin([1, 3]))\n",
    "transmale.sum()"
   ]
  },
  {
   "cell_type": "code",
   "execution_count": 20,
   "id": "d95205b7",
   "metadata": {},
   "outputs": [
    {
     "data": {
      "text/plain": [
       "13"
      ]
     },
     "execution_count": 20,
     "metadata": {},
     "output_type": "execute_result"
    }
   ],
   "source": [
    "transfemale = (gss['sexbirth1'] == 1) & (gss['sexnow1'].isin([2, 3]))\n",
    "transfemale.sum()"
   ]
  },
  {
   "cell_type": "code",
   "execution_count": 21,
   "id": "c68ea829",
   "metadata": {},
   "outputs": [
    {
     "data": {
      "text/plain": [
       "37"
      ]
     },
     "execution_count": 21,
     "metadata": {},
     "output_type": "execute_result"
    }
   ],
   "source": [
    "noneofthese = (gss['sexnow1'] == 4)\n",
    "noneofthese.sum()"
   ]
  },
  {
   "cell_type": "code",
   "execution_count": 22,
   "id": "af17bfba",
   "metadata": {},
   "outputs": [
    {
     "data": {
      "text/html": [
       "<div>\n",
       "<style scoped>\n",
       "    .dataframe tbody tr th:only-of-type {\n",
       "        vertical-align: middle;\n",
       "    }\n",
       "\n",
       "    .dataframe tbody tr th {\n",
       "        vertical-align: top;\n",
       "    }\n",
       "\n",
       "    .dataframe thead th {\n",
       "        text-align: right;\n",
       "    }\n",
       "</style>\n",
       "<table border=\"1\" class=\"dataframe\">\n",
       "  <thead>\n",
       "    <tr style=\"text-align: right;\">\n",
       "      <th></th>\n",
       "      <th>counts</th>\n",
       "    </tr>\n",
       "    <tr>\n",
       "      <th>values</th>\n",
       "      <th></th>\n",
       "    </tr>\n",
       "  </thead>\n",
       "  <tbody>\n",
       "    <tr>\n",
       "      <th>0.0</th>\n",
       "      <td>3611</td>\n",
       "    </tr>\n",
       "    <tr>\n",
       "      <th>1.0</th>\n",
       "      <td>3718</td>\n",
       "    </tr>\n",
       "    <tr>\n",
       "      <th>2.0</th>\n",
       "      <td>20</td>\n",
       "    </tr>\n",
       "    <tr>\n",
       "      <th>3.0</th>\n",
       "      <td>13</td>\n",
       "    </tr>\n",
       "    <tr>\n",
       "      <th>4.0</th>\n",
       "      <td>37</td>\n",
       "    </tr>\n",
       "    <tr>\n",
       "      <th>NaN</th>\n",
       "      <td>64991</td>\n",
       "    </tr>\n",
       "  </tbody>\n",
       "</table>\n",
       "</div>"
      ],
      "text/plain": [
       "        counts\n",
       "values        \n",
       "0.0       3611\n",
       "1.0       3718\n",
       "2.0         20\n",
       "3.0         13\n",
       "4.0         37\n",
       "NaN      64991"
      ]
     },
     "execution_count": 22,
     "metadata": {},
     "output_type": "execute_result"
    }
   ],
   "source": [
    "gss['gender5'] = np.nan\n",
    "gss.loc[cismale, 'gender5'] = 0\n",
    "gss.loc[cisfemale, 'gender5'] = 1\n",
    "gss.loc[transmale, 'gender5'] = 2\n",
    "gss.loc[transfemale, 'gender5'] = 3\n",
    "gss.loc[noneofthese, 'gender5'] = 4\n",
    "value_counts(gss['gender5'])"
   ]
  },
  {
   "cell_type": "code",
   "execution_count": 45,
   "id": "a8a030d5",
   "metadata": {},
   "outputs": [
    {
     "data": {
      "text/html": [
       "<div>\n",
       "<style scoped>\n",
       "    .dataframe tbody tr th:only-of-type {\n",
       "        vertical-align: middle;\n",
       "    }\n",
       "\n",
       "    .dataframe tbody tr th {\n",
       "        vertical-align: top;\n",
       "    }\n",
       "\n",
       "    .dataframe thead th {\n",
       "        text-align: right;\n",
       "    }\n",
       "</style>\n",
       "<table border=\"1\" class=\"dataframe\">\n",
       "  <thead>\n",
       "    <tr style=\"text-align: right;\">\n",
       "      <th>pres20</th>\n",
       "      <th>1.0</th>\n",
       "      <th>2.0</th>\n",
       "      <th>3.0</th>\n",
       "      <th>4.0</th>\n",
       "    </tr>\n",
       "    <tr>\n",
       "      <th>gender5</th>\n",
       "      <th></th>\n",
       "      <th></th>\n",
       "      <th></th>\n",
       "      <th></th>\n",
       "    </tr>\n",
       "  </thead>\n",
       "  <tbody>\n",
       "    <tr>\n",
       "      <th>0.0</th>\n",
       "      <td>538</td>\n",
       "      <td>507</td>\n",
       "      <td>48</td>\n",
       "      <td>7</td>\n",
       "    </tr>\n",
       "    <tr>\n",
       "      <th>1.0</th>\n",
       "      <td>705</td>\n",
       "      <td>434</td>\n",
       "      <td>48</td>\n",
       "      <td>9</td>\n",
       "    </tr>\n",
       "    <tr>\n",
       "      <th>2.0</th>\n",
       "      <td>9</td>\n",
       "      <td>0</td>\n",
       "      <td>0</td>\n",
       "      <td>0</td>\n",
       "    </tr>\n",
       "    <tr>\n",
       "      <th>3.0</th>\n",
       "      <td>1</td>\n",
       "      <td>4</td>\n",
       "      <td>0</td>\n",
       "      <td>0</td>\n",
       "    </tr>\n",
       "    <tr>\n",
       "      <th>4.0</th>\n",
       "      <td>4</td>\n",
       "      <td>1</td>\n",
       "      <td>0</td>\n",
       "      <td>0</td>\n",
       "    </tr>\n",
       "  </tbody>\n",
       "</table>\n",
       "</div>"
      ],
      "text/plain": [
       "pres20   1.0  2.0  3.0  4.0\n",
       "gender5                    \n",
       "0.0      538  507   48    7\n",
       "1.0      705  434   48    9\n",
       "2.0        9    0    0    0\n",
       "3.0        1    4    0    0\n",
       "4.0        4    1    0    0"
      ]
     },
     "execution_count": 45,
     "metadata": {},
     "output_type": "execute_result"
    }
   ],
   "source": [
    "pd.crosstab(gss['gender5'], gss['pres20'])"
   ]
  },
  {
   "cell_type": "markdown",
   "id": "1b839eee",
   "metadata": {},
   "source": [
    "## Hierarchical Model"
   ]
  },
  {
   "cell_type": "markdown",
   "id": "bba254c6",
   "metadata": {},
   "source": [
    "Now we'll prepare the data for use in the model."
   ]
  },
  {
   "cell_type": "code",
   "execution_count": 23,
   "id": "633c1c80",
   "metadata": {},
   "outputs": [
    {
     "data": {
      "text/plain": [
       "(2299, 65)"
      ]
     },
     "execution_count": 23,
     "metadata": {},
     "output_type": "execute_result"
    }
   ],
   "source": [
    "data = gss.dropna(subset=[\"y\", \"gender5\"])\n",
    "data.shape"
   ]
  },
  {
   "cell_type": "code",
   "execution_count": 24,
   "id": "50c99a46",
   "metadata": {},
   "outputs": [],
   "source": [
    "y = data[\"y\"].to_numpy()\n",
    "gender = data[\"gender5\"].to_numpy().astype(int)"
   ]
  },
  {
   "cell_type": "markdown",
   "id": "d4dd04b2",
   "metadata": {},
   "source": [
    "Here's the non-hierarchical version"
   ]
  },
  {
   "cell_type": "code",
   "execution_count": null,
   "id": "1ecbf717",
   "metadata": {},
   "outputs": [],
   "source": [
    "with pm.Model() as categorical:\n",
    "    # Separate intercept for each gender and candidate\n",
    "    alpha_gender = pm.Normal(\"alpha_gender\", 0, 1, shape=(2, 5))\n",
    "\n",
    "    # Lookup the right intercept for each respondent\n",
    "    intercept = alpha_gender[:, gender]  # shape (n_obs, 2)\n",
    "\n",
    "    # Compute logits\n",
    "    logit_other = np.zeros(len(y))\n",
    "    logit_biden = intercept[0]\n",
    "    logit_trump = intercept[1]\n",
    "\n",
    "    logits = pm.math.stack([logit_other, logit_biden, logit_trump], axis=1)\n",
    "\n",
    "    # Compute probabilities\n",
    "    p = pm.math.softmax(logits, axis=1)\n",
    "\n",
    "    # Likelihood\n",
    "    y_obs = pm.Categorical(\"y_obs\", p=p, observed=y)\n"
   ]
  },
  {
   "cell_type": "code",
   "execution_count": 47,
   "id": "4f11298e",
   "metadata": {},
   "outputs": [
    {
     "data": {
      "image/svg+xml": [
       "<?xml version=\"1.0\" encoding=\"UTF-8\" standalone=\"no\"?>\n",
       "<!DOCTYPE svg PUBLIC \"-//W3C//DTD SVG 1.1//EN\"\n",
       " \"http://www.w3.org/Graphics/SVG/1.1/DTD/svg11.dtd\">\n",
       "<!-- Generated by graphviz version 2.43.0 (0)\n",
       " -->\n",
       "<!-- Title: %3 Pages: 1 -->\n",
       "<svg width=\"200pt\" height=\"260pt\"\n",
       " viewBox=\"0.00 0.00 200.00 259.91\" xmlns=\"http://www.w3.org/2000/svg\" xmlns:xlink=\"http://www.w3.org/1999/xlink\">\n",
       "<g id=\"graph0\" class=\"graph\" transform=\"scale(1 1) rotate(0) translate(4 255.91)\">\n",
       "<title>%3</title>\n",
       "<polygon fill=\"white\" stroke=\"transparent\" points=\"-4,4 -4,-255.91 196,-255.91 196,4 -4,4\"/>\n",
       "<g id=\"clust1\" class=\"cluster\">\n",
       "<title>cluster2 x 5</title>\n",
       "<path fill=\"none\" stroke=\"black\" d=\"M20,-129.95C20,-129.95 172,-129.95 172,-129.95 178,-129.95 184,-135.95 184,-141.95 184,-141.95 184,-231.91 184,-231.91 184,-237.91 178,-243.91 172,-243.91 172,-243.91 20,-243.91 20,-243.91 14,-243.91 8,-237.91 8,-231.91 8,-231.91 8,-141.95 8,-141.95 8,-135.95 14,-129.95 20,-129.95\"/>\n",
       "<text text-anchor=\"middle\" x=\"158\" y=\"-137.75\" font-family=\"Times,serif\" font-size=\"14.00\">2 x 5</text>\n",
       "</g>\n",
       "<g id=\"clust2\" class=\"cluster\">\n",
       "<title>cluster2299</title>\n",
       "<path fill=\"none\" stroke=\"black\" d=\"M31,-8C31,-8 161,-8 161,-8 167,-8 173,-14 173,-20 173,-20 173,-109.95 173,-109.95 173,-115.95 167,-121.95 161,-121.95 161,-121.95 31,-121.95 31,-121.95 25,-121.95 19,-115.95 19,-109.95 19,-109.95 19,-20 19,-20 19,-14 25,-8 31,-8\"/>\n",
       "<text text-anchor=\"middle\" x=\"146.5\" y=\"-15.8\" font-family=\"Times,serif\" font-size=\"14.00\">2299</text>\n",
       "</g>\n",
       "<!-- alpha_gender -->\n",
       "<g id=\"node1\" class=\"node\">\n",
       "<title>alpha_gender</title>\n",
       "<ellipse fill=\"none\" stroke=\"black\" cx=\"96\" cy=\"-198.43\" rx=\"79.81\" ry=\"37.45\"/>\n",
       "<text text-anchor=\"middle\" x=\"96\" y=\"-209.73\" font-family=\"Times,serif\" font-size=\"14.00\">alpha_gender</text>\n",
       "<text text-anchor=\"middle\" x=\"96\" y=\"-194.73\" font-family=\"Times,serif\" font-size=\"14.00\">~</text>\n",
       "<text text-anchor=\"middle\" x=\"96\" y=\"-179.73\" font-family=\"Times,serif\" font-size=\"14.00\">Normal</text>\n",
       "</g>\n",
       "<!-- y_obs -->\n",
       "<g id=\"node2\" class=\"node\">\n",
       "<title>y_obs</title>\n",
       "<ellipse fill=\"lightgrey\" stroke=\"black\" cx=\"96\" cy=\"-76.48\" rx=\"69.09\" ry=\"37.45\"/>\n",
       "<text text-anchor=\"middle\" x=\"96\" y=\"-87.78\" font-family=\"Times,serif\" font-size=\"14.00\">y_obs</text>\n",
       "<text text-anchor=\"middle\" x=\"96\" y=\"-72.78\" font-family=\"Times,serif\" font-size=\"14.00\">~</text>\n",
       "<text text-anchor=\"middle\" x=\"96\" y=\"-57.78\" font-family=\"Times,serif\" font-size=\"14.00\">Categorical</text>\n",
       "</g>\n",
       "<!-- alpha_gender&#45;&gt;y_obs -->\n",
       "<g id=\"edge1\" class=\"edge\">\n",
       "<title>alpha_gender&#45;&gt;y_obs</title>\n",
       "<path fill=\"none\" stroke=\"black\" d=\"M96,-160.79C96,-149.38 96,-136.65 96,-124.63\"/>\n",
       "<polygon fill=\"black\" stroke=\"black\" points=\"99.5,-124.31 96,-114.31 92.5,-124.31 99.5,-124.31\"/>\n",
       "</g>\n",
       "</g>\n",
       "</svg>\n"
      ],
      "text/plain": [
       "<graphviz.graphs.Digraph at 0x7fd236c198e0>"
      ]
     },
     "execution_count": 47,
     "metadata": {},
     "output_type": "execute_result"
    }
   ],
   "source": [
    "pm.model_to_graphviz(categorical)"
   ]
  },
  {
   "cell_type": "code",
   "execution_count": null,
   "id": "08b934a4",
   "metadata": {},
   "outputs": [],
   "source": [
    "filename = 'categorical_idata.nc'\n",
    "idata = load_idata_or_sample(categorical, filename, draws=500, tune=500)"
   ]
  },
  {
   "cell_type": "code",
   "execution_count": null,
   "id": "8654b5f6",
   "metadata": {},
   "outputs": [],
   "source": [
    "az.summary(idata)"
   ]
  },
  {
   "cell_type": "code",
   "execution_count": 42,
   "id": "fb716013",
   "metadata": {},
   "outputs": [
    {
     "data": {
      "image/png": "[encoded data removed]",
      "text/plain": [
       "<Figure size 900x150 with 2 Axes>"
      ]
     },
     "metadata": {},
     "output_type": "display_data"
    }
   ],
   "source": [
    "az.plot_trace(idata)\n",
    "decorate()"
   ]
  },
  {
   "cell_type": "code",
   "execution_count": 43,
   "id": "96846604",
   "metadata": {
    "scrolled": true
   },
   "outputs": [
    {
     "data": {
      "image/png": "[encoded data removed]",
      "text/plain": [
       "<Figure size 450x600 with 1 Axes>"
      ]
     },
     "metadata": {},
     "output_type": "display_data"
    }
   ],
   "source": [
    "az.plot_forest(idata)\n",
    "decorate()"
   ]
  },
  {
   "cell_type": "markdown",
   "id": "a0471efc",
   "metadata": {},
   "source": [
    "And here's the model with gender as an additional categorical predictor."
   ]
  },
  {
   "cell_type": "code",
   "execution_count": null,
   "id": "560ba1ee",
   "metadata": {},
   "outputs": [],
   "source": [
    "with pm.Model() as hierarchical:\n",
    "    mu_alpha = pm.Normal(\"mu_alpha\", 2, 0.3, shape=2)           # candidate\n",
    "    sigma_alpha = pm.HalfNormal(\"sigma_alpha\", 0.2, shape=2)    # candidate\n",
    "\n",
    "    alpha_offset = pm.Normal(\"alpha_offset\", 0, 1, shape=(2, 5))  # candidate x gender\n",
    "    alpha_gender = pm.Deterministic(\"alpha_gender\", mu_alpha[:, None] + sigma_alpha[:, None] * alpha_offset)\n",
    "\n",
    "    # Now lookup by candidate first, then gender\n",
    "    intercept = alpha_gender[:, gender]  # shape (2, n_obs)\n",
    "\n",
    "    logit_other = np.zeros(len(gender))\n",
    "    logit_biden = intercept[0, :]\n",
    "    logit_trump = intercept[1, :]\n",
    "\n",
    "    logits = pm.math.stack([logit_other, logit_biden, logit_trump], axis=1)\n",
    "\n",
    "    p = pm.math.softmax(logits, axis=1)\n",
    "\n",
    "    y_obs = pm.Categorical(\"y_obs\", p=p, observed=y)\n"
   ]
  },
  {
   "cell_type": "code",
   "execution_count": null,
   "id": "4a6fa2a5",
   "metadata": {},
   "outputs": [],
   "source": [
    "pm.model_to_graphviz(hierarchical)"
   ]
  },
  {
   "cell_type": "code",
   "execution_count": null,
   "id": "d64bbe32",
   "metadata": {},
   "outputs": [],
   "source": [
    "!rm hierarchical_idata.nc"
   ]
  },
  {
   "cell_type": "code",
   "execution_count": null,
   "id": "48e60a97",
   "metadata": {},
   "outputs": [],
   "source": [
    "filename = 'hierarchical_idata.nc'\n",
    "idata = load_idata_or_sample(hierarchical, filename, draws=500, target_accept=0.95)"
   ]
  },
  {
   "cell_type": "code",
   "execution_count": null,
   "id": "3c4fba58",
   "metadata": {},
   "outputs": [],
   "source": [
    "az.plot_posterior(idata, var_names=['mu_alpha', 'sigma_alpha'])\n",
    "decorate()"
   ]
  },
  {
   "cell_type": "code",
   "execution_count": null,
   "id": "c5ec46a3",
   "metadata": {
    "scrolled": true
   },
   "outputs": [],
   "source": [
    "az.plot_forest(\n",
    "    idata,\n",
    "    var_names=[\"alpha_gender\"],\n",
    "    combined=True,\n",
    ")\n",
    "decorate()"
   ]
  },
  {
   "cell_type": "code",
   "execution_count": null,
   "id": "044d6b16",
   "metadata": {},
   "outputs": [],
   "source": []
  }
 ],
 "metadata": {
  "kernelspec": {
   "display_name": "Python 3 (ipykernel)",
   "language": "python",
   "name": "python3"
  },
  "language_info": {
   "codemirror_mode": {
    "name": "ipython",
    "version": 3
   },
   "file_extension": ".py",
   "mimetype": "text/x-python",
   "name": "python",
   "nbconvert_exporter": "python",
   "pygments_lexer": "ipython3",
   "version": "3.12.4"
  }
 },
 "nbformat": 4,
 "nbformat_minor": 5
}
