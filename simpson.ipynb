{
 "cells": [
  {
   "cell_type": "markdown",
   "id": "4a54069c",
   "metadata": {
    "tags": []
   },
   "source": [
    "# PyCon Workshop"
   ]
  },
  {
   "cell_type": "markdown",
   "id": "ae03b77a",
   "metadata": {
    "tags": []
   },
   "source": [
    "[Click here to run this notebook on Colab](https://colab.research.google.com/github/AllenDowney/PoliticalAlignmentCaseStudy/blob/main/workshop/TODO.ipynb)."
   ]
  },
  {
   "cell_type": "code",
   "execution_count": 1,
   "id": "4b39d70a",
   "metadata": {},
   "outputs": [],
   "source": [
    "%load_ext autoreload\n",
    "%autoreload 2"
   ]
  },
  {
   "cell_type": "code",
   "execution_count": 2,
   "id": "da5ed279",
   "metadata": {
    "tags": [
     "hide-cell"
    ]
   },
   "outputs": [],
   "source": [
    "# Install empiricaldist if we don't already have it\n",
    "\n",
    "try:\n",
    "    import empiricaldist\n",
    "except ImportError:\n",
    "    !pip install empiricaldist"
   ]
  },
  {
   "cell_type": "code",
   "execution_count": 3,
   "id": "87cab00c",
   "metadata": {
    "tags": [
     "hide-cell"
    ]
   },
   "outputs": [],
   "source": [
    "# download utils.py\n",
    "\n",
    "from os.path import basename, exists\n",
    "\n",
    "def download(url):\n",
    "    filename = basename(url)\n",
    "    if not exists(filename):\n",
    "        from urllib.request import urlretrieve\n",
    "        local, _ = urlretrieve(url, filename)\n",
    "        print('Downloaded ' + local)\n",
    "        \n",
    "download(\"https://github.com/AllenDowney/ProbablyOverthinkingIt/raw/book/notebooks/utils.py\")"
   ]
  },
  {
   "cell_type": "code",
   "execution_count": 4,
   "id": "81d5b707",
   "metadata": {
    "tags": [
     "hide-cell"
    ]
   },
   "outputs": [],
   "source": [
    "import pandas as pd\n",
    "import numpy as np\n",
    "import matplotlib.pyplot as plt\n",
    "import seaborn as sns\n",
    "\n",
    "from utils import decorate\n",
    "\n",
    "# Set the random seed so we get the same results every time\n",
    "np.random.seed(17)\n",
    "\n",
    "plt.rcParams[\"figure.figsize\"] = 7, 3.5\n",
    "plt.rcParams[\"figure.dpi\"] = 75\n",
    "plt.rcParams[\"axes.titlelocation\"] = \"left\"\n",
    "plt.rcParams[\"axes.spines.top\"] = False\n",
    "plt.rcParams[\"axes.spines.bottom\"] = False\n",
    "plt.rcParams[\"axes.spines.left\"] = False\n",
    "plt.rcParams[\"axes.spines.right\"] = False"
   ]
  },
  {
   "cell_type": "markdown",
   "id": "f17a6470",
   "metadata": {
    "tags": []
   },
   "source": [
    "## Old Optimists, Young Pessimists\n",
    "\n",
    "Would you say that most of the time people try to be helpful, or that they are mostly just looking out for themselves? Almost every year since 1972, the General Social Survey (GSS) has posed that question to a representative sample of adult residents of the United States.\n",
    "\n",
    "The following figure shows how the responses have changed over time.\n",
    "The circles show the percentage of people in each survey who said that people try to be helpful."
   ]
  },
  {
   "cell_type": "code",
   "execution_count": 5,
   "id": "5b8c8edb",
   "metadata": {},
   "outputs": [],
   "source": [
    "# This dataset is prepared in the GssExtract repository\n",
    "\n",
    "DATA_PATH = \"https://github.com/AllenDowney/GssExtract/raw/main/data/interim/\"\n",
    "\n",
    "filename = \"gss_extract_pacs_workshop.hdf\"\n",
    "download(DATA_PATH + filename)"
   ]
  },
  {
   "cell_type": "code",
   "execution_count": 6,
   "id": "f033ca49",
   "metadata": {
    "tags": []
   },
   "outputs": [
    {
     "data": {
      "text/plain": [
       "(72390, 29)"
      ]
     },
     "execution_count": 6,
     "metadata": {},
     "output_type": "execute_result"
    }
   ],
   "source": [
    "gss = pd.read_hdf(filename, \"gss\")\n",
    "gss.shape"
   ]
  },
  {
   "cell_type": "code",
   "execution_count": 7,
   "id": "f7c4a735",
   "metadata": {},
   "outputs": [
    {
     "data": {
      "text/html": [
       "<div>\n",
       "<style scoped>\n",
       "    .dataframe tbody tr th:only-of-type {\n",
       "        vertical-align: middle;\n",
       "    }\n",
       "\n",
       "    .dataframe tbody tr th {\n",
       "        vertical-align: top;\n",
       "    }\n",
       "\n",
       "    .dataframe thead th {\n",
       "        text-align: right;\n",
       "    }\n",
       "</style>\n",
       "<table border=\"1\" class=\"dataframe\">\n",
       "  <thead>\n",
       "    <tr style=\"text-align: right;\">\n",
       "      <th></th>\n",
       "      <th>age</th>\n",
       "      <th>attend</th>\n",
       "      <th>ballot</th>\n",
       "      <th>class</th>\n",
       "      <th>cohort</th>\n",
       "      <th>degree</th>\n",
       "      <th>educ</th>\n",
       "      <th>fair</th>\n",
       "      <th>fear</th>\n",
       "      <th>goodlife</th>\n",
       "      <th>...</th>\n",
       "      <th>region</th>\n",
       "      <th>relig</th>\n",
       "      <th>rincome</th>\n",
       "      <th>satfin</th>\n",
       "      <th>satjob</th>\n",
       "      <th>sex</th>\n",
       "      <th>srcbelt</th>\n",
       "      <th>trust</th>\n",
       "      <th>wtssall</th>\n",
       "      <th>year</th>\n",
       "    </tr>\n",
       "  </thead>\n",
       "  <tbody>\n",
       "    <tr>\n",
       "      <th>0</th>\n",
       "      <td>24.0</td>\n",
       "      <td>1.0</td>\n",
       "      <td>NaN</td>\n",
       "      <td>3.0</td>\n",
       "      <td>1948.0</td>\n",
       "      <td>3.0</td>\n",
       "      <td>16.0</td>\n",
       "      <td>2.0</td>\n",
       "      <td>NaN</td>\n",
       "      <td>NaN</td>\n",
       "      <td>...</td>\n",
       "      <td>1</td>\n",
       "      <td>1.0</td>\n",
       "      <td>NaN</td>\n",
       "      <td>1.0</td>\n",
       "      <td>NaN</td>\n",
       "      <td>1.0</td>\n",
       "      <td>5.0</td>\n",
       "      <td>1.0</td>\n",
       "      <td>1.3339</td>\n",
       "      <td>1972</td>\n",
       "    </tr>\n",
       "    <tr>\n",
       "      <th>1</th>\n",
       "      <td>33.0</td>\n",
       "      <td>2.0</td>\n",
       "      <td>NaN</td>\n",
       "      <td>2.0</td>\n",
       "      <td>1939.0</td>\n",
       "      <td>0.0</td>\n",
       "      <td>10.0</td>\n",
       "      <td>2.0</td>\n",
       "      <td>NaN</td>\n",
       "      <td>NaN</td>\n",
       "      <td>...</td>\n",
       "      <td>1</td>\n",
       "      <td>2.0</td>\n",
       "      <td>NaN</td>\n",
       "      <td>3.0</td>\n",
       "      <td>2.0</td>\n",
       "      <td>1.0</td>\n",
       "      <td>1.0</td>\n",
       "      <td>1.0</td>\n",
       "      <td>0.8893</td>\n",
       "      <td>1972</td>\n",
       "    </tr>\n",
       "    <tr>\n",
       "      <th>2</th>\n",
       "      <td>40.0</td>\n",
       "      <td>8.0</td>\n",
       "      <td>NaN</td>\n",
       "      <td>2.0</td>\n",
       "      <td>1932.0</td>\n",
       "      <td>1.0</td>\n",
       "      <td>12.0</td>\n",
       "      <td>2.0</td>\n",
       "      <td>NaN</td>\n",
       "      <td>NaN</td>\n",
       "      <td>...</td>\n",
       "      <td>1</td>\n",
       "      <td>5.0</td>\n",
       "      <td>NaN</td>\n",
       "      <td>1.0</td>\n",
       "      <td>NaN</td>\n",
       "      <td>2.0</td>\n",
       "      <td>3.0</td>\n",
       "      <td>2.0</td>\n",
       "      <td>1.3339</td>\n",
       "      <td>1972</td>\n",
       "    </tr>\n",
       "    <tr>\n",
       "      <th>3</th>\n",
       "      <td>24.0</td>\n",
       "      <td>2.0</td>\n",
       "      <td>NaN</td>\n",
       "      <td>2.0</td>\n",
       "      <td>1948.0</td>\n",
       "      <td>1.0</td>\n",
       "      <td>12.0</td>\n",
       "      <td>1.0</td>\n",
       "      <td>NaN</td>\n",
       "      <td>NaN</td>\n",
       "      <td>...</td>\n",
       "      <td>9</td>\n",
       "      <td>2.0</td>\n",
       "      <td>NaN</td>\n",
       "      <td>2.0</td>\n",
       "      <td>NaN</td>\n",
       "      <td>1.0</td>\n",
       "      <td>3.0</td>\n",
       "      <td>2.0</td>\n",
       "      <td>1.7786</td>\n",
       "      <td>1972</td>\n",
       "    </tr>\n",
       "    <tr>\n",
       "      <th>4</th>\n",
       "      <td>21.0</td>\n",
       "      <td>7.0</td>\n",
       "      <td>NaN</td>\n",
       "      <td>3.0</td>\n",
       "      <td>1951.0</td>\n",
       "      <td>1.0</td>\n",
       "      <td>12.0</td>\n",
       "      <td>1.0</td>\n",
       "      <td>NaN</td>\n",
       "      <td>NaN</td>\n",
       "      <td>...</td>\n",
       "      <td>9</td>\n",
       "      <td>1.0</td>\n",
       "      <td>NaN</td>\n",
       "      <td>1.0</td>\n",
       "      <td>NaN</td>\n",
       "      <td>2.0</td>\n",
       "      <td>2.0</td>\n",
       "      <td>NaN</td>\n",
       "      <td>1.7786</td>\n",
       "      <td>1972</td>\n",
       "    </tr>\n",
       "  </tbody>\n",
       "</table>\n",
       "<p>5 rows × 29 columns</p>\n",
       "</div>"
      ],
      "text/plain": [
       "    age  attend  ballot  class  cohort  degree  educ  fair  fear  goodlife  \\\n",
       "0  24.0     1.0     NaN    3.0  1948.0     3.0  16.0   2.0   NaN       NaN   \n",
       "1  33.0     2.0     NaN    2.0  1939.0     0.0  10.0   2.0   NaN       NaN   \n",
       "2  40.0     8.0     NaN    2.0  1932.0     1.0  12.0   2.0   NaN       NaN   \n",
       "3  24.0     2.0     NaN    2.0  1948.0     1.0  12.0   1.0   NaN       NaN   \n",
       "4  21.0     7.0     NaN    3.0  1951.0     1.0  12.0   1.0   NaN       NaN   \n",
       "\n",
       "   ...  region  relig  rincome  satfin  satjob  sex  srcbelt  trust  wtssall  \\\n",
       "0  ...       1    1.0      NaN     1.0     NaN  1.0      5.0    1.0   1.3339   \n",
       "1  ...       1    2.0      NaN     3.0     2.0  1.0      1.0    1.0   0.8893   \n",
       "2  ...       1    5.0      NaN     1.0     NaN  2.0      3.0    2.0   1.3339   \n",
       "3  ...       9    2.0      NaN     2.0     NaN  1.0      3.0    2.0   1.7786   \n",
       "4  ...       9    1.0      NaN     1.0     NaN  2.0      2.0    NaN   1.7786   \n",
       "\n",
       "   year  \n",
       "0  1972  \n",
       "1  1972  \n",
       "2  1972  \n",
       "3  1972  \n",
       "4  1972  \n",
       "\n",
       "[5 rows x 29 columns]"
      ]
     },
     "execution_count": 7,
     "metadata": {},
     "output_type": "execute_result"
    }
   ],
   "source": [
    "gss.head()"
   ]
  },
  {
   "cell_type": "markdown",
   "id": "5f886d72",
   "metadata": {
    "tags": []
   },
   "source": [
    "\n",
    "https://gssdataexplorer.norc.org/variables/439/vshow\n",
    "\n",
    "\"Would you say that most of the time people try to be helpful, or that they are mostly just looking out for themselves?\"\n",
    "\n",
    "```\n",
    "1: Helpful\n",
    "2: Look out for themselves\n",
    "3: Depends\n",
    "```"
   ]
  },
  {
   "cell_type": "code",
   "execution_count": 8,
   "id": "638a6ffb",
   "metadata": {
    "tags": []
   },
   "outputs": [],
   "source": [
    "question = \"\"\"Would you say that most of the time people try to be helpful, \n",
    "or that they are mostly just looking out for themselves?\n",
    "\"\"\"\n",
    "\n",
    "responses = ['Helpful', 'Look out\\nfor themselves', 'Depends']\n",
    "\n",
    "ylabel = \"Percent saying 'helpful'\""
   ]
  },
  {
   "cell_type": "code",
   "execution_count": 9,
   "id": "24800e8f",
   "metadata": {
    "tags": []
   },
   "outputs": [
    {
     "data": {
      "text/plain": [
       "0        2.0\n",
       "1        1.0\n",
       "2        2.0\n",
       "3        2.0\n",
       "4        2.0\n",
       "        ... \n",
       "72385    2.0\n",
       "72386    1.0\n",
       "72387    NaN\n",
       "72388    NaN\n",
       "72389    1.0\n",
       "Name: helpful, Length: 72390, dtype: float64"
      ]
     },
     "execution_count": 9,
     "metadata": {},
     "output_type": "execute_result"
    }
   ],
   "source": [
    "column = gss['helpful']\n",
    "column"
   ]
  },
  {
   "cell_type": "code",
   "execution_count": 10,
   "id": "e87d8806",
   "metadata": {
    "tags": []
   },
   "outputs": [
    {
     "data": {
      "text/plain": [
       "helpful\n",
       "1.0    20471\n",
       "2.0    18972\n",
       "3.0     2971\n",
       "Name: count, dtype: int64"
      ]
     },
     "execution_count": 10,
     "metadata": {},
     "output_type": "execute_result"
    }
   ],
   "source": [
    "column.value_counts()"
   ]
  },
  {
   "cell_type": "code",
   "execution_count": 11,
   "id": "41e9499f",
   "metadata": {},
   "outputs": [],
   "source": [
    "def value_counts(seq, **options):\n",
    "    \"\"\"Make a series of values and the number of times they appear.\n",
    "\n",
    "    Args:\n",
    "        seq: sequence\n",
    "\n",
    "    returns: Pandas Series\n",
    "    \"\"\"\n",
    "    return pd.Series(seq).value_counts(**options).sort_index()"
   ]
  },
  {
   "cell_type": "code",
   "execution_count": 12,
   "id": "d96e00d6",
   "metadata": {
    "tags": []
   },
   "outputs": [
    {
     "data": {
      "text/plain": [
       "helpful\n",
       "1.0    20471\n",
       "2.0    18972\n",
       "3.0     2971\n",
       "Name: count, dtype: int64"
      ]
     },
     "execution_count": 12,
     "metadata": {},
     "output_type": "execute_result"
    }
   ],
   "source": [
    "value_counts(column)"
   ]
  },
  {
   "cell_type": "code",
   "execution_count": 13,
   "id": "c4eee813",
   "metadata": {
    "tags": []
   },
   "outputs": [
    {
     "data": {
      "text/plain": [
       "helpful\n",
       "1.0    20471\n",
       "2.0    18972\n",
       "3.0     2971\n",
       "NaN    29976\n",
       "Name: count, dtype: int64"
      ]
     },
     "execution_count": 13,
     "metadata": {},
     "output_type": "execute_result"
    }
   ],
   "source": [
    "value_counts(column, dropna=False)"
   ]
  },
  {
   "cell_type": "code",
   "execution_count": 14,
   "id": "bc32f06d",
   "metadata": {},
   "outputs": [
    {
     "data": {
      "text/plain": [
       "helpful\n",
       "1.0    0.482647\n",
       "2.0    0.447305\n",
       "3.0    0.070048\n",
       "Name: proportion, dtype: float64"
      ]
     },
     "execution_count": 14,
     "metadata": {},
     "output_type": "execute_result"
    }
   ],
   "source": [
    "pmf = value_counts(column, normalize=True)\n",
    "pmf"
   ]
  },
  {
   "cell_type": "code",
   "execution_count": 15,
   "id": "638757c7",
   "metadata": {
    "tags": []
   },
   "outputs": [
    {
     "data": {
      "text/html": [
       "<div>\n",
       "<style scoped>\n",
       "    .dataframe tbody tr th:only-of-type {\n",
       "        vertical-align: middle;\n",
       "    }\n",
       "\n",
       "    .dataframe tbody tr th {\n",
       "        vertical-align: top;\n",
       "    }\n",
       "\n",
       "    .dataframe thead th {\n",
       "        text-align: right;\n",
       "    }\n",
       "</style>\n",
       "<table border=\"1\" class=\"dataframe\">\n",
       "  <thead>\n",
       "    <tr style=\"text-align: right;\">\n",
       "      <th></th>\n",
       "      <th>probs</th>\n",
       "    </tr>\n",
       "    <tr>\n",
       "      <th>helpful</th>\n",
       "      <th></th>\n",
       "    </tr>\n",
       "  </thead>\n",
       "  <tbody>\n",
       "    <tr>\n",
       "      <th>1.0</th>\n",
       "      <td>0.482647</td>\n",
       "    </tr>\n",
       "    <tr>\n",
       "      <th>2.0</th>\n",
       "      <td>0.447305</td>\n",
       "    </tr>\n",
       "    <tr>\n",
       "      <th>3.0</th>\n",
       "      <td>0.070048</td>\n",
       "    </tr>\n",
       "  </tbody>\n",
       "</table>\n",
       "</div>"
      ],
      "text/plain": [
       "helpful\n",
       "1.0    0.482647\n",
       "2.0    0.447305\n",
       "3.0    0.070048\n",
       "Name: , dtype: float64"
      ]
     },
     "execution_count": 15,
     "metadata": {},
     "output_type": "execute_result"
    }
   ],
   "source": [
    "from empiricaldist import Pmf\n",
    "\n",
    "pmf = Pmf.from_seq(column)\n",
    "pmf"
   ]
  },
  {
   "cell_type": "code",
   "execution_count": 16,
   "id": "ed7f0736",
   "metadata": {},
   "outputs": [],
   "source": [
    "def decorate(**options):\n",
    "    \"\"\"Decorate the current axes.\n",
    "\n",
    "    Call decorate with keyword arguments like\n",
    "    decorate(title='Title',\n",
    "             xlabel='x',\n",
    "             ylabel='y')\n",
    "\n",
    "    The keyword arguments can be any of the axis properties\n",
    "    https://matplotlib.org/api/axes_api.html\n",
    "    \"\"\"\n",
    "    legend = options.pop(\"legend\", True)\n",
    "    loc = options.pop(\"loc\", \"best\")\n",
    "\n",
    "    # Pass options to Axis.set\n",
    "    ax = plt.gca()\n",
    "    ax.set(**options)\n",
    "\n",
    "    # Add a legend if there are any labeled elements\n",
    "    handles, labels = ax.get_legend_handles_labels()\n",
    "    if handles and legend:\n",
    "        ax.legend(handles, labels, loc=loc)\n",
    "\n",
    "    # Tight layout is generally a good idea\n",
    "    plt.tight_layout()"
   ]
  },
  {
   "cell_type": "code",
   "execution_count": 17,
   "id": "aeb1e023",
   "metadata": {
    "tags": []
   },
   "outputs": [
    {
     "data": {
      "image/png": "[encoded data removed]",
      "text/plain": [
       "<Figure size 525x262.5 with 1 Axes>"
      ]
     },
     "metadata": {},
     "output_type": "display_data"
    }
   ],
   "source": [
    "pmf.bar()\n",
    "plt.xticks([1, 2, 3], responses)\n",
    "\n",
    "decorate(ylabel='PMF')"
   ]
  },
  {
   "cell_type": "markdown",
   "id": "e861a36e",
   "metadata": {},
   "source": [
    "## Time Series"
   ]
  },
  {
   "cell_type": "code",
   "execution_count": 18,
   "id": "150065c6",
   "metadata": {},
   "outputs": [
    {
     "data": {
      "text/plain": [
       "(1613, 29)"
      ]
     },
     "execution_count": 18,
     "metadata": {},
     "output_type": "execute_result"
    }
   ],
   "source": [
    "gss72 = gss.query('year == 1972')\n",
    "gss72.shape"
   ]
  },
  {
   "cell_type": "code",
   "execution_count": 19,
   "id": "3bb645dd",
   "metadata": {},
   "outputs": [
    {
     "data": {
      "text/html": [
       "<div>\n",
       "<style scoped>\n",
       "    .dataframe tbody tr th:only-of-type {\n",
       "        vertical-align: middle;\n",
       "    }\n",
       "\n",
       "    .dataframe tbody tr th {\n",
       "        vertical-align: top;\n",
       "    }\n",
       "\n",
       "    .dataframe thead th {\n",
       "        text-align: right;\n",
       "    }\n",
       "</style>\n",
       "<table border=\"1\" class=\"dataframe\">\n",
       "  <thead>\n",
       "    <tr style=\"text-align: right;\">\n",
       "      <th></th>\n",
       "      <th>probs</th>\n",
       "    </tr>\n",
       "    <tr>\n",
       "      <th>helpful</th>\n",
       "      <th></th>\n",
       "    </tr>\n",
       "  </thead>\n",
       "  <tbody>\n",
       "    <tr>\n",
       "      <th>1.0</th>\n",
       "      <td>0.467549</td>\n",
       "    </tr>\n",
       "    <tr>\n",
       "      <th>2.0</th>\n",
       "      <td>0.473220</td>\n",
       "    </tr>\n",
       "    <tr>\n",
       "      <th>3.0</th>\n",
       "      <td>0.059231</td>\n",
       "    </tr>\n",
       "  </tbody>\n",
       "</table>\n",
       "</div>"
      ],
      "text/plain": [
       "helpful\n",
       "1.0    0.467549\n",
       "2.0    0.473220\n",
       "3.0    0.059231\n",
       "Name: , dtype: float64"
      ]
     },
     "execution_count": 19,
     "metadata": {},
     "output_type": "execute_result"
    }
   ],
   "source": [
    "pmf72 = Pmf.from_seq(gss72['helpful'])\n",
    "pmf72"
   ]
  },
  {
   "cell_type": "code",
   "execution_count": 20,
   "id": "d5445d24",
   "metadata": {},
   "outputs": [
    {
     "data": {
      "text/html": [
       "<div>\n",
       "<style scoped>\n",
       "    .dataframe tbody tr th:only-of-type {\n",
       "        vertical-align: middle;\n",
       "    }\n",
       "\n",
       "    .dataframe tbody tr th {\n",
       "        vertical-align: top;\n",
       "    }\n",
       "\n",
       "    .dataframe thead th {\n",
       "        text-align: right;\n",
       "    }\n",
       "</style>\n",
       "<table border=\"1\" class=\"dataframe\">\n",
       "  <thead>\n",
       "    <tr style=\"text-align: right;\">\n",
       "      <th>helpful</th>\n",
       "      <th>1.0</th>\n",
       "      <th>2.0</th>\n",
       "      <th>3.0</th>\n",
       "    </tr>\n",
       "    <tr>\n",
       "      <th>year</th>\n",
       "      <th></th>\n",
       "      <th></th>\n",
       "      <th></th>\n",
       "    </tr>\n",
       "  </thead>\n",
       "  <tbody>\n",
       "    <tr>\n",
       "      <th>1972</th>\n",
       "      <td>0.467549</td>\n",
       "      <td>0.473220</td>\n",
       "      <td>0.059231</td>\n",
       "    </tr>\n",
       "    <tr>\n",
       "      <th>1973</th>\n",
       "      <td>0.478581</td>\n",
       "      <td>0.492637</td>\n",
       "      <td>0.028782</td>\n",
       "    </tr>\n",
       "    <tr>\n",
       "      <th>1975</th>\n",
       "      <td>0.589588</td>\n",
       "      <td>0.354293</td>\n",
       "      <td>0.056119</td>\n",
       "    </tr>\n",
       "    <tr>\n",
       "      <th>1976</th>\n",
       "      <td>0.435278</td>\n",
       "      <td>0.499665</td>\n",
       "      <td>0.065057</td>\n",
       "    </tr>\n",
       "    <tr>\n",
       "      <th>1978</th>\n",
       "      <td>0.592252</td>\n",
       "      <td>0.353907</td>\n",
       "      <td>0.053841</td>\n",
       "    </tr>\n",
       "  </tbody>\n",
       "</table>\n",
       "</div>"
      ],
      "text/plain": [
       "helpful       1.0       2.0       3.0\n",
       "year                                 \n",
       "1972     0.467549  0.473220  0.059231\n",
       "1973     0.478581  0.492637  0.028782\n",
       "1975     0.589588  0.354293  0.056119\n",
       "1976     0.435278  0.499665  0.065057\n",
       "1978     0.592252  0.353907  0.053841"
      ]
     },
     "execution_count": 20,
     "metadata": {},
     "output_type": "execute_result"
    }
   ],
   "source": [
    "xtab = pd.crosstab(gss[\"year\"], gss[\"helpful\"], normalize='index')\n",
    "xtab.head()"
   ]
  },
  {
   "cell_type": "code",
   "execution_count": 21,
   "id": "3de224ac",
   "metadata": {
    "tags": []
   },
   "outputs": [],
   "source": [
    "time_series = xtab[1] * 100\n",
    "time_series.name = \"data\""
   ]
  },
  {
   "cell_type": "code",
   "execution_count": 22,
   "id": "faed1034",
   "metadata": {
    "tags": []
   },
   "outputs": [
    {
     "data": {
      "image/png": "[encoded data removed]",
      "text/plain": [
       "<Figure size 525x262.5 with 1 Axes>"
      ]
     },
     "metadata": {},
     "output_type": "display_data"
    }
   ],
   "source": [
    "time_series.plot(style='o')\n",
    "decorate(\n",
    "    xlabel=\"Year of survey\",\n",
    "    ylabel=ylabel,\n",
    "    title=question,\n",
    ")"
   ]
  },
  {
   "cell_type": "code",
   "execution_count": 23,
   "id": "c27b2229",
   "metadata": {
    "tags": []
   },
   "outputs": [],
   "source": [
    "from statsmodels.nonparametric.smoothers_lowess import lowess\n",
    "\n",
    "\n",
    "def make_lowess(series, frac=0.5):\n",
    "    \"\"\"Use LOWESS to compute a smooth line.\n",
    "\n",
    "    series: pd.Series\n",
    "\n",
    "    returns: pd.Series\n",
    "    \"\"\"\n",
    "    y = series.to_numpy()\n",
    "    x = series.index.to_numpy()\n",
    "\n",
    "    smooth = lowess(y, x, frac)\n",
    "    index, data = np.transpose(smooth)\n",
    "\n",
    "    return pd.Series(data, index=index)"
   ]
  },
  {
   "cell_type": "code",
   "execution_count": 24,
   "id": "5cb0bd01",
   "metadata": {},
   "outputs": [],
   "source": [
    "smooth = make_lowess(time_series)"
   ]
  },
  {
   "cell_type": "code",
   "execution_count": 25,
   "id": "467e97e2",
   "metadata": {},
   "outputs": [
    {
     "data": {
      "image/png": "[encoded data removed]",
      "text/plain": [
       "<Figure size 525x262.5 with 1 Axes>"
      ]
     },
     "metadata": {},
     "output_type": "display_data"
    }
   ],
   "source": [
    "time_series.plot(style='o', alpha=0.5)\n",
    "smooth.plot(label='smoothed', color='C0')\n",
    "\n",
    "decorate(\n",
    "    xlabel=\"Year of survey\",\n",
    "    ylabel=ylabel,\n",
    "    title=question,\n",
    ")"
   ]
  },
  {
   "cell_type": "code",
   "execution_count": 26,
   "id": "138f9a41",
   "metadata": {},
   "outputs": [
    {
     "data": {
      "text/plain": [
       "y\n",
       "False    51919\n",
       "True     20471\n",
       "Name: count, dtype: int64"
      ]
     },
     "execution_count": 26,
     "metadata": {},
     "output_type": "execute_result"
    }
   ],
   "source": [
    "# tempting but wrong\n",
    "\n",
    "gss['y'] = gss['helpful'] == 1\n",
    "value_counts(gss['y'])"
   ]
  },
  {
   "cell_type": "code",
   "execution_count": 27,
   "id": "13d48d30",
   "metadata": {},
   "outputs": [
    {
     "data": {
      "text/plain": [
       "y\n",
       "0.0    21943\n",
       "1.0    20471\n",
       "NaN    29976\n",
       "Name: count, dtype: int64"
      ]
     },
     "execution_count": 27,
     "metadata": {},
     "output_type": "execute_result"
    }
   ],
   "source": [
    "gss['y'] = np.where(gss['helpful'].notna(), gss['helpful'] == 1, np.nan)\n",
    "value_counts(gss['y'], dropna=False)"
   ]
  },
  {
   "cell_type": "code",
   "execution_count": 28,
   "id": "30491bab",
   "metadata": {},
   "outputs": [
    {
     "data": {
      "text/plain": [
       "y\n",
       "0.0    21943\n",
       "1.0    20471\n",
       "NaN    29976\n",
       "Name: count, dtype: int64"
      ]
     },
     "execution_count": 28,
     "metadata": {},
     "output_type": "execute_result"
    }
   ],
   "source": [
    "gss['y'] = gss['helpful'].replace([1, 2, 3], [1, 0, 0])\n",
    "value_counts(gss['y'], dropna=False)"
   ]
  },
  {
   "cell_type": "markdown",
   "id": "42a5c63e",
   "metadata": {},
   "source": [
    "## Pivot tables"
   ]
  },
  {
   "cell_type": "code",
   "execution_count": 29,
   "id": "68171510",
   "metadata": {},
   "outputs": [],
   "source": [
    "polviews_map = {\n",
    "    1: 'Liberal',\n",
    "    2: 'Liberal',\n",
    "    3: 'Liberal',\n",
    "    4: 'Moderate',\n",
    "    5: 'Conservative',\n",
    "    6: 'Conservative',\n",
    "    7: 'Conservative',\n",
    "}"
   ]
  },
  {
   "cell_type": "code",
   "execution_count": 30,
   "id": "1d89b4b4",
   "metadata": {},
   "outputs": [],
   "source": [
    "gss['polviews3'] = gss['polviews'].replace(polviews_map)"
   ]
  },
  {
   "cell_type": "code",
   "execution_count": 31,
   "id": "a3ab054c",
   "metadata": {},
   "outputs": [
    {
     "data": {
      "text/plain": [
       "polviews3\n",
       "Conservative    21580\n",
       "Liberal         17370\n",
       "Moderate        23912\n",
       "Name: count, dtype: int64"
      ]
     },
     "execution_count": 31,
     "metadata": {},
     "output_type": "execute_result"
    }
   ],
   "source": [
    "value_counts(gss['polviews3'])"
   ]
  },
  {
   "cell_type": "code",
   "execution_count": 32,
   "id": "f3b0e5d0",
   "metadata": {},
   "outputs": [
    {
     "data": {
      "text/html": [
       "<div>\n",
       "<style scoped>\n",
       "    .dataframe tbody tr th:only-of-type {\n",
       "        vertical-align: middle;\n",
       "    }\n",
       "\n",
       "    .dataframe tbody tr th {\n",
       "        vertical-align: top;\n",
       "    }\n",
       "\n",
       "    .dataframe thead th {\n",
       "        text-align: right;\n",
       "    }\n",
       "</style>\n",
       "<table border=\"1\" class=\"dataframe\">\n",
       "  <thead>\n",
       "    <tr style=\"text-align: right;\">\n",
       "      <th>polviews3</th>\n",
       "      <th>Conservative</th>\n",
       "      <th>Liberal</th>\n",
       "      <th>Moderate</th>\n",
       "    </tr>\n",
       "    <tr>\n",
       "      <th>year</th>\n",
       "      <th></th>\n",
       "      <th></th>\n",
       "      <th></th>\n",
       "    </tr>\n",
       "  </thead>\n",
       "  <tbody>\n",
       "    <tr>\n",
       "      <th>1975</th>\n",
       "      <td>0.653759</td>\n",
       "      <td>0.604762</td>\n",
       "      <td>0.557621</td>\n",
       "    </tr>\n",
       "    <tr>\n",
       "      <th>1976</th>\n",
       "      <td>0.451346</td>\n",
       "      <td>0.423398</td>\n",
       "      <td>0.454386</td>\n",
       "    </tr>\n",
       "    <tr>\n",
       "      <th>1978</th>\n",
       "      <td>0.666667</td>\n",
       "      <td>0.542453</td>\n",
       "      <td>0.583187</td>\n",
       "    </tr>\n",
       "    <tr>\n",
       "      <th>1980</th>\n",
       "      <td>0.528827</td>\n",
       "      <td>0.448485</td>\n",
       "      <td>0.497521</td>\n",
       "    </tr>\n",
       "    <tr>\n",
       "      <th>1983</th>\n",
       "      <td>0.584362</td>\n",
       "      <td>0.531915</td>\n",
       "      <td>0.574603</td>\n",
       "    </tr>\n",
       "  </tbody>\n",
       "</table>\n",
       "</div>"
      ],
      "text/plain": [
       "polviews3  Conservative   Liberal  Moderate\n",
       "year                                       \n",
       "1975           0.653759  0.604762  0.557621\n",
       "1976           0.451346  0.423398  0.454386\n",
       "1978           0.666667  0.542453  0.583187\n",
       "1980           0.528827  0.448485  0.497521\n",
       "1983           0.584362  0.531915  0.574603"
      ]
     },
     "execution_count": 32,
     "metadata": {},
     "output_type": "execute_result"
    }
   ],
   "source": [
    "table = gss.pivot_table(\n",
    "    index='year', columns='polviews3', values='y', aggfunc='mean'\n",
    ")\n",
    "table.head()"
   ]
  },
  {
   "cell_type": "code",
   "execution_count": 33,
   "id": "b1cc5d7f",
   "metadata": {},
   "outputs": [
    {
     "data": {
      "image/png": "[encoded data removed]",
      "text/plain": [
       "<Figure size 525x262.5 with 1 Axes>"
      ]
     },
     "metadata": {},
     "output_type": "display_data"
    }
   ],
   "source": [
    "table.plot(style='.:')\n",
    "decorate()"
   ]
  },
  {
   "cell_type": "code",
   "execution_count": 34,
   "id": "0eea125f",
   "metadata": {},
   "outputs": [
    {
     "data": {
      "image/png": "[encoded data removed]",
      "text/plain": [
       "<Figure size 375x75 with 1 Axes>"
      ]
     },
     "metadata": {},
     "output_type": "display_data"
    }
   ],
   "source": [
    "muted = sns.color_palette('muted', 5)\n",
    "sns.palplot(muted)"
   ]
  },
  {
   "cell_type": "code",
   "execution_count": 35,
   "id": "9ea71c61",
   "metadata": {},
   "outputs": [],
   "source": [
    "color_map = {\n",
    "    'Conservative': muted[3], \n",
    "    'Moderate': muted[4], \n",
    "    'Liberal': muted[0]\n",
    "}"
   ]
  },
  {
   "cell_type": "code",
   "execution_count": 36,
   "id": "e55427ad",
   "metadata": {},
   "outputs": [
    {
     "data": {
      "image/png": "[encoded data removed]",
      "text/plain": [
       "<Figure size 525x262.5 with 1 Axes>"
      ]
     },
     "metadata": {},
     "output_type": "display_data"
    }
   ],
   "source": [
    "groups = ['Conservative', 'Liberal', 'Moderate']\n",
    "\n",
    "for group in groups:\n",
    "    series = table[group]\n",
    "    color = color_map[group]\n",
    "    series.plot(style='o', label='', color=color, alpha=0.3)\n",
    "    smooth = make_lowess(series)\n",
    "    smooth.plot(label=group, color=color)\n",
    "\n",
    "decorate(\n",
    "    xlabel='Year',\n",
    "    ylabel=ylabel,\n",
    "    title=question,\n",
    ")"
   ]
  },
  {
   "cell_type": "markdown",
   "id": "9808ce10",
   "metadata": {},
   "source": [
    "## Group by"
   ]
  },
  {
   "cell_type": "markdown",
   "id": "4b83f645",
   "metadata": {},
   "source": [
    "Now that we have `y` as a binary variable, we have another way to compute the time series."
   ]
  },
  {
   "cell_type": "code",
   "execution_count": 37,
   "id": "a23f06ae",
   "metadata": {},
   "outputs": [],
   "source": [
    "valid = gss.dropna(subset=['y'])"
   ]
  },
  {
   "cell_type": "code",
   "execution_count": 38,
   "id": "638849b3",
   "metadata": {},
   "outputs": [
    {
     "data": {
      "text/plain": [
       "True"
      ]
     },
     "execution_count": 38,
     "metadata": {},
     "output_type": "execute_result"
    }
   ],
   "source": [
    "time_series2 = valid.groupby('year')['y'].mean() * 100\n",
    "np.allclose(time_series, time_series2)"
   ]
  },
  {
   "cell_type": "markdown",
   "id": "f0e472ea",
   "metadata": {},
   "source": [
    "And the pivot table"
   ]
  },
  {
   "cell_type": "code",
   "execution_count": 39,
   "id": "0bd08fd9",
   "metadata": {},
   "outputs": [
    {
     "data": {
      "text/plain": [
       "False"
      ]
     },
     "execution_count": 39,
     "metadata": {},
     "output_type": "execute_result"
    }
   ],
   "source": [
    "table2 = valid.groupby(['year', 'polviews3'])['y'].mean().unstack() * 100\n",
    "np.allclose(table, table2)"
   ]
  },
  {
   "cell_type": "markdown",
   "id": "c00890ed",
   "metadata": {},
   "source": [
    "There are pros and cons of each method."
   ]
  },
  {
   "cell_type": "markdown",
   "id": "6114afb1",
   "metadata": {},
   "source": [
    "## Logistic regression"
   ]
  },
  {
   "cell_type": "code",
   "execution_count": 40,
   "id": "3b655a3f",
   "metadata": {},
   "outputs": [],
   "source": [
    "year_shift = gss['year'].median()\n",
    "gss['x'] = gss['year'] - year_shift"
   ]
  },
  {
   "cell_type": "code",
   "execution_count": 43,
   "id": "ac4f9578",
   "metadata": {},
   "outputs": [],
   "source": [
    "valid_year = gss.dropna(subset=['y', 'x'])"
   ]
  },
  {
   "cell_type": "code",
   "execution_count": 45,
   "id": "51af637f",
   "metadata": {},
   "outputs": [
    {
     "name": "stdout",
     "output_type": "stream",
     "text": [
      "Optimization terminated successfully.\n",
      "         Current function value: 0.691405\n",
      "         Iterations 3\n"
     ]
    },
    {
     "data": {
      "text/html": [
       "<table class=\"simpletable\">\n",
       "<caption>Logit Regression Results</caption>\n",
       "<tr>\n",
       "  <th>Dep. Variable:</th>           <td>y</td>        <th>  No. Observations:  </th>  <td> 42414</td>  \n",
       "</tr>\n",
       "<tr>\n",
       "  <th>Model:</th>                 <td>Logit</td>      <th>  Df Residuals:      </th>  <td> 42411</td>  \n",
       "</tr>\n",
       "<tr>\n",
       "  <th>Method:</th>                 <td>MLE</td>       <th>  Df Model:          </th>  <td>     2</td>  \n",
       "</tr>\n",
       "<tr>\n",
       "  <th>Date:</th>            <td>Wed, 23 Apr 2025</td> <th>  Pseudo R-squ.:     </th> <td>0.001646</td> \n",
       "</tr>\n",
       "<tr>\n",
       "  <th>Time:</th>                <td>21:05:26</td>     <th>  Log-Likelihood:    </th> <td> -29325.</td> \n",
       "</tr>\n",
       "<tr>\n",
       "  <th>converged:</th>             <td>True</td>       <th>  LL-Null:           </th> <td> -29374.</td> \n",
       "</tr>\n",
       "<tr>\n",
       "  <th>Covariance Type:</th>     <td>nonrobust</td>    <th>  LLR p-value:       </th> <td>9.969e-22</td>\n",
       "</tr>\n",
       "</table>\n",
       "<table class=\"simpletable\">\n",
       "<tr>\n",
       "      <td></td>         <th>coef</th>     <th>std err</th>      <th>z</th>      <th>P>|z|</th>  <th>[0.025</th>    <th>0.975]</th>  \n",
       "</tr>\n",
       "<tr>\n",
       "  <th>Intercept</th> <td>   -0.0823</td> <td>    0.014</td> <td>   -5.778</td> <td> 0.000</td> <td>   -0.110</td> <td>   -0.054</td>\n",
       "</tr>\n",
       "<tr>\n",
       "  <th>x</th>         <td>   -0.0067</td> <td>    0.001</td> <td>   -9.587</td> <td> 0.000</td> <td>   -0.008</td> <td>   -0.005</td>\n",
       "</tr>\n",
       "<tr>\n",
       "  <th>I(x ** 2)</th> <td>-3.607e-05</td> <td> 4.95e-05</td> <td>   -0.728</td> <td> 0.467</td> <td>   -0.000</td> <td>  6.1e-05</td>\n",
       "</tr>\n",
       "</table>"
      ],
      "text/latex": [
       "\\begin{center}\n",
       "\\begin{tabular}{lclc}\n",
       "\\toprule\n",
       "\\textbf{Dep. Variable:}   &        y         & \\textbf{  No. Observations:  } &    42414    \\\\\n",
       "\\textbf{Model:}           &      Logit       & \\textbf{  Df Residuals:      } &    42411    \\\\\n",
       "\\textbf{Method:}          &       MLE        & \\textbf{  Df Model:          } &        2    \\\\\n",
       "\\textbf{Date:}            & Wed, 23 Apr 2025 & \\textbf{  Pseudo R-squ.:     } &  0.001646   \\\\\n",
       "\\textbf{Time:}            &     21:05:26     & \\textbf{  Log-Likelihood:    } &   -29325.   \\\\\n",
       "\\textbf{converged:}       &       True       & \\textbf{  LL-Null:           } &   -29374.   \\\\\n",
       "\\textbf{Covariance Type:} &    nonrobust     & \\textbf{  LLR p-value:       } & 9.969e-22   \\\\\n",
       "\\bottomrule\n",
       "\\end{tabular}\n",
       "\\begin{tabular}{lcccccc}\n",
       "                   & \\textbf{coef} & \\textbf{std err} & \\textbf{z} & \\textbf{P$> |$z$|$} & \\textbf{[0.025} & \\textbf{0.975]}  \\\\\n",
       "\\midrule\n",
       "\\textbf{Intercept} &      -0.0823  &        0.014     &    -5.778  &         0.000        &       -0.110    &       -0.054     \\\\\n",
       "\\textbf{x}         &      -0.0067  &        0.001     &    -9.587  &         0.000        &       -0.008    &       -0.005     \\\\\n",
       "\\textbf{I(x ** 2)} &   -3.607e-05  &     4.95e-05     &    -0.728  &         0.467        &       -0.000    &      6.1e-05     \\\\\n",
       "\\bottomrule\n",
       "\\end{tabular}\n",
       "%\\caption{Logit Regression Results}\n",
       "\\end{center}"
      ],
      "text/plain": [
       "<class 'statsmodels.iolib.summary.Summary'>\n",
       "\"\"\"\n",
       "                           Logit Regression Results                           \n",
       "==============================================================================\n",
       "Dep. Variable:                      y   No. Observations:                42414\n",
       "Model:                          Logit   Df Residuals:                    42411\n",
       "Method:                           MLE   Df Model:                            2\n",
       "Date:                Wed, 23 Apr 2025   Pseudo R-squ.:                0.001646\n",
       "Time:                        21:05:26   Log-Likelihood:                -29325.\n",
       "converged:                       True   LL-Null:                       -29374.\n",
       "Covariance Type:            nonrobust   LLR p-value:                 9.969e-22\n",
       "==============================================================================\n",
       "                 coef    std err          z      P>|z|      [0.025      0.975]\n",
       "------------------------------------------------------------------------------\n",
       "Intercept     -0.0823      0.014     -5.778      0.000      -0.110      -0.054\n",
       "x             -0.0067      0.001     -9.587      0.000      -0.008      -0.005\n",
       "I(x ** 2)  -3.607e-05   4.95e-05     -0.728      0.467      -0.000     6.1e-05\n",
       "==============================================================================\n",
       "\"\"\""
      ]
     },
     "execution_count": 45,
     "metadata": {},
     "output_type": "execute_result"
    }
   ],
   "source": [
    "import statsmodels.formula.api as smf\n",
    "\n",
    "formula = 'y ~ x + I(x**2)'\n",
    "\n",
    "model = smf.logit(formula, data=valid_year).fit()\n",
    "model.summary()"
   ]
  },
  {
   "cell_type": "code",
   "execution_count": 46,
   "id": "2fff2abf",
   "metadata": {},
   "outputs": [
    {
     "data": {
      "image/png": "[encoded data removed]",
      "text/plain": [
       "<Figure size 525x262.5 with 1 Axes>"
      ]
     },
     "metadata": {},
     "output_type": "display_data"
    }
   ],
   "source": [
    "year_range = np.arange(1972, 2026)\n",
    "\n",
    "pred_df = pd.DataFrame(dict(x=year_range - year_shift))\n",
    "\n",
    "pred = model.predict(pred_df) * 100\n",
    "pred.index = year_range\n",
    "\n",
    "time_series.plot(style='o', alpha=0.5)\n",
    "pred.plot(label='model', color='C0')\n",
    "\n",
    "decorate(\n",
    "    xlabel=\"Year of survey\",\n",
    "    ylabel=ylabel,\n",
    "    title=question,\n",
    ")"
   ]
  },
  {
   "cell_type": "code",
   "execution_count": 47,
   "id": "8d1d26d9",
   "metadata": {},
   "outputs": [],
   "source": [
    "def fit_model(data, x_range, x_shift):\n",
    "    formula = 'y ~ x + I(x**2)'\n",
    "    model = smf.logit(formula, data=data).fit(disp=False)\n",
    "    \n",
    "    pred_df = pd.DataFrame(dict(x=x_range - x_shift))\n",
    "    pred = model.predict(pred_df) * 100\n",
    "    pred.index = x_range\n",
    "    pred.name = 'model'\n",
    "\n",
    "    return pred"
   ]
  },
  {
   "cell_type": "code",
   "execution_count": 48,
   "id": "9cdbce9f",
   "metadata": {},
   "outputs": [
    {
     "data": {
      "text/plain": [
       "True"
      ]
     },
     "execution_count": 48,
     "metadata": {},
     "output_type": "execute_result"
    }
   ],
   "source": [
    "pred2 = fit_model(valid_year, year_range, year_shift)\n",
    "np.allclose(pred, pred2)"
   ]
  },
  {
   "cell_type": "code",
   "execution_count": 50,
   "id": "538f1384",
   "metadata": {},
   "outputs": [
    {
     "data": {
      "image/png": "[encoded data removed]",
      "text/plain": [
       "<Figure size 525x262.5 with 1 Axes>"
      ]
     },
     "metadata": {},
     "output_type": "display_data"
    }
   ],
   "source": [
    "for name, group in valid_year.groupby('polviews3'):\n",
    "    pred = fit_model(group, year_range, year_shift)\n",
    "    pred.plot(label=name, color=color_map[name])\n",
    "    \n",
    "decorate(\n",
    "    xlabel='Year',\n",
    "    ylabel=ylabel,\n",
    "    title=question,\n",
    ")"
   ]
  },
  {
   "cell_type": "markdown",
   "id": "c811c29a",
   "metadata": {},
   "source": [
    "## Group by year of birth"
   ]
  },
  {
   "cell_type": "code",
   "execution_count": 51,
   "id": "4aeab41e",
   "metadata": {
    "tags": []
   },
   "outputs": [
    {
     "data": {
      "text/plain": [
       "count    71635.000000\n",
       "mean      1952.562853\n",
       "std         21.977789\n",
       "min       1883.000000\n",
       "25%       1938.000000\n",
       "50%       1954.000000\n",
       "75%       1967.000000\n",
       "max       2004.000000\n",
       "Name: cohort, dtype: float64"
      ]
     },
     "execution_count": 51,
     "metadata": {},
     "output_type": "execute_result"
    }
   ],
   "source": [
    "gss[\"cohort\"] = gss[\"cohort\"].replace(9999, np.nan)\n",
    "gss[\"cohort\"].describe()"
   ]
  },
  {
   "cell_type": "code",
   "execution_count": 52,
   "id": "e7c8b751",
   "metadata": {},
   "outputs": [],
   "source": [
    "cohort_shift = gss['cohort'].median()"
   ]
  },
  {
   "cell_type": "code",
   "execution_count": 53,
   "id": "e26e0fba",
   "metadata": {},
   "outputs": [],
   "source": [
    "gss['x'] = gss['cohort'] - cohort_shift"
   ]
  },
  {
   "cell_type": "code",
   "execution_count": 54,
   "id": "8f152e76",
   "metadata": {},
   "outputs": [],
   "source": [
    "valid_cohort = gss.dropna(subset=['y', 'x'])"
   ]
  },
  {
   "cell_type": "code",
   "execution_count": 55,
   "id": "361e480b",
   "metadata": {},
   "outputs": [],
   "source": [
    "series_cohort = valid_cohort.groupby('cohort')['y'].mean() * 100\n",
    "series_cohort.name = 'data'"
   ]
  },
  {
   "cell_type": "code",
   "execution_count": 56,
   "id": "6a5f53c8",
   "metadata": {},
   "outputs": [
    {
     "data": {
      "image/png": "[encoded data removed]",
      "text/plain": [
       "<Figure size 525x262.5 with 1 Axes>"
      ]
     },
     "metadata": {},
     "output_type": "display_data"
    }
   ],
   "source": [
    "series_cohort.plot(style='.', color='C1')\n",
    "\n",
    "decorate(\n",
    "    xlabel=\"Year of survey\",\n",
    "    ylabel=ylabel,\n",
    "    title=question,\n",
    ")"
   ]
  },
  {
   "cell_type": "code",
   "execution_count": 57,
   "id": "04a2328b",
   "metadata": {},
   "outputs": [],
   "source": [
    "cohort_range = np.arange(1880, 2010)\n",
    "\n",
    "pred = fit_model(valid_cohort, cohort_range, cohort_shift)"
   ]
  },
  {
   "cell_type": "code",
   "execution_count": 58,
   "id": "2bcf92dd",
   "metadata": {},
   "outputs": [
    {
     "data": {
      "image/png": "[encoded data removed]",
      "text/plain": [
       "<Figure size 525x262.5 with 1 Axes>"
      ]
     },
     "metadata": {},
     "output_type": "display_data"
    }
   ],
   "source": [
    "series_cohort.plot(style='.', color='C1', alpha=0.5)\n",
    "pred.plot(color='C1')\n",
    "\n",
    "decorate(\n",
    "    xlabel=\"Year of birth\",\n",
    "    ylabel=ylabel,\n",
    "    title=question,\n",
    ")"
   ]
  },
  {
   "cell_type": "markdown",
   "id": "c65aa0fb",
   "metadata": {},
   "source": [
    "## Just one cohort"
   ]
  },
  {
   "cell_type": "code",
   "execution_count": 59,
   "id": "50421f76",
   "metadata": {},
   "outputs": [],
   "source": [
    "gss['x'] = gss['year'] - year_shift"
   ]
  },
  {
   "cell_type": "code",
   "execution_count": 60,
   "id": "1ce91246",
   "metadata": {
    "tags": []
   },
   "outputs": [
    {
     "data": {
      "text/plain": [
       "cohort10\n",
       "1880.0       45\n",
       "1890.0      501\n",
       "1900.0     1722\n",
       "1910.0     3616\n",
       "1920.0     5862\n",
       "1930.0     7115\n",
       "1940.0    10925\n",
       "1950.0    14273\n",
       "1960.0    11699\n",
       "1970.0     7681\n",
       "1980.0     5088\n",
       "1990.0     2563\n",
       "2000.0      545\n",
       "2010.0      755\n",
       "Name: count, dtype: int64"
      ]
     },
     "execution_count": 60,
     "metadata": {},
     "output_type": "execute_result"
    }
   ],
   "source": [
    "from utils import round_into_bins\n",
    "\n",
    "gss[\"cohort10\"] = round_into_bins(gss[\"cohort\"], 10, 1880)\n",
    "value_counts(gss[\"cohort10\"])"
   ]
  },
  {
   "cell_type": "code",
   "execution_count": 61,
   "id": "c82baf24",
   "metadata": {
    "tags": []
   },
   "outputs": [
    {
     "data": {
      "text/plain": [
       "(10925, 33)"
      ]
     },
     "execution_count": 61,
     "metadata": {},
     "output_type": "execute_result"
    }
   ],
   "source": [
    "cohort_df = gss.query(\"cohort10 == 1940\")\n",
    "cohort_df.shape"
   ]
  },
  {
   "cell_type": "code",
   "execution_count": 62,
   "id": "00040e79",
   "metadata": {
    "tags": []
   },
   "outputs": [],
   "source": [
    "series_cohort40 = cohort_df.groupby('year')['y'].mean() * 100\n",
    "series_cohort40.name = '1940 cohort'"
   ]
  },
  {
   "cell_type": "code",
   "execution_count": 63,
   "id": "ec4ba42a",
   "metadata": {},
   "outputs": [
    {
     "data": {
      "text/plain": [
       "(6791, 33)"
      ]
     },
     "execution_count": 63,
     "metadata": {},
     "output_type": "execute_result"
    }
   ],
   "source": [
    "valid_cohort40 = cohort_df.dropna(subset=['y', 'x'])\n",
    "valid_cohort40.shape"
   ]
  },
  {
   "cell_type": "code",
   "execution_count": 64,
   "id": "8b17379b",
   "metadata": {},
   "outputs": [],
   "source": [
    "pred = fit_model(valid_cohort40, year_range, year_shift)"
   ]
  },
  {
   "cell_type": "code",
   "execution_count": 65,
   "id": "a1ea3b75",
   "metadata": {
    "tags": []
   },
   "outputs": [
    {
     "data": {
      "image/png": "[encoded data removed]",
      "text/plain": [
       "<Figure size 525x262.5 with 1 Axes>"
      ]
     },
     "metadata": {},
     "output_type": "display_data"
    }
   ],
   "source": [
    "series_cohort40.plot(style='.', color='C1', alpha=0.5)\n",
    "pred.plot(color='C1')\n",
    "\n",
    "decorate(\n",
    "    xlabel=\"Year of birth\",\n",
    "    ylabel=ylabel,\n",
    "    title=question,\n",
    ")"
   ]
  },
  {
   "cell_type": "markdown",
   "id": "ffac5cce",
   "metadata": {},
   "source": [
    "## All the Cohorts"
   ]
  },
  {
   "cell_type": "code",
   "execution_count": 66,
   "id": "41a8d156",
   "metadata": {
    "tags": []
   },
   "outputs": [],
   "source": [
    "def plot_cohort(df, cohort, color='C0'):\n",
    "    cohort_df = df.query(\"cohort10 == @cohort\")\n",
    "\n",
    "    series_cohort = cohort_df.groupby('year')['y'].mean() * 100\n",
    "\n",
    "    valid_cohort = cohort_df.dropna(subset=['y', 'x'])\n",
    "\n",
    "    year = valid_cohort['year']\n",
    "    year_range = np.arange(year.min(), year.max()+1)\n",
    "    year_shift = year.median()\n",
    "\n",
    "    pred = fit_model(valid_cohort, year_range, year_shift)\n",
    "    x, y = pred.index[-1], pred.values[-1]\n",
    "    plt.text(x, y, cohort, ha='left', va='center')\n",
    "\n",
    "    pred.plot(label=cohort, color=color)"
   ]
  },
  {
   "cell_type": "code",
   "execution_count": 67,
   "id": "247940e5",
   "metadata": {},
   "outputs": [
    {
     "data": {
      "text/plain": [
       "(65390, 33)"
      ]
     },
     "execution_count": 67,
     "metadata": {},
     "output_type": "execute_result"
    }
   ],
   "source": [
    "first, last = 1920, 2000\n",
    "subset = gss.query(\"@first <= cohort <= @last\" )\n",
    "subset.shape"
   ]
  },
  {
   "cell_type": "code",
   "execution_count": 68,
   "id": "18575ae7",
   "metadata": {},
   "outputs": [],
   "source": [
    "pred = fit_model(subset, year_range, year_shift)"
   ]
  },
  {
   "cell_type": "code",
   "execution_count": 69,
   "id": "706699d4",
   "metadata": {},
   "outputs": [
    {
     "data": {
      "text/plain": [
       "array([1920, 1930, 1940, 1950, 1960, 1970, 1980, 1990, 2000])"
      ]
     },
     "execution_count": 69,
     "metadata": {},
     "output_type": "execute_result"
    }
   ],
   "source": [
    "cohorts = np.sort(subset['cohort10'].unique().astype(int))\n",
    "cohorts"
   ]
  },
  {
   "cell_type": "code",
   "execution_count": 70,
   "id": "4531b296",
   "metadata": {},
   "outputs": [],
   "source": [
    "cmap = plt.get_cmap('Purples')\n",
    "\n",
    "colors = [cmap(x) for x in np.linspace(0.3, 0.9, len(cohorts))]"
   ]
  },
  {
   "cell_type": "code",
   "execution_count": 71,
   "id": "78f44389",
   "metadata": {},
   "outputs": [],
   "source": [
    "def anchor_legend(x, y):\n",
    "    \"\"\"Place the upper left corner of the legend box.\n",
    "\n",
    "    x: x coordinate\n",
    "    y: y coordinate\n",
    "    \"\"\"\n",
    "    plt.legend(bbox_to_anchor=(x, y), loc=\"upper left\")\n",
    "    plt.tight_layout()"
   ]
  },
  {
   "cell_type": "code",
   "execution_count": 72,
   "id": "8b835d1d",
   "metadata": {
    "tags": []
   },
   "outputs": [
    {
     "data": {
      "image/png": "[encoded data removed]",
      "text/plain": [
       "<Figure size 525x262.5 with 1 Axes>"
      ]
     },
     "metadata": {},
     "output_type": "display_data"
    }
   ],
   "source": [
    "pred.plot(ls=':', color='C1')\n",
    "\n",
    "for cohort, color in zip(cohorts, colors):\n",
    "    plot_cohort(gss, cohort, color)\n",
    "    \n",
    "decorate(\n",
    "    xlabel=\"Year of birth\",\n",
    "    ylabel=ylabel,\n",
    "    title=question,\n",
    "    legend=False\n",
    ")"
   ]
  },
  {
   "cell_type": "markdown",
   "id": "821724f4",
   "metadata": {},
   "source": [
    "## Simpson's Paradox"
   ]
  },
  {
   "cell_type": "markdown",
   "id": "406bcb8a",
   "metadata": {
    "tags": []
   },
   "source": [
    "And the composition of the population has changed a lot over 50 years.\n",
    "The following figure shows the distribution of birth years for the respondents at the beginning of the survey in 1973, near the middle in 1990, and most recently in 2018."
   ]
  },
  {
   "cell_type": "code",
   "execution_count": 75,
   "id": "22b0a946",
   "metadata": {
    "tags": []
   },
   "outputs": [
    {
     "data": {
      "text/html": [
       "<div>\n",
       "<style scoped>\n",
       "    .dataframe tbody tr th:only-of-type {\n",
       "        vertical-align: middle;\n",
       "    }\n",
       "\n",
       "    .dataframe tbody tr th {\n",
       "        vertical-align: top;\n",
       "    }\n",
       "\n",
       "    .dataframe thead th {\n",
       "        text-align: right;\n",
       "    }\n",
       "</style>\n",
       "<table border=\"1\" class=\"dataframe\">\n",
       "  <thead>\n",
       "    <tr style=\"text-align: right;\">\n",
       "      <th>year</th>\n",
       "      <th>1972</th>\n",
       "      <th>1973</th>\n",
       "      <th>1974</th>\n",
       "      <th>1975</th>\n",
       "      <th>1976</th>\n",
       "      <th>1977</th>\n",
       "      <th>1978</th>\n",
       "      <th>1980</th>\n",
       "      <th>1982</th>\n",
       "      <th>1983</th>\n",
       "      <th>...</th>\n",
       "      <th>2004</th>\n",
       "      <th>2006</th>\n",
       "      <th>2008</th>\n",
       "      <th>2010</th>\n",
       "      <th>2012</th>\n",
       "      <th>2014</th>\n",
       "      <th>2016</th>\n",
       "      <th>2018</th>\n",
       "      <th>2021</th>\n",
       "      <th>2022</th>\n",
       "    </tr>\n",
       "    <tr>\n",
       "      <th>cohort10</th>\n",
       "      <th></th>\n",
       "      <th></th>\n",
       "      <th></th>\n",
       "      <th></th>\n",
       "      <th></th>\n",
       "      <th></th>\n",
       "      <th></th>\n",
       "      <th></th>\n",
       "      <th></th>\n",
       "      <th></th>\n",
       "      <th></th>\n",
       "      <th></th>\n",
       "      <th></th>\n",
       "      <th></th>\n",
       "      <th></th>\n",
       "      <th></th>\n",
       "      <th></th>\n",
       "      <th></th>\n",
       "      <th></th>\n",
       "      <th></th>\n",
       "      <th></th>\n",
       "    </tr>\n",
       "  </thead>\n",
       "  <tbody>\n",
       "    <tr>\n",
       "      <th>1880.0</th>\n",
       "      <td>0.003100</td>\n",
       "      <td>0.003989</td>\n",
       "      <td>0.008086</td>\n",
       "      <td>0.006711</td>\n",
       "      <td>0.004670</td>\n",
       "      <td>0.000000</td>\n",
       "      <td>0.003264</td>\n",
       "      <td>0.000000</td>\n",
       "      <td>0.000000</td>\n",
       "      <td>0.000000</td>\n",
       "      <td>...</td>\n",
       "      <td>0.000000</td>\n",
       "      <td>0.000000</td>\n",
       "      <td>0.000000</td>\n",
       "      <td>0.000000</td>\n",
       "      <td>0.000000</td>\n",
       "      <td>0.000000</td>\n",
       "      <td>0.000000</td>\n",
       "      <td>0.000000</td>\n",
       "      <td>0.0</td>\n",
       "      <td>0.0</td>\n",
       "    </tr>\n",
       "    <tr>\n",
       "      <th>1890.0</th>\n",
       "      <td>0.047737</td>\n",
       "      <td>0.038564</td>\n",
       "      <td>0.029650</td>\n",
       "      <td>0.036913</td>\n",
       "      <td>0.047365</td>\n",
       "      <td>0.027451</td>\n",
       "      <td>0.028721</td>\n",
       "      <td>0.017030</td>\n",
       "      <td>0.018817</td>\n",
       "      <td>0.005003</td>\n",
       "      <td>...</td>\n",
       "      <td>0.000000</td>\n",
       "      <td>0.000000</td>\n",
       "      <td>0.000000</td>\n",
       "      <td>0.000000</td>\n",
       "      <td>0.000000</td>\n",
       "      <td>0.000000</td>\n",
       "      <td>0.000000</td>\n",
       "      <td>0.000000</td>\n",
       "      <td>0.0</td>\n",
       "      <td>0.0</td>\n",
       "    </tr>\n",
       "    <tr>\n",
       "      <th>1900.0</th>\n",
       "      <td>0.109733</td>\n",
       "      <td>0.099069</td>\n",
       "      <td>0.129380</td>\n",
       "      <td>0.081879</td>\n",
       "      <td>0.070047</td>\n",
       "      <td>0.090850</td>\n",
       "      <td>0.082898</td>\n",
       "      <td>0.059264</td>\n",
       "      <td>0.051075</td>\n",
       "      <td>0.038149</td>\n",
       "      <td>...</td>\n",
       "      <td>0.000000</td>\n",
       "      <td>0.000000</td>\n",
       "      <td>0.000000</td>\n",
       "      <td>0.000000</td>\n",
       "      <td>0.000000</td>\n",
       "      <td>0.000000</td>\n",
       "      <td>0.000000</td>\n",
       "      <td>0.000000</td>\n",
       "      <td>0.0</td>\n",
       "      <td>0.0</td>\n",
       "    </tr>\n",
       "    <tr>\n",
       "      <th>1910.0</th>\n",
       "      <td>0.151891</td>\n",
       "      <td>0.158245</td>\n",
       "      <td>0.130728</td>\n",
       "      <td>0.130201</td>\n",
       "      <td>0.144096</td>\n",
       "      <td>0.124837</td>\n",
       "      <td>0.105091</td>\n",
       "      <td>0.123978</td>\n",
       "      <td>0.103226</td>\n",
       "      <td>0.093183</td>\n",
       "      <td>...</td>\n",
       "      <td>0.015647</td>\n",
       "      <td>0.007539</td>\n",
       "      <td>0.007909</td>\n",
       "      <td>0.000000</td>\n",
       "      <td>0.000000</td>\n",
       "      <td>0.000000</td>\n",
       "      <td>0.000000</td>\n",
       "      <td>0.000000</td>\n",
       "      <td>0.0</td>\n",
       "      <td>0.0</td>\n",
       "    </tr>\n",
       "    <tr>\n",
       "      <th>1920.0</th>\n",
       "      <td>0.223807</td>\n",
       "      <td>0.180186</td>\n",
       "      <td>0.192722</td>\n",
       "      <td>0.186577</td>\n",
       "      <td>0.158773</td>\n",
       "      <td>0.183660</td>\n",
       "      <td>0.152089</td>\n",
       "      <td>0.160082</td>\n",
       "      <td>0.148387</td>\n",
       "      <td>0.136961</td>\n",
       "      <td>...</td>\n",
       "      <td>0.038762</td>\n",
       "      <td>0.039911</td>\n",
       "      <td>0.038062</td>\n",
       "      <td>0.035225</td>\n",
       "      <td>0.025329</td>\n",
       "      <td>0.014184</td>\n",
       "      <td>0.009766</td>\n",
       "      <td>0.008518</td>\n",
       "      <td>0.0</td>\n",
       "      <td>0.0</td>\n",
       "    </tr>\n",
       "  </tbody>\n",
       "</table>\n",
       "<p>5 rows × 34 columns</p>\n",
       "</div>"
      ],
      "text/plain": [
       "year          1972      1973      1974      1975      1976      1977  \\\n",
       "cohort10                                                               \n",
       "1880.0    0.003100  0.003989  0.008086  0.006711  0.004670  0.000000   \n",
       "1890.0    0.047737  0.038564  0.029650  0.036913  0.047365  0.027451   \n",
       "1900.0    0.109733  0.099069  0.129380  0.081879  0.070047  0.090850   \n",
       "1910.0    0.151891  0.158245  0.130728  0.130201  0.144096  0.124837   \n",
       "1920.0    0.223807  0.180186  0.192722  0.186577  0.158773  0.183660   \n",
       "\n",
       "year          1978      1980      1982      1983  ...      2004      2006  \\\n",
       "cohort10                                          ...                       \n",
       "1880.0    0.003264  0.000000  0.000000  0.000000  ...  0.000000  0.000000   \n",
       "1890.0    0.028721  0.017030  0.018817  0.005003  ...  0.000000  0.000000   \n",
       "1900.0    0.082898  0.059264  0.051075  0.038149  ...  0.000000  0.000000   \n",
       "1910.0    0.105091  0.123978  0.103226  0.093183  ...  0.015647  0.007539   \n",
       "1920.0    0.152089  0.160082  0.148387  0.136961  ...  0.038762  0.039911   \n",
       "\n",
       "year          2008      2010      2012      2014      2016      2018  2021  \\\n",
       "cohort10                                                                     \n",
       "1880.0    0.000000  0.000000  0.000000  0.000000  0.000000  0.000000   0.0   \n",
       "1890.0    0.000000  0.000000  0.000000  0.000000  0.000000  0.000000   0.0   \n",
       "1900.0    0.000000  0.000000  0.000000  0.000000  0.000000  0.000000   0.0   \n",
       "1910.0    0.007909  0.000000  0.000000  0.000000  0.000000  0.000000   0.0   \n",
       "1920.0    0.038062  0.035225  0.025329  0.014184  0.009766  0.008518   0.0   \n",
       "\n",
       "year      2022  \n",
       "cohort10        \n",
       "1880.0     0.0  \n",
       "1890.0     0.0  \n",
       "1900.0     0.0  \n",
       "1910.0     0.0  \n",
       "1920.0     0.0  \n",
       "\n",
       "[5 rows x 34 columns]"
      ]
     },
     "execution_count": 75,
     "metadata": {},
     "output_type": "execute_result"
    }
   ],
   "source": [
    "xtab_cohort = pd.crosstab(gss[\"cohort10\"], gss[\"year\"], normalize=\"columns\")\n",
    "xtab_cohort.head()"
   ]
  },
  {
   "cell_type": "code",
   "execution_count": 74,
   "id": "ba0e98bd",
   "metadata": {
    "tags": []
   },
   "outputs": [
    {
     "data": {
      "image/png": "[encoded data removed]",
      "text/plain": [
       "<Figure size 525x262.5 with 1 Axes>"
      ]
     },
     "metadata": {},
     "output_type": "display_data"
    }
   ],
   "source": [
    "xtab_cohort[1972].plot(label=\"1972\")\n",
    "xtab_cohort[1998].plot(label=\"1998\")\n",
    "xtab_cohort[2022].plot(label=\"2022\")\n",
    "\n",
    "decorate(xlabel=\"Year of birth\", ylabel=\"Fraction of sample\")"
   ]
  },
  {
   "cell_type": "markdown",
   "id": "15c26b32",
   "metadata": {
    "tags": []
   },
   "source": [
    "Probably Overthinking It\n",
    "\n",
    "Copyright 2022 Allen Downey \n",
    "\n",
    "The code in this notebook and `utils.py` is under the [MIT license](https://mit-license.org/)."
   ]
  }
 ],
 "metadata": {
  "celltoolbar": "Tags",
  "kernelspec": {
   "display_name": "Python 3 (ipykernel)",
   "language": "python",
   "name": "python3"
  },
  "language_info": {
   "codemirror_mode": {
    "name": "ipython",
    "version": 3
   },
   "file_extension": ".py",
   "mimetype": "text/x-python",
   "name": "python",
   "nbconvert_exporter": "python",
   "pygments_lexer": "ipython3",
   "version": "3.13.2"
  }
 },
 "nbformat": 4,
 "nbformat_minor": 5
}
