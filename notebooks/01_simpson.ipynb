{
 "cells": [
  {
   "cell_type": "markdown",
   "id": "4a54069c",
   "metadata": {
    "tags": []
   },
   "source": [
    "# Survey Data with Pandas and StatsModels\n",
    "\n",
    "Tutorial for PyCon 2025\n",
    "\n",
    "Allen B. Downey"
   ]
  },
  {
   "cell_type": "markdown",
   "id": "ae03b77a",
   "metadata": {
    "tags": []
   },
   "source": [
    "[Click here to run this notebook on Colab](https://colab.research.google.com/github/AllenDowney/SurveyDataPandas/blob/main/01_simpson.ipynb)."
   ]
  },
  {
   "cell_type": "code",
   "execution_count": 1,
   "id": "f60872eb",
   "metadata": {},
   "outputs": [],
   "source": [
    "import pandas as pd\n",
    "import numpy as np\n",
    "import matplotlib.pyplot as plt\n",
    "import seaborn as sns"
   ]
  },
  {
   "cell_type": "code",
   "execution_count": 2,
   "id": "81d5b707",
   "metadata": {
    "tags": [
     "hide-cell"
    ]
   },
   "outputs": [],
   "source": [
    "# Configure Matplotlib\n",
    "\n",
    "plt.rcParams[\"figure.figsize\"] = 7, 3.5\n",
    "plt.rcParams[\"figure.dpi\"] = 75\n",
    "plt.rcParams[\"axes.titlelocation\"] = \"left\"\n",
    "plt.rcParams[\"axes.spines.top\"] = False\n",
    "plt.rcParams[\"axes.spines.bottom\"] = False\n",
    "plt.rcParams[\"axes.spines.left\"] = False\n",
    "plt.rcParams[\"axes.spines.right\"] = False"
   ]
  },
  {
   "cell_type": "code",
   "execution_count": 3,
   "id": "43b4dbf5",
   "metadata": {},
   "outputs": [],
   "source": [
    "from os.path import basename, exists\n",
    "\n",
    "def download(url):\n",
    "    filename = basename(url)\n",
    "    if not exists(filename):\n",
    "        from urllib.request import urlretrieve\n",
    "        local, _ = urlretrieve(url, filename)\n",
    "        print('Downloaded ' + local)"
   ]
  },
  {
   "cell_type": "code",
   "execution_count": 4,
   "id": "8f844b4e",
   "metadata": {},
   "outputs": [],
   "source": [
    "def decorate(**options):\n",
    "    \"\"\"Decorate the current axes.\n",
    "\n",
    "    Call decorate with keyword arguments like\n",
    "    decorate(title='Title',\n",
    "             xlabel='x',\n",
    "             ylabel='y')\n",
    "\n",
    "    The keyword arguments can be any of the axis properties\n",
    "    https://matplotlib.org/api/axes_api.html\n",
    "    \"\"\"\n",
    "    legend = options.pop(\"legend\", True)\n",
    "    loc = options.pop(\"loc\", \"best\")\n",
    "\n",
    "    # Pass options to Axis.set\n",
    "    ax = plt.gca()\n",
    "    ax.set(**options)\n",
    "\n",
    "    # Add a legend if there are any labeled elements\n",
    "    handles, labels = ax.get_legend_handles_labels()\n",
    "    if handles and legend:\n",
    "        ax.legend(handles, labels, loc=loc)\n",
    "\n",
    "    # Tight layout is generally a good idea\n",
    "    plt.tight_layout()"
   ]
  },
  {
   "cell_type": "markdown",
   "id": "f17a6470",
   "metadata": {
    "tags": []
   },
   "source": [
    "## Data\n",
    "\n",
    "We will use data from the [General Social Survey](https://gss.norc.org/) (GSS).\n",
    "The raw dataset is big, so I've prepared an extract, which the following cell downloads.\n",
    "The code to generate the extract is [in this notebook](https://github.com/AllenDowney/GssExtract/blob/main/notebooks/02_make_extract-2022_4.ipynb)."
   ]
  },
  {
   "cell_type": "code",
   "execution_count": 5,
   "id": "5b8c8edb",
   "metadata": {},
   "outputs": [],
   "source": [
    "# This dataset is prepared in the GssExtract repository\n",
    "\n",
    "DATA_PATH = \"https://github.com/AllenDowney/GssExtract/raw/main/data/interim/\"\n",
    "\n",
    "filename = \"gss_extract_pacs_workshop.hdf\"\n",
    "download(DATA_PATH + filename)"
   ]
  },
  {
   "cell_type": "code",
   "execution_count": 10,
   "id": "95318a8f",
   "metadata": {},
   "outputs": [],
   "source": [
    "def value_counts(seq, **options):\n",
    "    \"\"\"Make a series of values and the number of times they appear.\n",
    "\n",
    "    Args:\n",
    "        seq: sequence\n",
    "\n",
    "    returns: Pandas Series\n",
    "    \"\"\"\n",
    "    return pd.Series(seq).value_counts(**options).sort_index()"
   ]
  },
  {
   "cell_type": "markdown",
   "id": "bcbf6e32",
   "metadata": {},
   "source": [
    "## Target variable"
   ]
  },
  {
   "cell_type": "code",
   "execution_count": 19,
   "id": "0d9ed274",
   "metadata": {
    "tags": []
   },
   "outputs": [],
   "source": [
    "# https://gssdataexplorer.norc.org/variables/434/vshow\n",
    "\n",
    "varname = 'happy'\n",
    "\n",
    "question = \"\"\"Taken all together, how would you say things are these days--\n",
    "would you say that you are very happy, pretty happy, or not too happy?\n",
    "\"\"\"\n",
    "\n",
    "responses = ['Very happy', \"Happy\", 'Not too happy']\n",
    "\n",
    "ylabel = \"Percent saying 'very happy'\""
   ]
  },
  {
   "cell_type": "code",
   "execution_count": 20,
   "id": "0dcba54b",
   "metadata": {
    "tags": []
   },
   "outputs": [],
   "source": [
    "# https://gssdataexplorer.norc.org/variables/439/vshow\n",
    "\n",
    "varname = 'helpful'\n",
    "\n",
    "question = \"\"\"Would you say that most of the time people try to be helpful,\n",
    "or that they are mostly just looking out for themselves?\n",
    "\"\"\"\n",
    "\n",
    "responses = ['Helpful', 'Look out\\nfor themselves', 'Depends']\n",
    "\n",
    "ylabel = \"Percent saying 'helpful'\""
   ]
  },
  {
   "cell_type": "code",
   "execution_count": 21,
   "id": "c6961a60",
   "metadata": {
    "tags": []
   },
   "outputs": [],
   "source": [
    "# https://gssdataexplorer.norc.org/variables/440/vshow\n",
    "\n",
    "varname = 'fair'\n",
    "\n",
    "question = \"\"\"Do you think most people would try to take advantage of you \n",
    "if they got a chance, or would they try to be fair?\n",
    "\"\"\"\n",
    "\n",
    "responses = ['Take advantage', 'Fair', 'Depends']\n",
    "\n",
    "ylabel = \"Percent saying 'fair'\""
   ]
  },
  {
   "cell_type": "code",
   "execution_count": 22,
   "id": "756028af",
   "metadata": {
    "tags": []
   },
   "outputs": [],
   "source": [
    "# https://gssdataexplorer.norc.org/variables/441/vshow\n",
    "\n",
    "varname = 'trust'\n",
    "\n",
    "question = \"\"\"Generally speaking, would you say that most people can be trusted\n",
    "or that you can't be too careful in dealing with people?\n",
    "\"\"\"\n",
    "\n",
    "responses = ['Trusted', \"Can't be\\ntoo careful\", 'Depends']\n",
    "\n",
    "ylabel = \"Percent saying 'trusted'\""
   ]
  },
  {
   "cell_type": "markdown",
   "id": "e861a36e",
   "metadata": {},
   "source": [
    "## Time Series"
   ]
  },
  {
   "cell_type": "markdown",
   "id": "14a4c955",
   "metadata": {},
   "source": [
    "## Smoothing"
   ]
  },
  {
   "cell_type": "code",
   "execution_count": 37,
   "id": "c27b2229",
   "metadata": {
    "tags": []
   },
   "outputs": [],
   "source": [
    "def make_lowess(series, frac=0.5):\n",
    "    \"\"\"Use LOWESS to compute a smooth line.\n",
    "\n",
    "    series: pd.Series\n",
    "\n",
    "    returns: pd.Series\n",
    "    \"\"\"\n",
    "    y = series.to_numpy()\n",
    "    x = series.index.to_numpy()\n",
    "\n",
    "    smooth = lowess(y, x, frac)\n",
    "    index, data = np.transpose(smooth)\n",
    "\n",
    "    return pd.Series(data, index=index)"
   ]
  },
  {
   "cell_type": "markdown",
   "id": "c06a118f",
   "metadata": {},
   "source": [
    "## Binary series\n",
    "\n",
    "It will be useful to convert the responses to a binary variable represented with 0s and 1s."
   ]
  },
  {
   "cell_type": "markdown",
   "id": "42a5c63e",
   "metadata": {},
   "source": [
    "## Pivot tables"
   ]
  },
  {
   "cell_type": "code",
   "execution_count": 43,
   "id": "68171510",
   "metadata": {},
   "outputs": [],
   "source": [
    "polviews_map = {\n",
    "    1: 'Liberal',\n",
    "    2: 'Liberal',\n",
    "    3: 'Liberal',\n",
    "    4: 'Moderate',\n",
    "    5: 'Conservative',\n",
    "    6: 'Conservative',\n",
    "    7: 'Conservative',\n",
    "}"
   ]
  },
  {
   "cell_type": "markdown",
   "id": "d36ca58b",
   "metadata": {},
   "source": [
    "## Better colors"
   ]
  },
  {
   "cell_type": "markdown",
   "id": "9808ce10",
   "metadata": {},
   "source": [
    "## Groupby\n",
    "\n",
    "Now that we have `y` as a binary variable, we have another way to compute the time series."
   ]
  },
  {
   "cell_type": "markdown",
   "id": "f0e472ea",
   "metadata": {},
   "source": [
    "And the pivot table"
   ]
  },
  {
   "cell_type": "markdown",
   "id": "c00890ed",
   "metadata": {},
   "source": [
    "There are pros and cons of each method."
   ]
  },
  {
   "cell_type": "markdown",
   "id": "6114afb1",
   "metadata": {},
   "source": [
    "## Logistic regression"
   ]
  },
  {
   "cell_type": "code",
   "execution_count": 59,
   "id": "8d1d26d9",
   "metadata": {},
   "outputs": [],
   "source": [
    "def fit_model(data, x_range, x_shift):\n",
    "    formula = 'y ~ x + I(x**2)'\n",
    "    model = smf.logit(formula, data=data).fit(disp=False)\n",
    "    \n",
    "    pred_df = pd.DataFrame(dict(x=x_range - x_shift))\n",
    "    pred = model.predict(pred_df) * 100\n",
    "    pred.index = x_range\n",
    "    pred.name = 'model'\n",
    "\n",
    "    return pred"
   ]
  },
  {
   "cell_type": "markdown",
   "id": "c65aa0fb",
   "metadata": {},
   "source": [
    "## Group by year of birth"
   ]
  },
  {
   "cell_type": "code",
   "execution_count": 62,
   "id": "61c2858c",
   "metadata": {},
   "outputs": [],
   "source": [
    "def round_into_bins(series, bin_width, low=0, high=None):\n",
    "    \"\"\"Rounds values down to the bin they belong in.\n",
    "\n",
    "    series: pd.Series\n",
    "    bin_width: number, width of the bins\n",
    "\n",
    "    returns: Series of bin values (with NaN preserved)\n",
    "    \"\"\"\n",
    "    if high is None:\n",
    "        high = series.max()\n",
    "\n",
    "    bins = np.arange(low, high + bin_width, bin_width)\n",
    "    indices = np.digitize(series, bins)\n",
    "    result = pd.Series(bins[indices - 1], index=series.index, dtype='float')\n",
    "\n",
    "    result[series.isna()] = np.nan\n",
    "    return result"
   ]
  },
  {
   "cell_type": "markdown",
   "id": "ffac5cce",
   "metadata": {},
   "source": [
    "## All the Cohorts"
   ]
  },
  {
   "cell_type": "code",
   "execution_count": 68,
   "id": "41a8d156",
   "metadata": {
    "tags": []
   },
   "outputs": [],
   "source": [
    "def plot_cohort(df, cohort, color='C0'):\n",
    "    cohort_df = df.query(\"cohort10 == @cohort\").dropna(subset=['y', 'x'])\n",
    "\n",
    "    cohort_series = cohort_df.groupby('year')['y'].mean() * 100\n",
    "\n",
    "    year_range = cohort_series.index\n",
    "\n",
    "    pred_series = fit_model(cohort_df, year_range, year_shift)\n",
    "    x, y = pred_series.index[-1], pred_series.values[-1]\n",
    "    plt.text(x, y, cohort, ha='left', va='center')\n",
    "\n",
    "    pred_series.plot(label=cohort, color=color)"
   ]
  },
  {
   "cell_type": "markdown",
   "id": "821724f4",
   "metadata": {},
   "source": [
    "## Simpson's Paradox\n",
    "\n",
    "Looking at birth cohorts, the composition of the population changes over time.\n",
    "The following figure shows the distribution of birth years for the respondents at the beginning of the survey in 1973, near the middle in 1990, and most recently in 2018."
   ]
  },
  {
   "cell_type": "markdown",
   "id": "e5daede3",
   "metadata": {},
   "source": [
    "## Sampling weights"
   ]
  },
  {
   "cell_type": "code",
   "execution_count": 76,
   "id": "368e17e4",
   "metadata": {},
   "outputs": [],
   "source": [
    "gss['wtssall'].describe()"
   ]
  },
  {
   "cell_type": "code",
   "execution_count": 77,
   "id": "d51e5b7c",
   "metadata": {},
   "outputs": [],
   "source": [
    "gss.groupby('year')['wtssall'].describe()"
   ]
  },
  {
   "cell_type": "code",
   "execution_count": 78,
   "id": "5802f1cc",
   "metadata": {},
   "outputs": [],
   "source": [
    "def resample_by_year(df, column='wtssall'):\n",
    "    \"\"\"Resample rows within each year using weighted sampling.\n",
    "\n",
    "    df: DataFrame\n",
    "    column: string name of weight variable\n",
    "\n",
    "    returns: DataFrame\n",
    "    \"\"\"\n",
    "    grouped = df.groupby('year')\n",
    "    samples = [group.sample(n=len(group), replace=True, weights=group[column])\n",
    "               for _, group in grouped]\n",
    "    sample = pd.concat(samples, ignore_index=True)\n",
    "    return sample"
   ]
  },
  {
   "cell_type": "code",
   "execution_count": 79,
   "id": "f209a3d2",
   "metadata": {},
   "outputs": [],
   "source": [
    "sample = resample_by_year(gss)"
   ]
  },
  {
   "cell_type": "code",
   "execution_count": 80,
   "id": "79269ff8",
   "metadata": {},
   "outputs": [],
   "source": [
    "gss['y'].mean()"
   ]
  },
  {
   "cell_type": "code",
   "execution_count": 81,
   "id": "c7fc8c5f",
   "metadata": {},
   "outputs": [],
   "source": [
    "sample['y'].mean()"
   ]
  },
  {
   "cell_type": "code",
   "execution_count": 86,
   "id": "e249a88d",
   "metadata": {},
   "outputs": [],
   "source": [
    "weighted_mean = np.average(valid['y'], weights=valid['wtssall'])\n"
   ]
  },
  {
   "cell_type": "markdown",
   "id": "15c26b32",
   "metadata": {
    "tags": []
   },
   "source": [
    "\n",
    "Copyright 2025 Allen Downey \n",
    "\n",
    "The code in this notebook is under the [MIT license](https://mit-license.org/)."
   ]
  }
 ],
 "metadata": {
  "celltoolbar": "Tags",
  "kernelspec": {
   "display_name": "Python 3 (ipykernel)",
   "language": "python",
   "name": "python3"
  },
  "language_info": {
   "codemirror_mode": {
    "name": "ipython",
    "version": 3
   },
   "file_extension": ".py",
   "mimetype": "text/x-python",
   "name": "python",
   "nbconvert_exporter": "python",
   "pygments_lexer": "ipython3",
   "version": "3.13.2"
  }
 },
 "nbformat": 4,
 "nbformat_minor": 5
}
