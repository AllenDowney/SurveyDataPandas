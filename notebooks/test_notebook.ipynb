{
 "cells": [
  {
   "cell_type": "markdown",
   "id": "4a54069c",
   "metadata": {
    "tags": []
   },
   "source": [
    "# Survey Data with Pandas and StatsModels\n",
    "\n",
    "This is a test notebook for a tutorial for PyCon 2025.\n",
    "\n",
    "If you can run the code in this notebook, your setup is working.\n",
    "\n",
    "If you are not familiar with all of the code in this notebook, don't worry -- that's what the tutorial is for!"
   ]
  },
  {
   "cell_type": "code",
   "execution_count": null,
   "id": "f60872eb",
   "metadata": {},
   "outputs": [],
   "source": [
    "import pandas as pd\n",
    "import numpy as np\n",
    "import matplotlib.pyplot as plt\n",
    "import seaborn as sns"
   ]
  },
  {
   "cell_type": "code",
   "execution_count": null,
   "id": "43b4dbf5",
   "metadata": {},
   "outputs": [],
   "source": [
    "from os.path import basename, exists\n",
    "\n",
    "def download(url):\n",
    "    filename = basename(url)\n",
    "    if not exists(filename):\n",
    "        from urllib.request import urlretrieve\n",
    "        local, _ = urlretrieve(url, filename)\n",
    "        print('Downloaded ' + local)"
   ]
  },
  {
   "cell_type": "markdown",
   "id": "f17a6470",
   "metadata": {
    "tags": []
   },
   "source": [
    "## Data\n",
    "\n",
    "We will use data from the [General Social Survey](https://gss.norc.org/) (GSS).\n",
    "The raw dataset is big, so I've prepared an extract, which the following cell downloads.\n",
    "The code to generate the extract is [in this notebook](https://github.com/AllenDowney/GssExtract/blob/main/notebooks/02_make_extract-2022_4.ipynb)."
   ]
  },
  {
   "cell_type": "code",
   "execution_count": null,
   "id": "5b8c8edb",
   "metadata": {},
   "outputs": [],
   "source": [
    "# This dataset is prepared in the GssExtract repository\n",
    "\n",
    "DATA_PATH = \"https://github.com/AllenDowney/GssExtract/raw/main/data/interim/\"\n",
    "\n",
    "filename = \"gss_extract_pacs_workshop.hdf\"\n",
    "download(DATA_PATH + filename)"
   ]
  },
  {
   "cell_type": "code",
   "execution_count": null,
   "id": "d490c7b3",
   "metadata": {},
   "outputs": [],
   "source": [
    "gss = pd.read_hdf(filename, \"gss\")\n",
    "gss.shape"
   ]
  },
  {
   "cell_type": "code",
   "execution_count": null,
   "id": "5545d19e",
   "metadata": {},
   "outputs": [],
   "source": [
    "gss['year'].value_counts().sort_index().plot(kind='bar')"
   ]
  },
  {
   "cell_type": "code",
   "execution_count": null,
   "id": "b382fdfe",
   "metadata": {},
   "outputs": [],
   "source": [
    "sns.kdeplot(gss['age'], cut=0)"
   ]
  },
  {
   "cell_type": "code",
   "execution_count": null,
   "id": "64773f4f",
   "metadata": {},
   "outputs": [],
   "source": [
    "from statsmodels.nonparametric.smoothers_lowess import lowess\n",
    "import statsmodels.formula.api as smf"
   ]
  },
  {
   "cell_type": "markdown",
   "id": "15c26b32",
   "metadata": {
    "tags": []
   },
   "source": [
    "\n",
    "Copyright 2025 Allen Downey \n",
    "\n",
    "The code in this notebook is under the [MIT license](https://mit-license.org/)."
   ]
  }
 ],
 "metadata": {
  "celltoolbar": "Tags",
  "kernelspec": {
   "display_name": "Python 3 (ipykernel)",
   "language": "python",
   "name": "python3"
  },
  "language_info": {
   "codemirror_mode": {
    "name": "ipython",
    "version": 3
   },
   "file_extension": ".py",
   "mimetype": "text/x-python",
   "name": "python",
   "nbconvert_exporter": "python",
   "pygments_lexer": "ipython3",
   "version": "3.13.2"
  }
 },
 "nbformat": 4,
 "nbformat_minor": 5
}
